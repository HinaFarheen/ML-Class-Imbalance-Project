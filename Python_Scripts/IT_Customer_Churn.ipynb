{
 "cells": [
  {
   "cell_type": "markdown",
   "id": "e600d114",
   "metadata": {},
   "source": [
    "# PREDICT THE CHURN RATE OF CUSTOMERS"
   ]
  },
  {
   "cell_type": "markdown",
   "id": "1b0d2bda",
   "metadata": {},
   "source": [
    "\n",
    "\n",
    "\n",
    "\n",
    "**Name of Dataset :** Customer Churn\n",
    "\n",
    "**Domain :** IT\n",
    "\n",
    "**Target Variable :** Churn\n",
    "\n",
    "**Size :** 7043 records and 20 variables\n",
    "\n",
    "**Kaggle link :** https://www.kaggle.com/datasets/soheiltehranipour/it-customer-churn"
   ]
  },
  {
   "cell_type": "markdown",
   "id": "32da3fec",
   "metadata": {},
   "source": [
    "\n",
    "## DATA COLLECTION"
   ]
  },
  {
   "cell_type": "code",
   "execution_count": 1,
   "id": "42738ba3",
   "metadata": {},
   "outputs": [],
   "source": [
    "import pandas as pd\n",
    "def collect(dataset):\n",
    "    #loading our dataset\n",
    "    df = pd.read_csv(dataset)\n",
    "    return df\n",
    "df_data = collect('churn.csv')"
   ]
  },
  {
   "cell_type": "code",
   "execution_count": 2,
   "id": "a943e976",
   "metadata": {},
   "outputs": [
    {
     "data": {
      "text/html": [
       "<div>\n",
       "<style scoped>\n",
       "    .dataframe tbody tr th:only-of-type {\n",
       "        vertical-align: middle;\n",
       "    }\n",
       "\n",
       "    .dataframe tbody tr th {\n",
       "        vertical-align: top;\n",
       "    }\n",
       "\n",
       "    .dataframe thead th {\n",
       "        text-align: right;\n",
       "    }\n",
       "</style>\n",
       "<table border=\"1\" class=\"dataframe\">\n",
       "  <thead>\n",
       "    <tr style=\"text-align: right;\">\n",
       "      <th></th>\n",
       "      <th>gender</th>\n",
       "      <th>SeniorCitizen</th>\n",
       "      <th>Partner</th>\n",
       "      <th>Dependents</th>\n",
       "      <th>tenure</th>\n",
       "      <th>PhoneService</th>\n",
       "      <th>MultipleLines</th>\n",
       "      <th>InternetService</th>\n",
       "      <th>OnlineSecurity</th>\n",
       "      <th>OnlineBackup</th>\n",
       "      <th>DeviceProtection</th>\n",
       "      <th>TechSupport</th>\n",
       "      <th>StreamingTV</th>\n",
       "      <th>StreamingMovies</th>\n",
       "      <th>Contract</th>\n",
       "      <th>PaperlessBilling</th>\n",
       "      <th>PaymentMethod</th>\n",
       "      <th>MonthlyCharges</th>\n",
       "      <th>TotalCharges</th>\n",
       "      <th>Churn</th>\n",
       "    </tr>\n",
       "  </thead>\n",
       "  <tbody>\n",
       "    <tr>\n",
       "      <th>0</th>\n",
       "      <td>Female</td>\n",
       "      <td>0</td>\n",
       "      <td>Yes</td>\n",
       "      <td>No</td>\n",
       "      <td>1</td>\n",
       "      <td>No</td>\n",
       "      <td>No phone service</td>\n",
       "      <td>DSL</td>\n",
       "      <td>No</td>\n",
       "      <td>Yes</td>\n",
       "      <td>No</td>\n",
       "      <td>No</td>\n",
       "      <td>No</td>\n",
       "      <td>No</td>\n",
       "      <td>Month-to-month</td>\n",
       "      <td>Yes</td>\n",
       "      <td>Electronic check</td>\n",
       "      <td>29.85</td>\n",
       "      <td>29.85</td>\n",
       "      <td>No</td>\n",
       "    </tr>\n",
       "    <tr>\n",
       "      <th>1</th>\n",
       "      <td>Male</td>\n",
       "      <td>0</td>\n",
       "      <td>No</td>\n",
       "      <td>No</td>\n",
       "      <td>34</td>\n",
       "      <td>Yes</td>\n",
       "      <td>No</td>\n",
       "      <td>DSL</td>\n",
       "      <td>Yes</td>\n",
       "      <td>No</td>\n",
       "      <td>Yes</td>\n",
       "      <td>No</td>\n",
       "      <td>No</td>\n",
       "      <td>No</td>\n",
       "      <td>One year</td>\n",
       "      <td>No</td>\n",
       "      <td>Mailed check</td>\n",
       "      <td>56.95</td>\n",
       "      <td>1889.5</td>\n",
       "      <td>No</td>\n",
       "    </tr>\n",
       "    <tr>\n",
       "      <th>2</th>\n",
       "      <td>Male</td>\n",
       "      <td>0</td>\n",
       "      <td>No</td>\n",
       "      <td>No</td>\n",
       "      <td>2</td>\n",
       "      <td>Yes</td>\n",
       "      <td>No</td>\n",
       "      <td>DSL</td>\n",
       "      <td>Yes</td>\n",
       "      <td>Yes</td>\n",
       "      <td>No</td>\n",
       "      <td>No</td>\n",
       "      <td>No</td>\n",
       "      <td>No</td>\n",
       "      <td>Month-to-month</td>\n",
       "      <td>Yes</td>\n",
       "      <td>Mailed check</td>\n",
       "      <td>53.85</td>\n",
       "      <td>108.15</td>\n",
       "      <td>Yes</td>\n",
       "    </tr>\n",
       "    <tr>\n",
       "      <th>3</th>\n",
       "      <td>Male</td>\n",
       "      <td>0</td>\n",
       "      <td>No</td>\n",
       "      <td>No</td>\n",
       "      <td>45</td>\n",
       "      <td>No</td>\n",
       "      <td>No phone service</td>\n",
       "      <td>DSL</td>\n",
       "      <td>Yes</td>\n",
       "      <td>No</td>\n",
       "      <td>Yes</td>\n",
       "      <td>Yes</td>\n",
       "      <td>No</td>\n",
       "      <td>No</td>\n",
       "      <td>One year</td>\n",
       "      <td>No</td>\n",
       "      <td>Bank transfer (automatic)</td>\n",
       "      <td>42.30</td>\n",
       "      <td>1840.75</td>\n",
       "      <td>No</td>\n",
       "    </tr>\n",
       "    <tr>\n",
       "      <th>4</th>\n",
       "      <td>Female</td>\n",
       "      <td>0</td>\n",
       "      <td>No</td>\n",
       "      <td>No</td>\n",
       "      <td>2</td>\n",
       "      <td>Yes</td>\n",
       "      <td>No</td>\n",
       "      <td>Fiber optic</td>\n",
       "      <td>No</td>\n",
       "      <td>No</td>\n",
       "      <td>No</td>\n",
       "      <td>No</td>\n",
       "      <td>No</td>\n",
       "      <td>No</td>\n",
       "      <td>Month-to-month</td>\n",
       "      <td>Yes</td>\n",
       "      <td>Electronic check</td>\n",
       "      <td>70.70</td>\n",
       "      <td>151.65</td>\n",
       "      <td>Yes</td>\n",
       "    </tr>\n",
       "    <tr>\n",
       "      <th>...</th>\n",
       "      <td>...</td>\n",
       "      <td>...</td>\n",
       "      <td>...</td>\n",
       "      <td>...</td>\n",
       "      <td>...</td>\n",
       "      <td>...</td>\n",
       "      <td>...</td>\n",
       "      <td>...</td>\n",
       "      <td>...</td>\n",
       "      <td>...</td>\n",
       "      <td>...</td>\n",
       "      <td>...</td>\n",
       "      <td>...</td>\n",
       "      <td>...</td>\n",
       "      <td>...</td>\n",
       "      <td>...</td>\n",
       "      <td>...</td>\n",
       "      <td>...</td>\n",
       "      <td>...</td>\n",
       "      <td>...</td>\n",
       "    </tr>\n",
       "    <tr>\n",
       "      <th>7038</th>\n",
       "      <td>Male</td>\n",
       "      <td>0</td>\n",
       "      <td>Yes</td>\n",
       "      <td>Yes</td>\n",
       "      <td>24</td>\n",
       "      <td>Yes</td>\n",
       "      <td>Yes</td>\n",
       "      <td>DSL</td>\n",
       "      <td>Yes</td>\n",
       "      <td>No</td>\n",
       "      <td>Yes</td>\n",
       "      <td>Yes</td>\n",
       "      <td>Yes</td>\n",
       "      <td>Yes</td>\n",
       "      <td>One year</td>\n",
       "      <td>Yes</td>\n",
       "      <td>Mailed check</td>\n",
       "      <td>84.80</td>\n",
       "      <td>1990.5</td>\n",
       "      <td>No</td>\n",
       "    </tr>\n",
       "    <tr>\n",
       "      <th>7039</th>\n",
       "      <td>Female</td>\n",
       "      <td>0</td>\n",
       "      <td>Yes</td>\n",
       "      <td>Yes</td>\n",
       "      <td>72</td>\n",
       "      <td>Yes</td>\n",
       "      <td>Yes</td>\n",
       "      <td>Fiber optic</td>\n",
       "      <td>No</td>\n",
       "      <td>Yes</td>\n",
       "      <td>Yes</td>\n",
       "      <td>No</td>\n",
       "      <td>Yes</td>\n",
       "      <td>Yes</td>\n",
       "      <td>One year</td>\n",
       "      <td>Yes</td>\n",
       "      <td>Credit card (automatic)</td>\n",
       "      <td>103.20</td>\n",
       "      <td>7362.9</td>\n",
       "      <td>No</td>\n",
       "    </tr>\n",
       "    <tr>\n",
       "      <th>7040</th>\n",
       "      <td>Female</td>\n",
       "      <td>0</td>\n",
       "      <td>Yes</td>\n",
       "      <td>Yes</td>\n",
       "      <td>11</td>\n",
       "      <td>No</td>\n",
       "      <td>No phone service</td>\n",
       "      <td>DSL</td>\n",
       "      <td>Yes</td>\n",
       "      <td>No</td>\n",
       "      <td>No</td>\n",
       "      <td>No</td>\n",
       "      <td>No</td>\n",
       "      <td>No</td>\n",
       "      <td>Month-to-month</td>\n",
       "      <td>Yes</td>\n",
       "      <td>Electronic check</td>\n",
       "      <td>29.60</td>\n",
       "      <td>346.45</td>\n",
       "      <td>No</td>\n",
       "    </tr>\n",
       "    <tr>\n",
       "      <th>7041</th>\n",
       "      <td>Male</td>\n",
       "      <td>1</td>\n",
       "      <td>Yes</td>\n",
       "      <td>No</td>\n",
       "      <td>4</td>\n",
       "      <td>Yes</td>\n",
       "      <td>Yes</td>\n",
       "      <td>Fiber optic</td>\n",
       "      <td>No</td>\n",
       "      <td>No</td>\n",
       "      <td>No</td>\n",
       "      <td>No</td>\n",
       "      <td>No</td>\n",
       "      <td>No</td>\n",
       "      <td>Month-to-month</td>\n",
       "      <td>Yes</td>\n",
       "      <td>Mailed check</td>\n",
       "      <td>74.40</td>\n",
       "      <td>306.6</td>\n",
       "      <td>Yes</td>\n",
       "    </tr>\n",
       "    <tr>\n",
       "      <th>7042</th>\n",
       "      <td>Male</td>\n",
       "      <td>0</td>\n",
       "      <td>No</td>\n",
       "      <td>No</td>\n",
       "      <td>66</td>\n",
       "      <td>Yes</td>\n",
       "      <td>No</td>\n",
       "      <td>Fiber optic</td>\n",
       "      <td>Yes</td>\n",
       "      <td>No</td>\n",
       "      <td>Yes</td>\n",
       "      <td>Yes</td>\n",
       "      <td>Yes</td>\n",
       "      <td>Yes</td>\n",
       "      <td>Two year</td>\n",
       "      <td>Yes</td>\n",
       "      <td>Bank transfer (automatic)</td>\n",
       "      <td>105.65</td>\n",
       "      <td>6844.5</td>\n",
       "      <td>No</td>\n",
       "    </tr>\n",
       "  </tbody>\n",
       "</table>\n",
       "<p>7043 rows × 20 columns</p>\n",
       "</div>"
      ],
      "text/plain": [
       "      gender  SeniorCitizen Partner Dependents  tenure PhoneService  \\\n",
       "0     Female              0     Yes         No       1           No   \n",
       "1       Male              0      No         No      34          Yes   \n",
       "2       Male              0      No         No       2          Yes   \n",
       "3       Male              0      No         No      45           No   \n",
       "4     Female              0      No         No       2          Yes   \n",
       "...      ...            ...     ...        ...     ...          ...   \n",
       "7038    Male              0     Yes        Yes      24          Yes   \n",
       "7039  Female              0     Yes        Yes      72          Yes   \n",
       "7040  Female              0     Yes        Yes      11           No   \n",
       "7041    Male              1     Yes         No       4          Yes   \n",
       "7042    Male              0      No         No      66          Yes   \n",
       "\n",
       "         MultipleLines InternetService OnlineSecurity OnlineBackup  \\\n",
       "0     No phone service             DSL             No          Yes   \n",
       "1                   No             DSL            Yes           No   \n",
       "2                   No             DSL            Yes          Yes   \n",
       "3     No phone service             DSL            Yes           No   \n",
       "4                   No     Fiber optic             No           No   \n",
       "...                ...             ...            ...          ...   \n",
       "7038               Yes             DSL            Yes           No   \n",
       "7039               Yes     Fiber optic             No          Yes   \n",
       "7040  No phone service             DSL            Yes           No   \n",
       "7041               Yes     Fiber optic             No           No   \n",
       "7042                No     Fiber optic            Yes           No   \n",
       "\n",
       "     DeviceProtection TechSupport StreamingTV StreamingMovies        Contract  \\\n",
       "0                  No          No          No              No  Month-to-month   \n",
       "1                 Yes          No          No              No        One year   \n",
       "2                  No          No          No              No  Month-to-month   \n",
       "3                 Yes         Yes          No              No        One year   \n",
       "4                  No          No          No              No  Month-to-month   \n",
       "...               ...         ...         ...             ...             ...   \n",
       "7038              Yes         Yes         Yes             Yes        One year   \n",
       "7039              Yes          No         Yes             Yes        One year   \n",
       "7040               No          No          No              No  Month-to-month   \n",
       "7041               No          No          No              No  Month-to-month   \n",
       "7042              Yes         Yes         Yes             Yes        Two year   \n",
       "\n",
       "     PaperlessBilling              PaymentMethod  MonthlyCharges TotalCharges  \\\n",
       "0                 Yes           Electronic check           29.85        29.85   \n",
       "1                  No               Mailed check           56.95       1889.5   \n",
       "2                 Yes               Mailed check           53.85       108.15   \n",
       "3                  No  Bank transfer (automatic)           42.30      1840.75   \n",
       "4                 Yes           Electronic check           70.70       151.65   \n",
       "...               ...                        ...             ...          ...   \n",
       "7038              Yes               Mailed check           84.80       1990.5   \n",
       "7039              Yes    Credit card (automatic)          103.20       7362.9   \n",
       "7040              Yes           Electronic check           29.60       346.45   \n",
       "7041              Yes               Mailed check           74.40        306.6   \n",
       "7042              Yes  Bank transfer (automatic)          105.65       6844.5   \n",
       "\n",
       "     Churn  \n",
       "0       No  \n",
       "1       No  \n",
       "2      Yes  \n",
       "3       No  \n",
       "4      Yes  \n",
       "...    ...  \n",
       "7038    No  \n",
       "7039    No  \n",
       "7040    No  \n",
       "7041   Yes  \n",
       "7042    No  \n",
       "\n",
       "[7043 rows x 20 columns]"
      ]
     },
     "execution_count": 2,
     "metadata": {},
     "output_type": "execute_result"
    }
   ],
   "source": [
    "df_data"
   ]
  },
  {
   "cell_type": "markdown",
   "id": "5bad1f2d",
   "metadata": {},
   "source": [
    "## DATA CLEANING"
   ]
  },
  {
   "cell_type": "markdown",
   "id": "5aba925c",
   "metadata": {},
   "source": [
    "### Checking Data types."
   ]
  },
  {
   "cell_type": "code",
   "execution_count": 3,
   "id": "409d8025",
   "metadata": {},
   "outputs": [
    {
     "data": {
      "text/plain": [
       "gender               object\n",
       "SeniorCitizen         int64\n",
       "Partner              object\n",
       "Dependents           object\n",
       "tenure                int64\n",
       "PhoneService         object\n",
       "MultipleLines        object\n",
       "InternetService      object\n",
       "OnlineSecurity       object\n",
       "OnlineBackup         object\n",
       "DeviceProtection     object\n",
       "TechSupport          object\n",
       "StreamingTV          object\n",
       "StreamingMovies      object\n",
       "Contract             object\n",
       "PaperlessBilling     object\n",
       "PaymentMethod        object\n",
       "MonthlyCharges      float64\n",
       "TotalCharges         object\n",
       "Churn                object\n",
       "dtype: object"
      ]
     },
     "execution_count": 3,
     "metadata": {},
     "output_type": "execute_result"
    }
   ],
   "source": [
    "def check_dtype(data):\n",
    "    #checking data types of all columns to see any inconsistency in data\n",
    "    return data.dtypes\n",
    "check_dtype(df_data)"
   ]
  },
  {
   "cell_type": "markdown",
   "id": "af9190a8",
   "metadata": {},
   "source": [
    "### Handling Missing Values."
   ]
  },
  {
   "cell_type": "code",
   "execution_count": 4,
   "id": "3295090c",
   "metadata": {
    "scrolled": false
   },
   "outputs": [
    {
     "data": {
      "text/plain": [
       "gender              0\n",
       "SeniorCitizen       0\n",
       "Partner             0\n",
       "Dependents          0\n",
       "tenure              0\n",
       "PhoneService        0\n",
       "MultipleLines       0\n",
       "InternetService     0\n",
       "OnlineSecurity      0\n",
       "OnlineBackup        0\n",
       "DeviceProtection    0\n",
       "TechSupport         0\n",
       "StreamingTV         0\n",
       "StreamingMovies     0\n",
       "Contract            0\n",
       "PaperlessBilling    0\n",
       "PaymentMethod       0\n",
       "MonthlyCharges      0\n",
       "TotalCharges        0\n",
       "Churn               0\n",
       "dtype: int64"
      ]
     },
     "execution_count": 4,
     "metadata": {},
     "output_type": "execute_result"
    }
   ],
   "source": [
    "def check_null(data):\n",
    "    # checking null values in all columns\n",
    "    return data.isnull().sum()\n",
    "check_null(df_data)"
   ]
  },
  {
   "cell_type": "markdown",
   "id": "6e5704ab",
   "metadata": {},
   "source": [
    "## DATA TRANSFORMATION"
   ]
  },
  {
   "cell_type": "code",
   "execution_count": 5,
   "id": "796053b0",
   "metadata": {},
   "outputs": [],
   "source": [
    "df_data['TotalCharges'] = pd.to_numeric(df_data['TotalCharges'],errors='coerce')"
   ]
  },
  {
   "cell_type": "code",
   "execution_count": 6,
   "id": "ec7e5877",
   "metadata": {},
   "outputs": [
    {
     "data": {
      "text/plain": [
       "11"
      ]
     },
     "execution_count": 6,
     "metadata": {},
     "output_type": "execute_result"
    }
   ],
   "source": [
    "check_null(df_data['TotalCharges'])"
   ]
  },
  {
   "cell_type": "code",
   "execution_count": 7,
   "id": "b978789d",
   "metadata": {},
   "outputs": [],
   "source": [
    "df_data.dropna(subset=['TotalCharges'], inplace=True)"
   ]
  },
  {
   "cell_type": "code",
   "execution_count": 8,
   "id": "a4241699",
   "metadata": {},
   "outputs": [],
   "source": [
    "# converting 'Region_code' to categorical data.# converting all boolean columns to categorical data."
   ]
  },
  {
   "cell_type": "code",
   "execution_count": 9,
   "id": "8b30b2e1",
   "metadata": {},
   "outputs": [],
   "source": [
    "def convert_cat(data,col):\n",
    "    for i in col:\n",
    "        data[i] = data[i].astype('object')\n",
    "    return data\n",
    "df_data=convert_cat(df_data,['SeniorCitizen'])"
   ]
  },
  {
   "cell_type": "markdown",
   "id": "bff62043",
   "metadata": {},
   "source": [
    "### Separating Categorical and Numerical data.\n",
    "\n",
    "We need to separate categorical and numerical variables to Normalize, Standardize and Perform EDA. "
   ]
  },
  {
   "cell_type": "code",
   "execution_count": 10,
   "id": "8c9d3b16",
   "metadata": {},
   "outputs": [],
   "source": [
    "def sep_col(data):\n",
    "    # this function separates categorical and numerical columns of our data.\n",
    "    categorical_columns = data.select_dtypes(include=['object']).columns\n",
    "    numerical_columns = data.select_dtypes(exclude=['object']).columns\n",
    "    return categorical_columns,numerical_columns\n",
    "categorical_columns,numerical_columns=sep_col(df_data)"
   ]
  },
  {
   "cell_type": "code",
   "execution_count": 11,
   "id": "26a12e68",
   "metadata": {},
   "outputs": [
    {
     "data": {
      "text/plain": [
       "Index(['gender', 'SeniorCitizen', 'Partner', 'Dependents', 'PhoneService',\n",
       "       'MultipleLines', 'InternetService', 'OnlineSecurity', 'OnlineBackup',\n",
       "       'DeviceProtection', 'TechSupport', 'StreamingTV', 'StreamingMovies',\n",
       "       'Contract', 'PaperlessBilling', 'PaymentMethod', 'Churn'],\n",
       "      dtype='object')"
      ]
     },
     "execution_count": 11,
     "metadata": {},
     "output_type": "execute_result"
    }
   ],
   "source": [
    "# accessing the categorical columns\n",
    "categorical_columns"
   ]
  },
  {
   "cell_type": "code",
   "execution_count": 12,
   "id": "bde6a72b",
   "metadata": {},
   "outputs": [
    {
     "data": {
      "text/plain": [
       "Index(['tenure', 'MonthlyCharges', 'TotalCharges'], dtype='object')"
      ]
     },
     "execution_count": 12,
     "metadata": {},
     "output_type": "execute_result"
    }
   ],
   "source": [
    "# # accessing the categorical columns\n",
    "numerical_columns"
   ]
  },
  {
   "cell_type": "markdown",
   "id": "82eb5653",
   "metadata": {},
   "source": [
    "### Label Encoding"
   ]
  },
  {
   "cell_type": "code",
   "execution_count": 13,
   "id": "43cfb3b9",
   "metadata": {},
   "outputs": [],
   "source": [
    "# Making all the necessary imports.\n",
    "from numpy import array\n",
    "from sklearn.preprocessing import LabelEncoder\n",
    "label_encoder=LabelEncoder()"
   ]
  },
  {
   "cell_type": "code",
   "execution_count": 14,
   "id": "e36e533a",
   "metadata": {},
   "outputs": [],
   "source": [
    "def encode(data):\n",
    "    # this function standardize all categorical columns using builtin Python sklearn's LabelEncoder.\n",
    "    for col in categorical_columns:\n",
    "        data[col]=label_encoder.fit_transform(data[col])\n",
    "    return data\n",
    "\n",
    "balanced_data1=encode(df_data)"
   ]
  },
  {
   "cell_type": "markdown",
   "id": "d11690e8",
   "metadata": {},
   "source": [
    "### Standardization (Using Z-Score)\n"
   ]
  },
  {
   "cell_type": "code",
   "execution_count": 15,
   "id": "4e92822d",
   "metadata": {},
   "outputs": [],
   "source": [
    "# Making all necessary imports\n",
    "from sklearn.preprocessing import StandardScaler\n",
    "scaler=StandardScaler()"
   ]
  },
  {
   "cell_type": "code",
   "execution_count": 16,
   "id": "4e42a4b6",
   "metadata": {},
   "outputs": [],
   "source": [
    "def standardize(data):\n",
    "    # This function standarizes all numerical columns using built in StandaedScaler\n",
    "    for col_name in numerical_columns:\n",
    "        data[col_name]=scaler.fit_transform(data[[col_name]]).round(2)\n",
    "    return data\n",
    "balanced_data1=standardize(df_data)"
   ]
  },
  {
   "cell_type": "code",
   "execution_count": 17,
   "id": "e224c0e3",
   "metadata": {},
   "outputs": [
    {
     "data": {
      "text/html": [
       "<div>\n",
       "<style scoped>\n",
       "    .dataframe tbody tr th:only-of-type {\n",
       "        vertical-align: middle;\n",
       "    }\n",
       "\n",
       "    .dataframe tbody tr th {\n",
       "        vertical-align: top;\n",
       "    }\n",
       "\n",
       "    .dataframe thead th {\n",
       "        text-align: right;\n",
       "    }\n",
       "</style>\n",
       "<table border=\"1\" class=\"dataframe\">\n",
       "  <thead>\n",
       "    <tr style=\"text-align: right;\">\n",
       "      <th></th>\n",
       "      <th>gender</th>\n",
       "      <th>SeniorCitizen</th>\n",
       "      <th>Partner</th>\n",
       "      <th>Dependents</th>\n",
       "      <th>tenure</th>\n",
       "      <th>PhoneService</th>\n",
       "      <th>MultipleLines</th>\n",
       "      <th>InternetService</th>\n",
       "      <th>OnlineSecurity</th>\n",
       "      <th>OnlineBackup</th>\n",
       "      <th>DeviceProtection</th>\n",
       "      <th>TechSupport</th>\n",
       "      <th>StreamingTV</th>\n",
       "      <th>StreamingMovies</th>\n",
       "      <th>Contract</th>\n",
       "      <th>PaperlessBilling</th>\n",
       "      <th>PaymentMethod</th>\n",
       "      <th>MonthlyCharges</th>\n",
       "      <th>TotalCharges</th>\n",
       "      <th>Churn</th>\n",
       "    </tr>\n",
       "  </thead>\n",
       "  <tbody>\n",
       "    <tr>\n",
       "      <th>0</th>\n",
       "      <td>0</td>\n",
       "      <td>0</td>\n",
       "      <td>1</td>\n",
       "      <td>0</td>\n",
       "      <td>-1.28</td>\n",
       "      <td>0</td>\n",
       "      <td>1</td>\n",
       "      <td>0</td>\n",
       "      <td>0</td>\n",
       "      <td>2</td>\n",
       "      <td>0</td>\n",
       "      <td>0</td>\n",
       "      <td>0</td>\n",
       "      <td>0</td>\n",
       "      <td>0</td>\n",
       "      <td>1</td>\n",
       "      <td>2</td>\n",
       "      <td>-1.16</td>\n",
       "      <td>-0.99</td>\n",
       "      <td>0</td>\n",
       "    </tr>\n",
       "    <tr>\n",
       "      <th>1</th>\n",
       "      <td>1</td>\n",
       "      <td>0</td>\n",
       "      <td>0</td>\n",
       "      <td>0</td>\n",
       "      <td>0.06</td>\n",
       "      <td>1</td>\n",
       "      <td>0</td>\n",
       "      <td>0</td>\n",
       "      <td>2</td>\n",
       "      <td>0</td>\n",
       "      <td>2</td>\n",
       "      <td>0</td>\n",
       "      <td>0</td>\n",
       "      <td>0</td>\n",
       "      <td>1</td>\n",
       "      <td>0</td>\n",
       "      <td>3</td>\n",
       "      <td>-0.26</td>\n",
       "      <td>-0.17</td>\n",
       "      <td>0</td>\n",
       "    </tr>\n",
       "    <tr>\n",
       "      <th>2</th>\n",
       "      <td>1</td>\n",
       "      <td>0</td>\n",
       "      <td>0</td>\n",
       "      <td>0</td>\n",
       "      <td>-1.24</td>\n",
       "      <td>1</td>\n",
       "      <td>0</td>\n",
       "      <td>0</td>\n",
       "      <td>2</td>\n",
       "      <td>2</td>\n",
       "      <td>0</td>\n",
       "      <td>0</td>\n",
       "      <td>0</td>\n",
       "      <td>0</td>\n",
       "      <td>0</td>\n",
       "      <td>1</td>\n",
       "      <td>3</td>\n",
       "      <td>-0.36</td>\n",
       "      <td>-0.96</td>\n",
       "      <td>1</td>\n",
       "    </tr>\n",
       "    <tr>\n",
       "      <th>3</th>\n",
       "      <td>1</td>\n",
       "      <td>0</td>\n",
       "      <td>0</td>\n",
       "      <td>0</td>\n",
       "      <td>0.51</td>\n",
       "      <td>0</td>\n",
       "      <td>1</td>\n",
       "      <td>0</td>\n",
       "      <td>2</td>\n",
       "      <td>0</td>\n",
       "      <td>2</td>\n",
       "      <td>2</td>\n",
       "      <td>0</td>\n",
       "      <td>0</td>\n",
       "      <td>1</td>\n",
       "      <td>0</td>\n",
       "      <td>0</td>\n",
       "      <td>-0.75</td>\n",
       "      <td>-0.20</td>\n",
       "      <td>0</td>\n",
       "    </tr>\n",
       "    <tr>\n",
       "      <th>4</th>\n",
       "      <td>0</td>\n",
       "      <td>0</td>\n",
       "      <td>0</td>\n",
       "      <td>0</td>\n",
       "      <td>-1.24</td>\n",
       "      <td>1</td>\n",
       "      <td>0</td>\n",
       "      <td>1</td>\n",
       "      <td>0</td>\n",
       "      <td>0</td>\n",
       "      <td>0</td>\n",
       "      <td>0</td>\n",
       "      <td>0</td>\n",
       "      <td>0</td>\n",
       "      <td>0</td>\n",
       "      <td>1</td>\n",
       "      <td>2</td>\n",
       "      <td>0.20</td>\n",
       "      <td>-0.94</td>\n",
       "      <td>1</td>\n",
       "    </tr>\n",
       "    <tr>\n",
       "      <th>...</th>\n",
       "      <td>...</td>\n",
       "      <td>...</td>\n",
       "      <td>...</td>\n",
       "      <td>...</td>\n",
       "      <td>...</td>\n",
       "      <td>...</td>\n",
       "      <td>...</td>\n",
       "      <td>...</td>\n",
       "      <td>...</td>\n",
       "      <td>...</td>\n",
       "      <td>...</td>\n",
       "      <td>...</td>\n",
       "      <td>...</td>\n",
       "      <td>...</td>\n",
       "      <td>...</td>\n",
       "      <td>...</td>\n",
       "      <td>...</td>\n",
       "      <td>...</td>\n",
       "      <td>...</td>\n",
       "      <td>...</td>\n",
       "    </tr>\n",
       "    <tr>\n",
       "      <th>7038</th>\n",
       "      <td>1</td>\n",
       "      <td>0</td>\n",
       "      <td>1</td>\n",
       "      <td>1</td>\n",
       "      <td>-0.34</td>\n",
       "      <td>1</td>\n",
       "      <td>2</td>\n",
       "      <td>0</td>\n",
       "      <td>2</td>\n",
       "      <td>0</td>\n",
       "      <td>2</td>\n",
       "      <td>2</td>\n",
       "      <td>2</td>\n",
       "      <td>2</td>\n",
       "      <td>1</td>\n",
       "      <td>1</td>\n",
       "      <td>3</td>\n",
       "      <td>0.66</td>\n",
       "      <td>-0.13</td>\n",
       "      <td>0</td>\n",
       "    </tr>\n",
       "    <tr>\n",
       "      <th>7039</th>\n",
       "      <td>0</td>\n",
       "      <td>0</td>\n",
       "      <td>1</td>\n",
       "      <td>1</td>\n",
       "      <td>1.61</td>\n",
       "      <td>1</td>\n",
       "      <td>2</td>\n",
       "      <td>1</td>\n",
       "      <td>0</td>\n",
       "      <td>2</td>\n",
       "      <td>2</td>\n",
       "      <td>0</td>\n",
       "      <td>2</td>\n",
       "      <td>2</td>\n",
       "      <td>1</td>\n",
       "      <td>1</td>\n",
       "      <td>1</td>\n",
       "      <td>1.28</td>\n",
       "      <td>2.24</td>\n",
       "      <td>0</td>\n",
       "    </tr>\n",
       "    <tr>\n",
       "      <th>7040</th>\n",
       "      <td>0</td>\n",
       "      <td>0</td>\n",
       "      <td>1</td>\n",
       "      <td>1</td>\n",
       "      <td>-0.87</td>\n",
       "      <td>0</td>\n",
       "      <td>1</td>\n",
       "      <td>0</td>\n",
       "      <td>2</td>\n",
       "      <td>0</td>\n",
       "      <td>0</td>\n",
       "      <td>0</td>\n",
       "      <td>0</td>\n",
       "      <td>0</td>\n",
       "      <td>0</td>\n",
       "      <td>1</td>\n",
       "      <td>2</td>\n",
       "      <td>-1.17</td>\n",
       "      <td>-0.85</td>\n",
       "      <td>0</td>\n",
       "    </tr>\n",
       "    <tr>\n",
       "      <th>7041</th>\n",
       "      <td>1</td>\n",
       "      <td>1</td>\n",
       "      <td>1</td>\n",
       "      <td>0</td>\n",
       "      <td>-1.16</td>\n",
       "      <td>1</td>\n",
       "      <td>2</td>\n",
       "      <td>1</td>\n",
       "      <td>0</td>\n",
       "      <td>0</td>\n",
       "      <td>0</td>\n",
       "      <td>0</td>\n",
       "      <td>0</td>\n",
       "      <td>0</td>\n",
       "      <td>0</td>\n",
       "      <td>1</td>\n",
       "      <td>3</td>\n",
       "      <td>0.32</td>\n",
       "      <td>-0.87</td>\n",
       "      <td>1</td>\n",
       "    </tr>\n",
       "    <tr>\n",
       "      <th>7042</th>\n",
       "      <td>1</td>\n",
       "      <td>0</td>\n",
       "      <td>0</td>\n",
       "      <td>0</td>\n",
       "      <td>1.37</td>\n",
       "      <td>1</td>\n",
       "      <td>0</td>\n",
       "      <td>1</td>\n",
       "      <td>2</td>\n",
       "      <td>0</td>\n",
       "      <td>2</td>\n",
       "      <td>2</td>\n",
       "      <td>2</td>\n",
       "      <td>2</td>\n",
       "      <td>2</td>\n",
       "      <td>1</td>\n",
       "      <td>0</td>\n",
       "      <td>1.36</td>\n",
       "      <td>2.01</td>\n",
       "      <td>0</td>\n",
       "    </tr>\n",
       "  </tbody>\n",
       "</table>\n",
       "<p>7032 rows × 20 columns</p>\n",
       "</div>"
      ],
      "text/plain": [
       "      gender  SeniorCitizen  Partner  Dependents  tenure  PhoneService  \\\n",
       "0          0              0        1           0   -1.28             0   \n",
       "1          1              0        0           0    0.06             1   \n",
       "2          1              0        0           0   -1.24             1   \n",
       "3          1              0        0           0    0.51             0   \n",
       "4          0              0        0           0   -1.24             1   \n",
       "...      ...            ...      ...         ...     ...           ...   \n",
       "7038       1              0        1           1   -0.34             1   \n",
       "7039       0              0        1           1    1.61             1   \n",
       "7040       0              0        1           1   -0.87             0   \n",
       "7041       1              1        1           0   -1.16             1   \n",
       "7042       1              0        0           0    1.37             1   \n",
       "\n",
       "      MultipleLines  InternetService  OnlineSecurity  OnlineBackup  \\\n",
       "0                 1                0               0             2   \n",
       "1                 0                0               2             0   \n",
       "2                 0                0               2             2   \n",
       "3                 1                0               2             0   \n",
       "4                 0                1               0             0   \n",
       "...             ...              ...             ...           ...   \n",
       "7038              2                0               2             0   \n",
       "7039              2                1               0             2   \n",
       "7040              1                0               2             0   \n",
       "7041              2                1               0             0   \n",
       "7042              0                1               2             0   \n",
       "\n",
       "      DeviceProtection  TechSupport  StreamingTV  StreamingMovies  Contract  \\\n",
       "0                    0            0            0                0         0   \n",
       "1                    2            0            0                0         1   \n",
       "2                    0            0            0                0         0   \n",
       "3                    2            2            0                0         1   \n",
       "4                    0            0            0                0         0   \n",
       "...                ...          ...          ...              ...       ...   \n",
       "7038                 2            2            2                2         1   \n",
       "7039                 2            0            2                2         1   \n",
       "7040                 0            0            0                0         0   \n",
       "7041                 0            0            0                0         0   \n",
       "7042                 2            2            2                2         2   \n",
       "\n",
       "      PaperlessBilling  PaymentMethod  MonthlyCharges  TotalCharges  Churn  \n",
       "0                    1              2           -1.16         -0.99      0  \n",
       "1                    0              3           -0.26         -0.17      0  \n",
       "2                    1              3           -0.36         -0.96      1  \n",
       "3                    0              0           -0.75         -0.20      0  \n",
       "4                    1              2            0.20         -0.94      1  \n",
       "...                ...            ...             ...           ...    ...  \n",
       "7038                 1              3            0.66         -0.13      0  \n",
       "7039                 1              1            1.28          2.24      0  \n",
       "7040                 1              2           -1.17         -0.85      0  \n",
       "7041                 1              3            0.32         -0.87      1  \n",
       "7042                 1              0            1.36          2.01      0  \n",
       "\n",
       "[7032 rows x 20 columns]"
      ]
     },
     "execution_count": 17,
     "metadata": {},
     "output_type": "execute_result"
    }
   ],
   "source": [
    "df_data"
   ]
  },
  {
   "cell_type": "markdown",
   "id": "479e4b41",
   "metadata": {},
   "source": [
    "## Checking if the dataset selected is Imbalanced or not.\n"
   ]
  },
  {
   "cell_type": "code",
   "execution_count": 18,
   "id": "51ca167c",
   "metadata": {},
   "outputs": [],
   "source": [
    "import numpy as np \n",
    "from scipy.stats import norm,chisquare \n",
    "import matplotlib.pyplot as plt\n",
    "X = df_data.drop(columns=['Churn'])\n",
    "y = df_data['Churn']"
   ]
  },
  {
   "cell_type": "code",
   "execution_count": 19,
   "id": "e396b5f4",
   "metadata": {},
   "outputs": [
    {
     "data": {
      "text/plain": [
       "<matplotlib.lines.Line2D at 0x22de9505890>"
      ]
     },
     "execution_count": 19,
     "metadata": {},
     "output_type": "execute_result"
    },
    {
     "data": {
      "image/png": "[encoded data removed]",
      "text/plain": [
       "<Figure size 640x480 with 1 Axes>"
      ]
     },
     "metadata": {},
     "output_type": "display_data"
    }
   ],
   "source": [
    "freqs =pd.Series(y).value_counts() /len(y) \n",
    "std_errors = np.sqrt(freqs*(1-freqs)/len(y)) \n",
    "expected_frequency = 1/len(np.unique(y)) \n",
    "freqs.plot(kind='bar',yerr=std_errors*1.96) \n",
    "plt.axhline(expected_frequency,color='red',linestyle='--')\n"
   ]
  },
  {
   "cell_type": "markdown",
   "id": "4d1ce06c",
   "metadata": {},
   "source": [
    "Since the frequency for both the classes(length of the bar) is far from what we expected (the red line), we are only 5% confident that the dataset is balanced which is quite less. Hence we can say that the dataset is imbalanced and we can further in our evaluation."
   ]
  },
  {
   "cell_type": "markdown",
   "id": "3542f163",
   "metadata": {},
   "source": [
    "# BASELINE EXECUTION"
   ]
  },
  {
   "cell_type": "markdown",
   "id": "edb58360",
   "metadata": {},
   "source": [
    "### 1. Gradient Boosting Machine"
   ]
  },
  {
   "cell_type": "code",
   "execution_count": 20,
   "id": "e963aecb",
   "metadata": {},
   "outputs": [
    {
     "name": "stdout",
     "output_type": "stream",
     "text": [
      "Train Accuracy: 0.9613652524294857\n",
      "Validation Accuracy: 0.7773826458036984\n",
      "Test Accuracy: 0.775408670931059\n",
      "\n",
      "\n",
      "Train Precision: 0.9611852580514693\n",
      "Validation Precision: 0.7672144560680043\n",
      "Test Precision: 0.7685864370245793\n",
      "\n",
      "\n",
      "Train Recall: 0.9613652524294857\n",
      "Validation Recall: 0.7773826458036984\n",
      "Test Recall: 0.775408670931059\n",
      "\n",
      "\n",
      "Train F1 Score: 0.9612392877026472\n",
      "Validation F1 Score: 0.770630671449597\n",
      "Test F1 Score: 0.7714342608301896\n",
      "\n",
      "\n",
      "AUC-ROC: 0.8175566364429405\n",
      "AUC-PR: 0.6011509334532241\n"
     ]
    }
   ],
   "source": [
    "import numpy as np\n",
    "import pandas as pd\n",
    "from sklearn.model_selection import train_test_split\n",
    "import xgboost as xgb\n",
    "from sklearn.metrics import precision_score, recall_score, f1_score, roc_auc_score, roc_curve, auc, precision_recall_curve, accuracy_score\n",
    "\n",
    "def fit_model_GBM(data, target):\n",
    "    \n",
    "    # Specify the name of your target variable\n",
    "    target_column_name = target\n",
    "\n",
    "    # Split the data into features (X) and the target variable (y)\n",
    "    X = data.drop(columns=[target])\n",
    "    y = data[target_column_name]  # Use the column name directly\n",
    "\n",
    "    # The data is split into training (60%), validation (20%), and test (20%) manually.\n",
    "    train_size = 0.6\n",
    "    validation_size = 0.2\n",
    "    test_size = 0.2\n",
    "\n",
    "    X_train, X_temp, y_train, y_temp = train_test_split(X, y, test_size=1 - train_size, random_state=42)\n",
    "    X_val, X_test, y_val, y_test = train_test_split(X_temp, y_temp, test_size=test_size / (validation_size + test_size), random_state=42)\n",
    "\n",
    "    # Initialize the XGBoost classifier\n",
    "    xgb_classifier = xgb.XGBClassifier(n_estimators=100, max_depth=6, random_state=42)\n",
    "\n",
    "    # Fit the model to the training data\n",
    "    xgb_classifier.fit(X_train, y_train)\n",
    "\n",
    "    # Evaluate the model's performance on the train set\n",
    "    y_train_pred = xgb_classifier.predict(X_train)\n",
    "    precision_train = precision_score(y_train, y_train_pred,average='weighted')\n",
    "    recall_train = recall_score(y_train, y_train_pred,average='weighted')\n",
    "    f1_train = f1_score(y_train, y_train_pred,average='weighted')\n",
    "    accuracy_train = accuracy_score(y_train, y_train_pred)\n",
    "\n",
    "    # Make predictions on the validation set\n",
    "    y_val_pred = xgb_classifier.predict(X_val)\n",
    "\n",
    "    # Evaluate the model's performance on the validation set\n",
    "    precision_val = precision_score(y_val, y_val_pred,average='weighted')\n",
    "    recall_val = recall_score(y_val, y_val_pred,average='weighted')\n",
    "    f1_val = f1_score(y_val, y_val_pred,average='weighted')\n",
    "    accuracy_val = accuracy_score(y_val, y_val_pred)\n",
    "\n",
    "    # Make predictions on the test set\n",
    "    y_test_pred = xgb_classifier.predict(X_test)\n",
    "\n",
    "    # Evaluate the model's performance on the test set\n",
    "    precision_test = precision_score(y_test, y_test_pred,average='weighted', zero_division=1)\n",
    "    recall_test = recall_score(y_test, y_test_pred,average='weighted')\n",
    "    f1_test = f1_score(y_test, y_test_pred,average='weighted')\n",
    "    accuracy_test = accuracy_score(y_test, y_test_pred)\n",
    "\n",
    "    # Calculate AUC-ROC\n",
    "    y_test_proba = xgb_classifier.predict_proba(X_test)[:, 1]  # Probability of positive class\n",
    "    auc_roc = roc_auc_score(y_test, y_test_proba)\n",
    "\n",
    "    # Calculate AUC-PR\n",
    "    precision, recall, _ = precision_recall_curve(y_test, y_test_proba)\n",
    "    auc_pr = auc(recall, precision)\n",
    "    \n",
    "    print(f\"Train Accuracy: {accuracy_train}\")\n",
    "    print(f\"Validation Accuracy: {accuracy_val}\")\n",
    "    print(f\"Test Accuracy: {accuracy_test}\")\n",
    "    print('\\n')\n",
    "    print(f\"Train Precision: {precision_train}\")\n",
    "    print(f\"Validation Precision: {precision_val}\")\n",
    "    print(f\"Test Precision: {precision_test}\")\n",
    "    print('\\n')\n",
    "    print(f\"Train Recall: {recall_train}\")\n",
    "    print(f\"Validation Recall: {recall_val}\")\n",
    "    print(f\"Test Recall: {recall_test}\")\n",
    "    print('\\n')\n",
    "    print(f\"Train F1 Score: {f1_train}\")\n",
    "    print(f\"Validation F1 Score: {f1_val}\")\n",
    "    print(f\"Test F1 Score: {f1_test}\")\n",
    "    print('\\n')\n",
    "    print(f\"AUC-ROC: {auc_roc}\")\n",
    "    print(f\"AUC-PR: {auc_pr}\")\n",
    "\n",
    "# Example usage\n",
    "fit_model_GBM(df_data, 'Churn')\n"
   ]
  },
  {
   "cell_type": "markdown",
   "id": "5d8222ec",
   "metadata": {},
   "source": [
    "### 2. Logistic Regression"
   ]
  },
  {
   "cell_type": "code",
   "execution_count": 21,
   "id": "878f0e3d",
   "metadata": {},
   "outputs": [
    {
     "name": "stdout",
     "output_type": "stream",
     "text": [
      "Train Accuracy: 0.8018487793315952\n",
      "Validation Accuracy: 0.8008534850640113\n",
      "Test Accuracy: 0.8052594171997157\n",
      "\n",
      "\n",
      "Train Precision: 0.7943115614065004\n",
      "Validation Precision: 0.7894535429700776\n",
      "Test Precision: 0.7990432529797418\n",
      "\n",
      "\n",
      "Train Recall: 0.8018487793315952\n",
      "Validation Recall: 0.8008534850640113\n",
      "Test Recall: 0.8052594171997157\n",
      "\n",
      "\n",
      "Train F1 Score: 0.7966285279463744\n",
      "Validation F1 Score: 0.7905191892933892\n",
      "Test F1 Score: 0.8013937981852302\n",
      "\n",
      "\n",
      "AUC-ROC: 0.850341008221206\n",
      "AUC-PR: 0.6558359779878646\n"
     ]
    }
   ],
   "source": [
    "import numpy as np\n",
    "import pandas as pd\n",
    "from sklearn.model_selection import train_test_split\n",
    "from sklearn.linear_model import LogisticRegression\n",
    "from sklearn.metrics import precision_score, recall_score, f1_score, roc_auc_score, precision_recall_curve, auc, accuracy_score\n",
    "\n",
    "def fit_model_LR(data, target):\n",
    "    \n",
    "    # Specify the name of your target variable\n",
    "    target_column_name = target\n",
    "\n",
    "    # Split the data into features (X) and the target variable (y)\n",
    "    X = data.drop(columns=[target])\n",
    "    y = data[target_column_name]  # Use the column name directly\n",
    "\n",
    "    # The data is split into training (60%), validation (20%), and test (20%) manually.\n",
    "    train_size = 0.6\n",
    "    validation_size = 0.2\n",
    "    test_size = 0.2\n",
    "\n",
    "    X_train, X_temp, y_train, y_temp = train_test_split(X, y, test_size=1 - train_size, random_state=42)\n",
    "    X_val, X_test, y_val, y_test = train_test_split(X_temp, y_temp, test_size=test_size / (validation_size + test_size), random_state=42)\n",
    "\n",
    "    # Instantiate the Logistic Regression model\n",
    "    log_reg_model = LogisticRegression(max_iter=1000)\n",
    "\n",
    "    # Fit the model to the training data\n",
    "    log_reg_model.fit(X_train, y_train)\n",
    "\n",
    "    # Evaluate the model's performance on the train set\n",
    "    y_train_pred = log_reg_model.predict(X_train)\n",
    "    accuracy_train = accuracy_score(y_train, y_train_pred)\n",
    "    precision_train = precision_score(y_train, y_train_pred, average='weighted')\n",
    "    recall_train = recall_score(y_train, y_train_pred, average='weighted')\n",
    "    f1_train = f1_score(y_train, y_train_pred, average='weighted')\n",
    "\n",
    "    # Make predictions on the validation set\n",
    "    y_val_pred = log_reg_model.predict(X_val)\n",
    "\n",
    "    # Evaluate the model's performance on the validation set\n",
    "    accuracy_val = accuracy_score(y_val, y_val_pred)\n",
    "    precision_val = precision_score(y_val, y_val_pred, average='weighted')\n",
    "    recall_val = recall_score(y_val, y_val_pred, average='weighted')\n",
    "    f1_val = f1_score(y_val, y_val_pred, average='weighted')\n",
    "\n",
    "    # Make predictions on the test set\n",
    "    y_test_pred = log_reg_model.predict(X_test)\n",
    "\n",
    "    # Evaluate the model's performance on the test set\n",
    "    accuracy_test = accuracy_score(y_test, y_test_pred)\n",
    "    precision_test = precision_score(y_test, y_test_pred, average='weighted')\n",
    "    recall_test = recall_score(y_test, y_test_pred, average='weighted')\n",
    "    f1_test = f1_score(y_test, y_test_pred, average='weighted')\n",
    "\n",
    "    # Calculate AUC-ROC\n",
    "    y_test_proba = log_reg_model.predict_proba(X_test)[:, 1]  # Probability of positive class\n",
    "    auc_roc = roc_auc_score(y_test, y_test_proba)\n",
    "\n",
    "    # Calculate AUC-PR\n",
    "    precision, recall, _ = precision_recall_curve(y_test, y_test_proba)\n",
    "    auc_pr = auc(recall, precision)\n",
    "    \n",
    "    print(f\"Train Accuracy: {accuracy_train}\")\n",
    "    print(f\"Validation Accuracy: {accuracy_val}\")\n",
    "    print(f\"Test Accuracy: {accuracy_test}\")\n",
    "    print('\\n')\n",
    "    print(f\"Train Precision: {precision_train}\")\n",
    "    print(f\"Validation Precision: {precision_val}\")\n",
    "    print(f\"Test Precision: {precision_test}\")\n",
    "    print('\\n')\n",
    "    print(f\"Train Recall: {recall_train}\")\n",
    "    print(f\"Validation Recall: {recall_val}\")\n",
    "    print(f\"Test Recall: {recall_test}\")\n",
    "    print('\\n')\n",
    "    print(f\"Train F1 Score: {f1_train}\")\n",
    "    print(f\"Validation F1 Score: {f1_val}\")\n",
    "    print(f\"Test F1 Score: {f1_test}\")\n",
    "    print('\\n')\n",
    "    print(f\"AUC-ROC: {auc_roc}\")\n",
    "    print(f\"AUC-PR: {auc_pr}\")\n",
    "\n",
    "fit_model_LR(df_data, 'Churn')"
   ]
  },
  {
   "cell_type": "markdown",
   "id": "0820084f",
   "metadata": {},
   "source": [
    "### 3. Decision Trees"
   ]
  },
  {
   "cell_type": "code",
   "execution_count": 22,
   "id": "dfbe9711",
   "metadata": {},
   "outputs": [
    {
     "name": "stdout",
     "output_type": "stream",
     "text": [
      "Train Accuracy: 0.9940744252192463\n",
      "Validation Accuracy: 0.7155049786628734\n",
      "Test Accuracy: 0.7313432835820896\n",
      "\n",
      "\n",
      "Train Precision: 0.9940872958652445\n",
      "Validation Precision: 0.7155049786628734\n",
      "Test Precision: 0.7392926727899082\n",
      "\n",
      "\n",
      "Train Recall: 0.9940744252192463\n",
      "Validation Recall: 0.7155049786628734\n",
      "Test Recall: 0.7313432835820896\n",
      "\n",
      "\n",
      "Train F1 Score: 0.9940602129959448\n",
      "Validation F1 Score: 0.7155049786628734\n",
      "Test F1 Score: 0.7349404580595564\n",
      "\n",
      "\n",
      "AUC-ROC: 0.6681633138597372\n",
      "AUC-PR: 0.5613711488204454\n"
     ]
    }
   ],
   "source": [
    "import numpy as np\n",
    "import pandas as pd\n",
    "from sklearn.model_selection import train_test_split\n",
    "from sklearn.tree import DecisionTreeClassifier\n",
    "from sklearn.metrics import precision_score, recall_score, f1_score, roc_auc_score, accuracy_score\n",
    "\n",
    "def fit_model_DT(data, target):\n",
    "    \n",
    "    # Specify the name of your target variable\n",
    "    target_column_name = target\n",
    "\n",
    "    # Split the data into features (X) and the target variable (y)\n",
    "    X = data.drop(columns=[target])\n",
    "    y = data[target_column_name]  # Use the column name directly\n",
    "\n",
    "    # The data is spit into training (60%), validation (20%), and test (20%) manually.\n",
    "    train_size = 0.6\n",
    "    validation_size = 0.2\n",
    "    test_size = 0.2\n",
    "\n",
    "    X_train, X_temp, y_train, y_temp = train_test_split(X, y, test_size=1 - train_size, random_state=42)\n",
    "    X_val, X_test, y_val, y_test = train_test_split(X_temp, y_temp, test_size=test_size / (validation_size + test_size), random_state=42)\n",
    "\n",
    "    # Instantiate the Decision Tree classifier\n",
    "    dt_model = DecisionTreeClassifier(random_state=42)\n",
    "\n",
    "    # Fit the model to the training data\n",
    "    dt_model.fit(X_train, y_train)\n",
    "\n",
    "    # Evaluate the model's performance on the train set\n",
    "    y_train_pred = dt_model.predict(X_train)\n",
    "    precision_train = precision_score(y_train, y_train_pred,average='weighted')\n",
    "    recall_train = recall_score(y_train, y_train_pred,average='weighted')\n",
    "    f1_train = f1_score(y_train, y_train_pred,average='weighted')\n",
    "    accuracy_train = accuracy_score(y_train, y_train_pred)\n",
    "\n",
    "    # Make predictions on the validation set\n",
    "    y_val_pred = dt_model.predict(X_val)\n",
    "\n",
    "    # Evaluate the model's performance on the validation set\n",
    "    precision_val = precision_score(y_val, y_val_pred, average='weighted')\n",
    "    recall_val = recall_score(y_val, y_val_pred, average='weighted')\n",
    "    f1_val = f1_score(y_val, y_val_pred, average='weighted')\n",
    "    accuracy_val = accuracy_score(y_val, y_val_pred)\n",
    "\n",
    "    # Make predictions on the test set\n",
    "    y_test_pred = dt_model.predict(X_test)\n",
    "\n",
    "    # Evaluate the model's performance on the test set\n",
    "    precision_test = precision_score(y_test, y_test_pred, average='weighted')\n",
    "    recall_test = recall_score(y_test, y_test_pred,  average='weighted')\n",
    "    f1_test = f1_score(y_test, y_test_pred,  average='weighted')\n",
    "    accuracy_test = accuracy_score(y_test, y_test_pred)\n",
    "\n",
    "    # Calculate AUC-ROC\n",
    "    y_test_proba = dt_model.predict_proba(X_test)[:, 1]  # Probability of positive class\n",
    "    auc_roc = roc_auc_score(y_test, y_test_proba)\n",
    "\n",
    "    # Calculate AUC-PR\n",
    "    precision, recall, _ = precision_recall_curve(y_test, y_test_proba)\n",
    "    auc_pr = auc(recall, precision)\n",
    "\n",
    "    print(f\"Train Accuracy: {accuracy_train}\")\n",
    "    print(f\"Validation Accuracy: {accuracy_val}\")\n",
    "    print(f\"Test Accuracy: {accuracy_test}\")\n",
    "    print('\\n')\n",
    "    print(f\"Train Precision: {precision_train}\")\n",
    "    print(f\"Validation Precision: {precision_val}\")\n",
    "    print(f\"Test Precision: {precision_test}\")\n",
    "    print('\\n')\n",
    "    print(f\"Train Recall: {recall_train}\")\n",
    "    print(f\"Validation Recall: {recall_val}\")\n",
    "    print(f\"Test Recall: {recall_test}\")\n",
    "    print('\\n')\n",
    "    print(f\"Train F1 Score: {f1_train}\")\n",
    "    print(f\"Validation F1 Score: {f1_val}\")\n",
    "    print(f\"Test F1 Score: {f1_test}\")\n",
    "    print('\\n')\n",
    "    print(f\"AUC-ROC: {auc_roc}\")\n",
    "    print(f\"AUC-PR: {auc_pr}\")\n",
    "\n",
    "# Example usage\n",
    "fit_model_DT(df_data, 'Churn')\n"
   ]
  },
  {
   "cell_type": "markdown",
   "id": "999cd9ed",
   "metadata": {},
   "source": [
    "### 4. Random Forest"
   ]
  },
  {
   "cell_type": "code",
   "execution_count": 23,
   "id": "20a51ebc",
   "metadata": {},
   "outputs": [
    {
     "name": "stdout",
     "output_type": "stream",
     "text": [
      "Train Accuracy: 0.8876511021569092\n",
      "Validation Accuracy: 0.7951635846372689\n",
      "Test Accuracy: 0.7938877043354655\n",
      "\n",
      "\n",
      "Train Precision: 0.8852502763525912\n",
      "Validation Precision: 0.7828807812059674\n",
      "Test Precision: 0.7851904816580981\n",
      "\n",
      "\n",
      "Train Recall: 0.8876511021569092\n",
      "Validation Recall: 0.7951635846372689\n",
      "Test Recall: 0.7938877043354655\n",
      "\n",
      "\n",
      "Train F1 Score: 0.8848117683536236\n",
      "Validation F1 Score: 0.7842603372821292\n",
      "Test F1 Score: 0.7881773170395359\n",
      "\n",
      "\n",
      "AUC-ROC: 0.8353036030558566\n",
      "AUC-PR: 0.6473418668445394\n"
     ]
    }
   ],
   "source": [
    "import numpy as np\n",
    "import pandas as pd\n",
    "from sklearn.model_selection import train_test_split\n",
    "from sklearn.ensemble import RandomForestClassifier\n",
    "from sklearn.metrics import precision_score, recall_score, f1_score, roc_auc_score, roc_curve, auc, precision_recall_curve, accuracy_score\n",
    "\n",
    "def fit_model_RF(data, target):\n",
    "    \n",
    "    # Specify the name of your target variable\n",
    "    target_column_name = target\n",
    "\n",
    "    # Split the data into features (X) and the target variable (y)\n",
    "    X = data.drop(columns=[target])\n",
    "    y = data[target_column_name]  # Use the column name directly\n",
    "\n",
    "    # The data is split into training (60%), validation (20%), and test (20%) manually.\n",
    "    train_size = 0.6\n",
    "    validation_size = 0.2\n",
    "    test_size = 0.2\n",
    "\n",
    "    X_train, X_temp, y_train, y_temp = train_test_split(X, y, test_size=1 - train_size, random_state=42)\n",
    "    X_val, X_test, y_val, y_test = train_test_split(X_temp, y_temp, test_size=test_size / (validation_size + test_size), random_state=42)\n",
    "\n",
    "    # Instantiate the Random Forest model\n",
    "    rf_model = RandomForestClassifier(n_estimators=30, max_depth=10, max_samples=0.8, n_jobs=-1, random_state=42)\n",
    "\n",
    "    # Fit the model to the training data\n",
    "    rf_model.fit(X_train, y_train)\n",
    "\n",
    "    # Evaluate the model's performance on the train set\n",
    "    y_train_pred = rf_model.predict(X_train)\n",
    "    precision_train = precision_score(y_train, y_train_pred,average='weighted')\n",
    "    recall_train = recall_score(y_train, y_train_pred,average='weighted')\n",
    "    f1_train = f1_score(y_train, y_train_pred,average='weighted')\n",
    "    accuracy_train = accuracy_score(y_train, y_train_pred)\n",
    "\n",
    "    # Make predictions on the validation set\n",
    "    y_val_pred = rf_model.predict(X_val)\n",
    "\n",
    "    # Evaluate the model's performance on the validation set\n",
    "    precision_val = precision_score(y_val, y_val_pred,average='weighted')\n",
    "    recall_val = recall_score(y_val, y_val_pred,average='weighted')\n",
    "    f1_val = f1_score(y_val, y_val_pred,average='weighted')\n",
    "    accuracy_val = accuracy_score(y_val, y_val_pred)\n",
    "\n",
    "    # Make predictions on the test set\n",
    "    y_test_pred = rf_model.predict(X_test)\n",
    "\n",
    "    # Evaluate the model's performance on the test set\n",
    "    precision_test = precision_score(y_test, y_test_pred,average='weighted', zero_division=1)\n",
    "    recall_test = recall_score(y_test, y_test_pred,average='weighted')\n",
    "    f1_test = f1_score(y_test, y_test_pred,average='weighted')\n",
    "    accuracy_test = accuracy_score(y_test, y_test_pred)\n",
    "\n",
    "    # Calculate AUC-ROC\n",
    "    y_test_proba = rf_model.predict_proba(X_test)[:, 1]  # Probability of positive class\n",
    "    auc_roc = roc_auc_score(y_test, y_test_proba)\n",
    "\n",
    "    # Calculate AUC-PR\n",
    "    precision, recall, _ = precision_recall_curve(y_test, y_test_proba)\n",
    "    auc_pr = auc(recall, precision)\n",
    "    \n",
    "    print(f\"Train Accuracy: {accuracy_train}\")\n",
    "    print(f\"Validation Accuracy: {accuracy_val}\")\n",
    "    print(f\"Test Accuracy: {accuracy_test}\")\n",
    "    print('\\n')\n",
    "    print(f\"Train Precision: {precision_train}\")\n",
    "    print(f\"Validation Precision: {precision_val}\")\n",
    "    print(f\"Test Precision: {precision_test}\")\n",
    "    print('\\n')\n",
    "    print(f\"Train Recall: {recall_train}\")\n",
    "    print(f\"Validation Recall: {recall_val}\")\n",
    "    print(f\"Test Recall: {recall_test}\")\n",
    "    print('\\n')\n",
    "    print(f\"Train F1 Score: {f1_train}\")\n",
    "    print(f\"Validation F1 Score: {f1_val}\")\n",
    "    print(f\"Test F1 Score: {f1_test}\")\n",
    "    print('\\n')\n",
    "    print(f\"AUC-ROC: {auc_roc}\")\n",
    "    print(f\"AUC-PR: {auc_pr}\")\n",
    "\n",
    "# Example usage\n",
    "fit_model_RF(df_data, 'Churn')\n"
   ]
  },
  {
   "cell_type": "markdown",
   "id": "c85bc45c",
   "metadata": {},
   "source": [
    "### 5. MultiLayer Perceptron"
   ]
  },
  {
   "cell_type": "code",
   "execution_count": 24,
   "id": "c9ac1afe",
   "metadata": {},
   "outputs": [
    {
     "name": "stdout",
     "output_type": "stream",
     "text": [
      "Train Accuracy: 0.7940270206210003\n",
      "Validation Accuracy: 0.7972972972972973\n",
      "Test Accuracy: 0.8045486851457001\n",
      "\n",
      "\n",
      "Train Precision: 0.7864510793086998\n",
      "Validation Precision: 0.7860698954271422\n",
      "Test Precision: 0.7998525738040455\n",
      "\n",
      "\n",
      "Train Recall: 0.7940270206210003\n",
      "Validation Recall: 0.7972972972972973\n",
      "Test Recall: 0.8045486851457001\n",
      "\n",
      "\n",
      "Train F1 Score: 0.7890041252560671\n",
      "Validation F1 Score: 0.7879680207811663\n",
      "Test F1 Score: 0.8018083680087911\n",
      "\n",
      "\n",
      "AUC-ROC: 0.8480676200798329\n",
      "AUC-PR: 0.650200437341657\n"
     ]
    }
   ],
   "source": [
    "import numpy as np\n",
    "import pandas as pd\n",
    "from sklearn.model_selection import train_test_split\n",
    "from sklearn.neural_network import MLPClassifier\n",
    "from sklearn.metrics import precision_score, recall_score, f1_score, roc_auc_score, precision_recall_curve, auc, accuracy_score\n",
    "\n",
    "def fit_model_MLP(data, target):\n",
    "    \n",
    "    # Specify the name of your target variable\n",
    "    target_column_name = target\n",
    "\n",
    "    # Split the data into features (X) and the target variable (y)\n",
    "    X = data.drop(columns=[target])\n",
    "    y = data[target_column_name]  # Use the column name directly\n",
    "\n",
    "    # The data is split into training (60%), validation (20%), and test (20%) manually.\n",
    "    train_size = 0.6\n",
    "    validation_size = 0.2\n",
    "    test_size = 0.2\n",
    "\n",
    "    X_train, X_temp, y_train, y_temp = train_test_split(X, y, test_size=1 - train_size, random_state=42)\n",
    "    X_val, X_test, y_val, y_test = train_test_split(X_temp, y_temp, test_size=test_size / (validation_size + test_size), random_state=42)\n",
    "\n",
    "    # Instantiate the MLP model\n",
    "    mlp_model = MLPClassifier(hidden_layer_sizes=(100,), activation='logistic', solver='sgd', learning_rate='constant', learning_rate_init=0.01, max_iter=1000)\n",
    "\n",
    "    # Fit the model to the training data\n",
    "    mlp_model.fit(X_train, y_train)\n",
    "\n",
    "    # Evaluate the model's performance on the train set\n",
    "    y_train_pred = mlp_model.predict(X_train)\n",
    "    precision_train = precision_score(y_train, y_train_pred, average='weighted')\n",
    "    recall_train = recall_score(y_train, y_train_pred, average='weighted')\n",
    "    f1_train = f1_score(y_train, y_train_pred, average='weighted')\n",
    "    accuracy_train = accuracy_score(y_train, y_train_pred)\n",
    "\n",
    "    # Make predictions on the validation set\n",
    "    y_val_pred = mlp_model.predict(X_val)\n",
    "\n",
    "    # Evaluate the model's performance on the validation set\n",
    "    precision_val = precision_score(y_val, y_val_pred, average='weighted')\n",
    "    recall_val = recall_score(y_val, y_val_pred, average='weighted')\n",
    "    f1_val = f1_score(y_val, y_val_pred, average='weighted')\n",
    "    accuracy_val = accuracy_score(y_val, y_val_pred)\n",
    "\n",
    "    # Make predictions on the test set\n",
    "    y_test_pred = mlp_model.predict(X_test)\n",
    "\n",
    "    # Evaluate the model's performance on the test set\n",
    "    precision_test = precision_score(y_test, y_test_pred, average='weighted')\n",
    "    recall_test = recall_score(y_test, y_test_pred, average='weighted')\n",
    "    f1_test = f1_score(y_test, y_test_pred, average='weighted')\n",
    "    accuracy_test = accuracy_score(y_test, y_test_pred)\n",
    "\n",
    "    # Calculate AUC-ROC\n",
    "    y_test_proba = mlp_model.predict_proba(X_test)[:, 1]  # Probability of positive class\n",
    "    auc_roc = roc_auc_score(y_test, y_test_proba)\n",
    "    \n",
    "    # Calculate AUC-PR\n",
    "    precision, recall, _ = precision_recall_curve(y_test, y_test_proba)\n",
    "    auc_pr = auc(recall, precision)\n",
    "    \n",
    "    print(f\"Train Accuracy: {accuracy_train}\")\n",
    "    print(f\"Validation Accuracy: {accuracy_val}\")\n",
    "    print(f\"Test Accuracy: {accuracy_test}\")\n",
    "    print('\\n')\n",
    "    print(f\"Train Precision: {precision_train}\")\n",
    "    print(f\"Validation Precision: {precision_val}\")\n",
    "    print(f\"Test Precision: {precision_test}\")\n",
    "    print('\\n')\n",
    "    print(f\"Train Recall: {recall_train}\")\n",
    "    print(f\"Validation Recall: {recall_val}\")\n",
    "    print(f\"Test Recall: {recall_test}\")\n",
    "    print('\\n')\n",
    "    print(f\"Train F1 Score: {f1_train}\")\n",
    "    print(f\"Validation F1 Score: {f1_val}\")\n",
    "    print(f\"Test F1 Score: {f1_test}\")\n",
    "    print('\\n')\n",
    "    print(f\"AUC-ROC: {auc_roc}\")\n",
    "    print(f\"AUC-PR: {auc_pr}\")\n",
    "\n",
    "# Example usage\n",
    "fit_model_MLP(df_data, 'Churn')\n"
   ]
  },
  {
   "cell_type": "markdown",
   "id": "244477ed",
   "metadata": {},
   "source": [
    "**Comment :** \n",
    "\n",
    "Despite the fact that the dataset is quite imbalanced, we see a considerably good performance of Logistic Regression and Random Forest. This shows that numbers can be misleading since an imbalanced dataset favors majority class and too good of a score does not indicate a good model. This is verified by looking at Low AUC-ROC and low AUC-PR scores through out. \n",
    "\n",
    "XGBoost, Decision Trees and Multilayer perceptron overfitted on training data which is understandable however, the performance significantly dropped in traning and validation datasets. \n",
    "\n",
    "Hence none of the models performed well and it goes on to show that handling imbalance is crucial in creating a well generalised model.\n",
    "\n"
   ]
  },
  {
   "cell_type": "markdown",
   "id": "ef19fd2b",
   "metadata": {},
   "source": [
    "### Balancing the Dataset:"
   ]
  },
  {
   "cell_type": "markdown",
   "id": "6ec8f73a",
   "metadata": {},
   "source": [
    "# CI Technique 1: RANDOM  OVERSAMPLING"
   ]
  },
  {
   "cell_type": "code",
   "execution_count": 21,
   "id": "095271dd",
   "metadata": {},
   "outputs": [
    {
     "name": "stdout",
     "output_type": "stream",
     "text": [
      "0    5163\n",
      "1    5163\n",
      "Name: Churn, dtype: int64\n"
     ]
    }
   ],
   "source": [
    "import pandas as pd\n",
    "import pandas as pd\n",
    "from sklearn.utils import resample\n",
    "\n",
    "# Random oversampling\n",
    "def random_oversample(data, label):\n",
    "    # Separate majority and minority classes\n",
    "    majority_class = data[data[label] == 0]\n",
    "    minority_class = data[data[label] == 1]\n",
    "    \n",
    "    # Upsample minority class\n",
    "    minority_upsampled = resample(minority_class, \n",
    "                                 replace=True,     # sample with replacement\n",
    "                                 n_samples=len(majority_class),  # to match majority class\n",
    "                                 random_state=42) # reproducible results\n",
    "    \n",
    "    # Combine majority class with upsampled minority class\n",
    "    upsampled_data = pd.concat([majority_class, minority_upsampled])\n",
    "    \n",
    "    return upsampled_data\n",
    "\n",
    "# Apply random oversampling\n",
    "balanced_data1 = random_oversample(df_data, 'Churn')\n",
    "\n",
    "# Check the class distribution\n",
    "print(balanced_data1['Churn'].value_counts())\n",
    "\n"
   ]
  },
  {
   "cell_type": "markdown",
   "id": "2891501e",
   "metadata": {},
   "source": [
    "By Random Oversampling the size of dataset from 7000+ rows to 10000+ rows."
   ]
  },
  {
   "cell_type": "code",
   "execution_count": 22,
   "id": "d1110073",
   "metadata": {},
   "outputs": [],
   "source": [
    "import numpy as np \n",
    "from scipy.stats import norm,chisquare \n",
    "import matplotlib.pyplot as plt\n",
    "X = balanced_data1.drop(columns=['Churn'])\n",
    "y = balanced_data1['Churn']"
   ]
  },
  {
   "cell_type": "markdown",
   "id": "f990bf99",
   "metadata": {},
   "source": [
    "### Checking if the dataset has become balanced"
   ]
  },
  {
   "cell_type": "code",
   "execution_count": 27,
   "id": "fd67a694",
   "metadata": {},
   "outputs": [
    {
     "data": {
      "text/plain": [
       "<matplotlib.lines.Line2D at 0x26a0bf55310>"
      ]
     },
     "execution_count": 27,
     "metadata": {},
     "output_type": "execute_result"
    },
    {
     "data": {
      "image/png": "[encoded data removed]",
      "text/plain": [
       "<Figure size 640x480 with 1 Axes>"
      ]
     },
     "metadata": {},
     "output_type": "display_data"
    }
   ],
   "source": [
    "freqs =pd.Series(y).value_counts() /len(y) \n",
    "std_errors = np.sqrt(freqs*(1-freqs)/len(y)) \n",
    "expected_frequency = 1/len(np.unique(y)) \n",
    "freqs.plot(kind='bar',yerr=std_errors*1.96) \n",
    "plt.axhline(expected_frequency,color='red',linestyle='--')"
   ]
  },
  {
   "cell_type": "code",
   "execution_count": 28,
   "id": "2085a458",
   "metadata": {},
   "outputs": [
    {
     "data": {
      "text/html": [
       "<div>\n",
       "<style scoped>\n",
       "    .dataframe tbody tr th:only-of-type {\n",
       "        vertical-align: middle;\n",
       "    }\n",
       "\n",
       "    .dataframe tbody tr th {\n",
       "        vertical-align: top;\n",
       "    }\n",
       "\n",
       "    .dataframe thead th {\n",
       "        text-align: right;\n",
       "    }\n",
       "</style>\n",
       "<table border=\"1\" class=\"dataframe\">\n",
       "  <thead>\n",
       "    <tr style=\"text-align: right;\">\n",
       "      <th></th>\n",
       "      <th>gender</th>\n",
       "      <th>SeniorCitizen</th>\n",
       "      <th>Partner</th>\n",
       "      <th>Dependents</th>\n",
       "      <th>tenure</th>\n",
       "      <th>PhoneService</th>\n",
       "      <th>MultipleLines</th>\n",
       "      <th>InternetService</th>\n",
       "      <th>OnlineSecurity</th>\n",
       "      <th>OnlineBackup</th>\n",
       "      <th>DeviceProtection</th>\n",
       "      <th>TechSupport</th>\n",
       "      <th>StreamingTV</th>\n",
       "      <th>StreamingMovies</th>\n",
       "      <th>Contract</th>\n",
       "      <th>PaperlessBilling</th>\n",
       "      <th>PaymentMethod</th>\n",
       "      <th>MonthlyCharges</th>\n",
       "      <th>TotalCharges</th>\n",
       "      <th>Churn</th>\n",
       "    </tr>\n",
       "  </thead>\n",
       "  <tbody>\n",
       "    <tr>\n",
       "      <th>0</th>\n",
       "      <td>0</td>\n",
       "      <td>0</td>\n",
       "      <td>1</td>\n",
       "      <td>0</td>\n",
       "      <td>-1.28</td>\n",
       "      <td>0</td>\n",
       "      <td>1</td>\n",
       "      <td>0</td>\n",
       "      <td>0</td>\n",
       "      <td>2</td>\n",
       "      <td>0</td>\n",
       "      <td>0</td>\n",
       "      <td>0</td>\n",
       "      <td>0</td>\n",
       "      <td>0</td>\n",
       "      <td>1</td>\n",
       "      <td>2</td>\n",
       "      <td>-1.16</td>\n",
       "      <td>-0.99</td>\n",
       "      <td>0</td>\n",
       "    </tr>\n",
       "    <tr>\n",
       "      <th>1</th>\n",
       "      <td>1</td>\n",
       "      <td>0</td>\n",
       "      <td>0</td>\n",
       "      <td>0</td>\n",
       "      <td>0.06</td>\n",
       "      <td>1</td>\n",
       "      <td>0</td>\n",
       "      <td>0</td>\n",
       "      <td>2</td>\n",
       "      <td>0</td>\n",
       "      <td>2</td>\n",
       "      <td>0</td>\n",
       "      <td>0</td>\n",
       "      <td>0</td>\n",
       "      <td>1</td>\n",
       "      <td>0</td>\n",
       "      <td>3</td>\n",
       "      <td>-0.26</td>\n",
       "      <td>-0.17</td>\n",
       "      <td>0</td>\n",
       "    </tr>\n",
       "    <tr>\n",
       "      <th>3</th>\n",
       "      <td>1</td>\n",
       "      <td>0</td>\n",
       "      <td>0</td>\n",
       "      <td>0</td>\n",
       "      <td>0.51</td>\n",
       "      <td>0</td>\n",
       "      <td>1</td>\n",
       "      <td>0</td>\n",
       "      <td>2</td>\n",
       "      <td>0</td>\n",
       "      <td>2</td>\n",
       "      <td>2</td>\n",
       "      <td>0</td>\n",
       "      <td>0</td>\n",
       "      <td>1</td>\n",
       "      <td>0</td>\n",
       "      <td>0</td>\n",
       "      <td>-0.75</td>\n",
       "      <td>-0.20</td>\n",
       "      <td>0</td>\n",
       "    </tr>\n",
       "    <tr>\n",
       "      <th>6</th>\n",
       "      <td>1</td>\n",
       "      <td>0</td>\n",
       "      <td>0</td>\n",
       "      <td>1</td>\n",
       "      <td>-0.42</td>\n",
       "      <td>1</td>\n",
       "      <td>2</td>\n",
       "      <td>1</td>\n",
       "      <td>0</td>\n",
       "      <td>2</td>\n",
       "      <td>0</td>\n",
       "      <td>0</td>\n",
       "      <td>2</td>\n",
       "      <td>0</td>\n",
       "      <td>0</td>\n",
       "      <td>1</td>\n",
       "      <td>1</td>\n",
       "      <td>0.81</td>\n",
       "      <td>-0.15</td>\n",
       "      <td>0</td>\n",
       "    </tr>\n",
       "    <tr>\n",
       "      <th>7</th>\n",
       "      <td>0</td>\n",
       "      <td>0</td>\n",
       "      <td>0</td>\n",
       "      <td>0</td>\n",
       "      <td>-0.91</td>\n",
       "      <td>0</td>\n",
       "      <td>1</td>\n",
       "      <td>0</td>\n",
       "      <td>2</td>\n",
       "      <td>0</td>\n",
       "      <td>0</td>\n",
       "      <td>0</td>\n",
       "      <td>0</td>\n",
       "      <td>0</td>\n",
       "      <td>0</td>\n",
       "      <td>0</td>\n",
       "      <td>3</td>\n",
       "      <td>-1.17</td>\n",
       "      <td>-0.87</td>\n",
       "      <td>0</td>\n",
       "    </tr>\n",
       "    <tr>\n",
       "      <th>...</th>\n",
       "      <td>...</td>\n",
       "      <td>...</td>\n",
       "      <td>...</td>\n",
       "      <td>...</td>\n",
       "      <td>...</td>\n",
       "      <td>...</td>\n",
       "      <td>...</td>\n",
       "      <td>...</td>\n",
       "      <td>...</td>\n",
       "      <td>...</td>\n",
       "      <td>...</td>\n",
       "      <td>...</td>\n",
       "      <td>...</td>\n",
       "      <td>...</td>\n",
       "      <td>...</td>\n",
       "      <td>...</td>\n",
       "      <td>...</td>\n",
       "      <td>...</td>\n",
       "      <td>...</td>\n",
       "      <td>...</td>\n",
       "    </tr>\n",
       "    <tr>\n",
       "      <th>2323</th>\n",
       "      <td>0</td>\n",
       "      <td>0</td>\n",
       "      <td>0</td>\n",
       "      <td>0</td>\n",
       "      <td>-0.14</td>\n",
       "      <td>1</td>\n",
       "      <td>2</td>\n",
       "      <td>1</td>\n",
       "      <td>0</td>\n",
       "      <td>0</td>\n",
       "      <td>2</td>\n",
       "      <td>0</td>\n",
       "      <td>2</td>\n",
       "      <td>2</td>\n",
       "      <td>0</td>\n",
       "      <td>1</td>\n",
       "      <td>1</td>\n",
       "      <td>1.12</td>\n",
       "      <td>0.29</td>\n",
       "      <td>1</td>\n",
       "    </tr>\n",
       "    <tr>\n",
       "      <th>4499</th>\n",
       "      <td>0</td>\n",
       "      <td>0</td>\n",
       "      <td>0</td>\n",
       "      <td>1</td>\n",
       "      <td>-0.83</td>\n",
       "      <td>1</td>\n",
       "      <td>2</td>\n",
       "      <td>1</td>\n",
       "      <td>2</td>\n",
       "      <td>0</td>\n",
       "      <td>0</td>\n",
       "      <td>0</td>\n",
       "      <td>0</td>\n",
       "      <td>0</td>\n",
       "      <td>0</td>\n",
       "      <td>1</td>\n",
       "      <td>2</td>\n",
       "      <td>0.45</td>\n",
       "      <td>-0.61</td>\n",
       "      <td>1</td>\n",
       "    </tr>\n",
       "    <tr>\n",
       "      <th>3384</th>\n",
       "      <td>0</td>\n",
       "      <td>0</td>\n",
       "      <td>1</td>\n",
       "      <td>1</td>\n",
       "      <td>-1.16</td>\n",
       "      <td>1</td>\n",
       "      <td>0</td>\n",
       "      <td>1</td>\n",
       "      <td>0</td>\n",
       "      <td>0</td>\n",
       "      <td>2</td>\n",
       "      <td>0</td>\n",
       "      <td>0</td>\n",
       "      <td>0</td>\n",
       "      <td>0</td>\n",
       "      <td>1</td>\n",
       "      <td>2</td>\n",
       "      <td>0.30</td>\n",
       "      <td>-0.86</td>\n",
       "      <td>1</td>\n",
       "    </tr>\n",
       "    <tr>\n",
       "      <th>1327</th>\n",
       "      <td>1</td>\n",
       "      <td>0</td>\n",
       "      <td>1</td>\n",
       "      <td>0</td>\n",
       "      <td>1.08</td>\n",
       "      <td>1</td>\n",
       "      <td>2</td>\n",
       "      <td>1</td>\n",
       "      <td>0</td>\n",
       "      <td>0</td>\n",
       "      <td>2</td>\n",
       "      <td>0</td>\n",
       "      <td>2</td>\n",
       "      <td>2</td>\n",
       "      <td>1</td>\n",
       "      <td>1</td>\n",
       "      <td>0</td>\n",
       "      <td>1.15</td>\n",
       "      <td>1.62</td>\n",
       "      <td>1</td>\n",
       "    </tr>\n",
       "    <tr>\n",
       "      <th>5591</th>\n",
       "      <td>1</td>\n",
       "      <td>0</td>\n",
       "      <td>0</td>\n",
       "      <td>0</td>\n",
       "      <td>-1.16</td>\n",
       "      <td>1</td>\n",
       "      <td>0</td>\n",
       "      <td>1</td>\n",
       "      <td>0</td>\n",
       "      <td>0</td>\n",
       "      <td>0</td>\n",
       "      <td>0</td>\n",
       "      <td>2</td>\n",
       "      <td>2</td>\n",
       "      <td>0</td>\n",
       "      <td>1</td>\n",
       "      <td>2</td>\n",
       "      <td>0.79</td>\n",
       "      <td>-0.84</td>\n",
       "      <td>1</td>\n",
       "    </tr>\n",
       "  </tbody>\n",
       "</table>\n",
       "<p>10326 rows × 20 columns</p>\n",
       "</div>"
      ],
      "text/plain": [
       "      gender  SeniorCitizen  Partner  Dependents  tenure  PhoneService  \\\n",
       "0          0              0        1           0   -1.28             0   \n",
       "1          1              0        0           0    0.06             1   \n",
       "3          1              0        0           0    0.51             0   \n",
       "6          1              0        0           1   -0.42             1   \n",
       "7          0              0        0           0   -0.91             0   \n",
       "...      ...            ...      ...         ...     ...           ...   \n",
       "2323       0              0        0           0   -0.14             1   \n",
       "4499       0              0        0           1   -0.83             1   \n",
       "3384       0              0        1           1   -1.16             1   \n",
       "1327       1              0        1           0    1.08             1   \n",
       "5591       1              0        0           0   -1.16             1   \n",
       "\n",
       "      MultipleLines  InternetService  OnlineSecurity  OnlineBackup  \\\n",
       "0                 1                0               0             2   \n",
       "1                 0                0               2             0   \n",
       "3                 1                0               2             0   \n",
       "6                 2                1               0             2   \n",
       "7                 1                0               2             0   \n",
       "...             ...              ...             ...           ...   \n",
       "2323              2                1               0             0   \n",
       "4499              2                1               2             0   \n",
       "3384              0                1               0             0   \n",
       "1327              2                1               0             0   \n",
       "5591              0                1               0             0   \n",
       "\n",
       "      DeviceProtection  TechSupport  StreamingTV  StreamingMovies  Contract  \\\n",
       "0                    0            0            0                0         0   \n",
       "1                    2            0            0                0         1   \n",
       "3                    2            2            0                0         1   \n",
       "6                    0            0            2                0         0   \n",
       "7                    0            0            0                0         0   \n",
       "...                ...          ...          ...              ...       ...   \n",
       "2323                 2            0            2                2         0   \n",
       "4499                 0            0            0                0         0   \n",
       "3384                 2            0            0                0         0   \n",
       "1327                 2            0            2                2         1   \n",
       "5591                 0            0            2                2         0   \n",
       "\n",
       "      PaperlessBilling  PaymentMethod  MonthlyCharges  TotalCharges  Churn  \n",
       "0                    1              2           -1.16         -0.99      0  \n",
       "1                    0              3           -0.26         -0.17      0  \n",
       "3                    0              0           -0.75         -0.20      0  \n",
       "6                    1              1            0.81         -0.15      0  \n",
       "7                    0              3           -1.17         -0.87      0  \n",
       "...                ...            ...             ...           ...    ...  \n",
       "2323                 1              1            1.12          0.29      1  \n",
       "4499                 1              2            0.45         -0.61      1  \n",
       "3384                 1              2            0.30         -0.86      1  \n",
       "1327                 1              0            1.15          1.62      1  \n",
       "5591                 1              2            0.79         -0.84      1  \n",
       "\n",
       "[10326 rows x 20 columns]"
      ]
     },
     "execution_count": 28,
     "metadata": {},
     "output_type": "execute_result"
    }
   ],
   "source": [
    "balanced_data1"
   ]
  },
  {
   "cell_type": "markdown",
   "id": "4b4d6aed",
   "metadata": {},
   "source": [
    "## Model Selection\n",
    "## **ALGORITHM 1: Gradient Boosting Machine**"
   ]
  },
  {
   "cell_type": "markdown",
   "id": "f219c4dc",
   "metadata": {},
   "source": [
    "### Manual Splitting:"
   ]
  },
  {
   "cell_type": "code",
   "execution_count": 33,
   "id": "594a67cd",
   "metadata": {},
   "outputs": [
    {
     "name": "stdout",
     "output_type": "stream",
     "text": [
      "Train Accuracy: 0.954317998385795\n",
      "Validation Accuracy: 0.836319612590799\n",
      "Test Accuracy: 0.8523717328170377\n",
      "\n",
      "\n",
      "Train Precision: 0.9554266940456195\n",
      "Validation Precision: 0.8454837522992029\n",
      "Test Precision: 0.8610199221446315\n",
      "\n",
      "\n",
      "Train Recall: 0.954317998385795\n",
      "Validation Recall: 0.836319612590799\n",
      "Test Recall: 0.8523717328170377\n",
      "\n",
      "\n",
      "Train F1 Score: 0.9542725399317618\n",
      "Validation F1 Score: 0.8356775304319229\n",
      "Test F1 Score: 0.8516904753513139\n",
      "\n",
      "\n",
      "AUC-ROC: 0.9151591673673387\n",
      "AUC-PR: 0.887909756343597\n"
     ]
    }
   ],
   "source": [
    "fit_model_GBM(balanced_data1, 'Churn')"
   ]
  },
  {
   "cell_type": "markdown",
   "id": "7f060dec",
   "metadata": {},
   "source": [
    "**Comment :** The model's performance has improved quite a lot. The increase in the value of AUC-PR specifically indicates good performance. Training data may hint at overfitting though."
   ]
  },
  {
   "cell_type": "markdown",
   "id": "7e4cf190",
   "metadata": {},
   "source": [
    "### Cross-Validation:"
   ]
  },
  {
   "cell_type": "code",
   "execution_count": 34,
   "id": "778e561c",
   "metadata": {},
   "outputs": [
    {
     "name": "stdout",
     "output_type": "stream",
     "text": [
      "Fold 1:\n",
      "  Accuracy: 0.8760890609874153\n",
      "  Precision: 0.8810813207524317\n",
      "  Recall: 0.8760890609874153\n",
      "  F1 Score: 0.8757989537046457\n",
      "  AUC: 0.9295092907812055\n",
      "Fold 2:\n",
      "  Accuracy: 0.8489835430784124\n",
      "  Precision: 0.8614999284892799\n",
      "  Recall: 0.8489835430784124\n",
      "  F1 Score: 0.8483965284655297\n",
      "  AUC: 0.9266865750131471\n",
      "Fold 3:\n",
      "  Accuracy: 0.8489835430784124\n",
      "  Precision: 0.8595302389565393\n",
      "  Recall: 0.8489835430784124\n",
      "  F1 Score: 0.8476059063081547\n",
      "  AUC: 0.9257630296212973\n",
      "Fold 4:\n",
      "  Accuracy: 0.8528557599225557\n",
      "  Precision: 0.8660064429616722\n",
      "  Recall: 0.8528557599225557\n",
      "  F1 Score: 0.8522452843265617\n",
      "  AUC: 0.9318458417849899\n",
      "Fold 5:\n",
      "  Accuracy: 0.8896418199419167\n",
      "  Precision: 0.8967033999809916\n",
      "  Recall: 0.8896418199419167\n",
      "  F1 Score: 0.889268111067439\n",
      "  AUC: 0.9582983398071357\n",
      "Fold 6:\n",
      "  Accuracy: 0.8712487899322362\n",
      "  Precision: 0.8758040918724477\n",
      "  Recall: 0.8712487899322362\n",
      "  F1 Score: 0.870414659319334\n",
      "  AUC: 0.9266727290490827\n",
      "Fold 7:\n",
      "  Accuracy: 0.8662790697674418\n",
      "  Precision: 0.8721704487865307\n",
      "  Recall: 0.8662790697674418\n",
      "  F1 Score: 0.8660765437707426\n",
      "  AUC: 0.9358031376442099\n",
      "Fold 8:\n",
      "  Accuracy: 0.874031007751938\n",
      "  Precision: 0.8803285915877229\n",
      "  Recall: 0.874031007751938\n",
      "  F1 Score: 0.8730410887376016\n",
      "  AUC: 0.9377333634447456\n",
      "Fold 9:\n",
      "  Accuracy: 0.8846899224806202\n",
      "  Precision: 0.8883601426825584\n",
      "  Recall: 0.8846899224806202\n",
      "  F1 Score: 0.8843407499315348\n",
      "  AUC: 0.9366933363383667\n",
      "Fold 10:\n",
      "  Accuracy: 0.8556201550387597\n",
      "  Precision: 0.8644253287103727\n",
      "  Recall: 0.8556201550387597\n",
      "  F1 Score: 0.8543099183679176\n",
      "  AUC: 0.9267255639097745\n",
      "\n",
      "Average Metrics:\n",
      "  Average Accuracy: 0.8668422671979709\n",
      "  Average Precision: 0.8745909934780547\n",
      "  Average Recall: 0.8668422671979709\n",
      "  Average F1 Score: 0.8661497743999462\n",
      "  Average AUC: 0.9335731207393956\n"
     ]
    }
   ],
   "source": [
    "import numpy as np\n",
    "from sklearn.model_selection import KFold\n",
    "import xgboost as xgb\n",
    "from sklearn.metrics import precision_score, recall_score, f1_score, roc_auc_score, accuracy_score\n",
    "\n",
    "def fit_model_GBM_cv(data, target, KF):\n",
    "    \n",
    "    # Specify the name of your target variable\n",
    "    target_column_name = target\n",
    "\n",
    "    # Split the data into features (X) and the target variable (y)\n",
    "    X = data.drop(columns=[target])\n",
    "    y = data[target_column_name]  # Use the column name directly\n",
    "\n",
    "    # Number of folds for cross-validation\n",
    "    num_folds = KF\n",
    "\n",
    "    # Initialize variables to store overall metrics\n",
    "    overall_accuracy = 0\n",
    "    overall_precision = 0\n",
    "    overall_recall = 0\n",
    "    overall_f1 = 0\n",
    "    overall_auc = 0\n",
    "\n",
    "    # Create KFold cross-validator\n",
    "    kf = KFold(n_splits=num_folds, shuffle=True, random_state=42)\n",
    "\n",
    "    # Perform cross-validation\n",
    "    for fold, (train_index, test_index) in enumerate(kf.split(X), 1):\n",
    "        X_train, X_test = X.iloc[train_index], X.iloc[test_index]\n",
    "        y_train, y_test = y.iloc[train_index], y.iloc[test_index]\n",
    "\n",
    "        # Initialize the XGBoost classifier\n",
    "        xgb_classifier = xgb.XGBClassifier(n_estimators=100, max_depth=6, random_state=42)\n",
    "\n",
    "        # Fit the model to the training data\n",
    "        xgb_classifier.fit(X_train, y_train)\n",
    "\n",
    "        # Make predictions on the test set\n",
    "        y_pred = xgb_classifier.predict(X_test)\n",
    "\n",
    "        # Calculate metrics for this fold\n",
    "        fold_accuracy = accuracy_score(y_test, y_pred)\n",
    "        fold_precision = precision_score(y_test, y_pred,average='weighted')\n",
    "        fold_recall = recall_score(y_test, y_pred,average='weighted')\n",
    "        fold_f1 = f1_score(y_test, y_pred,average='weighted')\n",
    "        fold_auc = roc_auc_score(y_test, xgb_classifier.predict_proba(X_test)[:, 1])\n",
    "\n",
    "        print(f\"Fold {fold}:\")\n",
    "        print(f\"  Accuracy: {fold_accuracy}\")\n",
    "        print(f\"  Precision: {fold_precision}\")\n",
    "        print(f\"  Recall: {fold_recall}\")\n",
    "        print(f\"  F1 Score: {fold_f1}\")\n",
    "        print(f\"  AUC: {fold_auc}\")\n",
    "\n",
    "        # Add fold metrics to overall metrics\n",
    "        overall_accuracy += fold_accuracy\n",
    "        overall_precision += fold_precision\n",
    "        overall_recall += fold_recall\n",
    "        overall_f1 += fold_f1\n",
    "        overall_auc += fold_auc\n",
    "\n",
    "    # Calculate and print average metrics across all folds\n",
    "    average_accuracy = overall_accuracy / num_folds\n",
    "    average_precision = overall_precision / num_folds\n",
    "    average_recall = overall_recall / num_folds\n",
    "    average_f1 = overall_f1 / num_folds\n",
    "    average_auc = overall_auc / num_folds\n",
    "\n",
    "    print(\"\\nAverage Metrics:\")\n",
    "    print(f\"  Average Accuracy: {average_accuracy}\")\n",
    "    print(f\"  Average Precision: {average_precision}\")\n",
    "    print(f\"  Average Recall: {average_recall}\")\n",
    "    print(f\"  Average F1 Score: {average_f1}\")\n",
    "    print(f\"  Average AUC: {average_auc}\")\n",
    "\n",
    "# Example usage\n",
    "fit_model_GBM_cv(balanced_data1, 'Churn', 10)\n"
   ]
  },
  {
   "cell_type": "markdown",
   "id": "96100df0",
   "metadata": {},
   "source": [
    "### Feature Selection"
   ]
  },
  {
   "cell_type": "markdown",
   "id": "2ec7268b",
   "metadata": {},
   "source": [
    "## Feature Engineering"
   ]
  },
  {
   "cell_type": "markdown",
   "id": "b0b696d0",
   "metadata": {},
   "source": [
    "### Correlation"
   ]
  },
  {
   "cell_type": "code",
   "execution_count": 35,
   "id": "f64c8361",
   "metadata": {},
   "outputs": [
    {
     "data": {
      "image/png": "[encoded data removed]",
      "text/plain": [
       "<Figure size 2000x1000 with 2 Axes>"
      ]
     },
     "metadata": {},
     "output_type": "display_data"
    }
   ],
   "source": [
    " def feature_eng(data,target,df):\n",
    "    import pandas as pd\n",
    "    import seaborn as sns\n",
    "    import matplotlib.pyplot as plt\n",
    "\n",
    "    # Assuming 'target_column' is your target variable and 'feature_columns' are your feature columns\n",
    "    target_column = target\n",
    "    feature_columns = df\n",
    "\n",
    "    # Extract the subset of data containing only the features and the target variable\n",
    "    data_subset = data[[target_column] + feature_columns]\n",
    "\n",
    "    # Calculate the correlation matrix\n",
    "    correlation_matrix = data_subset.corr()\n",
    "\n",
    "    # Plot the heatmap\n",
    "    plt.figure(figsize=(20, 10))\n",
    "    sns.heatmap(correlation_matrix, annot=True, cmap='coolwarm', fmt=\".2f\")\n",
    "    plt.title('Correlation Heatmap')\n",
    "    plt.show()\n",
    "\n",
    "feature_eng(balanced_data1,'Churn',numerical_columns.to_list())"
   ]
  },
  {
   "cell_type": "markdown",
   "id": "d1362a00",
   "metadata": {},
   "source": [
    "None of the variables as correlated hence correlation is not useful here."
   ]
  },
  {
   "cell_type": "markdown",
   "id": "82a4bd6d",
   "metadata": {},
   "source": [
    "### Variance Thresholding"
   ]
  },
  {
   "cell_type": "code",
   "execution_count": 37,
   "id": "1b2b170d",
   "metadata": {},
   "outputs": [
    {
     "name": "stdout",
     "output_type": "stream",
     "text": [
      "Indices of selected features: [ 4  6  8  9 10 11 12 13 16 17 18]\n",
      "Selected features: ['tenure', 'MultipleLines', 'OnlineSecurity', 'OnlineBackup', 'DeviceProtection', 'TechSupport', 'StreamingTV', 'StreamingMovies', 'PaymentMethod', 'MonthlyCharges', 'TotalCharges']\n"
     ]
    }
   ],
   "source": [
    "def select_features_variance_threshold(dataset, threshold=0.0):\n",
    "    \n",
    "    import pandas as pd\n",
    "    from sklearn.feature_selection import VarianceThreshold\n",
    "    # Remove target variable from the data set.\n",
    "    X = dataset.drop(columns=['Churn']) \n",
    "    \n",
    "    # Initialize VarianceThreshold object\n",
    "    selector = VarianceThreshold(threshold=threshold)\n",
    "    \n",
    "    # Fit the selector to the data and transform the feature matrix\n",
    "    X_selected = selector.fit_transform(X)\n",
    "    \n",
    "    # Get the indices of the selected features\n",
    "    selected_indices = selector.get_support(indices=True)\n",
    "    \n",
    "    # Get the names of the selected features\n",
    "    selected_features = X.columns[selected_indices].tolist()\n",
    "    \n",
    "    return selected_indices, selected_features\n",
    "\n",
    "selected_indices, selected_features=select_features_variance_threshold(balanced_data1, threshold=0.7)\n",
    "print(\"Indices of selected features:\", selected_indices)\n",
    "print(\"Selected features:\", selected_features)\n"
   ]
  },
  {
   "cell_type": "code",
   "execution_count": 38,
   "id": "f35720d5",
   "metadata": {},
   "outputs": [
    {
     "name": "stdout",
     "output_type": "stream",
     "text": [
      "Train Accuracy: 0.9399515738498789\n",
      "Validation Accuracy: 0.8174334140435835\n",
      "Test Accuracy: 0.8339787028073572\n",
      "\n",
      "\n",
      "Train Precision: 0.9411140645874071\n",
      "Validation Precision: 0.8245150638918759\n",
      "Test Precision: 0.839405581299571\n",
      "\n",
      "\n",
      "Train Recall: 0.9399515738498789\n",
      "Validation Recall: 0.8174334140435835\n",
      "Test Recall: 0.8339787028073572\n",
      "\n",
      "\n",
      "Train F1 Score: 0.9398873377020893\n",
      "Validation F1 Score: 0.816898601551262\n",
      "Test F1 Score: 0.833508430139976\n",
      "\n",
      "\n",
      "AUC-ROC: 0.9012211845715308\n",
      "AUC-PR: 0.8709719036575312\n"
     ]
    }
   ],
   "source": [
    "selected_features.append('Churn')\n",
    "var_thrsh_data=balanced_data1[selected_features]\n",
    "fit_model_GBM(var_thrsh_data,'Churn')"
   ]
  },
  {
   "cell_type": "markdown",
   "id": "7477c438",
   "metadata": {},
   "source": [
    "**Comment :** Performance is quite similar to what it was before.~"
   ]
  },
  {
   "cell_type": "markdown",
   "id": "9995cc0a",
   "metadata": {},
   "source": [
    "### Wrapper Method "
   ]
  },
  {
   "cell_type": "markdown",
   "id": "3585c09c",
   "metadata": {},
   "source": [
    "#### Recursive Feature Elimination"
   ]
  },
  {
   "cell_type": "code",
   "execution_count": 39,
   "id": "3e781577",
   "metadata": {},
   "outputs": [
    {
     "name": "stdout",
     "output_type": "stream",
     "text": [
      "Selected features: ['PhoneService', 'Contract', 'MonthlyCharges']\n"
     ]
    }
   ],
   "source": [
    "import numpy as np\n",
    "import pandas as pd\n",
    "from sklearn.feature_selection import RFE\n",
    "from sklearn.linear_model import LogisticRegression\n",
    "\n",
    "def select_features_rfe(data, target, n_features_to_select):\n",
    "    X = data.drop(columns=[target]).values\n",
    "    y = data[target].values\n",
    "    # Initialize the logistic regression model\n",
    "    estimator = LogisticRegression(max_iter=1000)\n",
    "\n",
    "    # Initialize the RFE selector\n",
    "    selector = RFE(estimator, n_features_to_select=n_features_to_select)\n",
    "\n",
    "    # Fit the RFE selector to the data\n",
    "    selector = selector.fit(X, y)\n",
    "\n",
    "    # Get the indices of the selected features\n",
    "    selected_indices = selector.support_\n",
    "\n",
    "    # Get the names of the selected features\n",
    "    feature_names = data.drop(columns=[target]).columns.tolist()\n",
    "    wrp_selected_features = [feature_names[i] for i, selected in enumerate(selected_indices) if selected]\n",
    "    \n",
    "    return wrp_selected_features\n",
    "\n",
    "\n",
    "# Perform feature selection using RFE\n",
    "rfe_selected_features = select_features_rfe(balanced_data1, 'Churn', 3)\n",
    "\n",
    "# Print the selected features\n",
    "print(\"Selected features:\", rfe_selected_features)"
   ]
  },
  {
   "cell_type": "code",
   "execution_count": 40,
   "id": "253cb86b",
   "metadata": {},
   "outputs": [
    {
     "name": "stdout",
     "output_type": "stream",
     "text": [
      "Train Accuracy: 0.7815980629539951\n",
      "Validation Accuracy: 0.7506053268765133\n",
      "Test Accuracy: 0.749757986447241\n",
      "\n",
      "\n",
      "Train Precision: 0.7877375330334943\n",
      "Validation Precision: 0.7645591597992565\n",
      "Test Precision: 0.7620593809262544\n",
      "\n",
      "\n",
      "Train Recall: 0.7815980629539951\n",
      "Validation Recall: 0.7506053268765133\n",
      "Test Recall: 0.749757986447241\n",
      "\n",
      "\n",
      "Train F1 Score: 0.7800911155944654\n",
      "Validation F1 Score: 0.7484066913349682\n",
      "Test F1 Score: 0.7473853707596122\n",
      "\n",
      "\n",
      "AUC-ROC: 0.8083355126809912\n",
      "AUC-PR: 0.7335552500756577\n"
     ]
    }
   ],
   "source": [
    "rfe_selected_features.append('Churn')\n",
    "wrapper_data_rfe=balanced_data1[rfe_selected_features]\n",
    "fit_model_GBM(wrapper_data_rfe,'Churn')"
   ]
  },
  {
   "cell_type": "markdown",
   "id": "0b7679e7",
   "metadata": {},
   "source": [
    "**Comment :** RFE has reduced the performance however the generalizibility has increased as metrixs consistent over train-val-test."
   ]
  },
  {
   "cell_type": "markdown",
   "id": "013817cb",
   "metadata": {},
   "source": [
    "#### Forward Feature Selection"
   ]
  },
  {
   "cell_type": "code",
   "execution_count": 41,
   "id": "c156a9fe",
   "metadata": {},
   "outputs": [
    {
     "name": "stdout",
     "output_type": "stream",
     "text": [
      "Selected features using OLS: ['tenure', 'Contract', 'MonthlyCharges', 'TotalCharges']\n"
     ]
    }
   ],
   "source": [
    "def select_features_wrapper_ols(data, target, n_features_to_select):\n",
    "    from sklearn.feature_selection import SequentialFeatureSelector\n",
    "    from sklearn.linear_model import LogisticRegression\n",
    "    \n",
    "    X = data.drop(columns=[target]).values\n",
    "    y = data[target].values\n",
    "    \n",
    "    # Initialize the Logistic regression model\n",
    "    estimator = LogisticRegression()\n",
    "\n",
    "    # Initialize the RFE selector without cross-validation\n",
    "    selector = SequentialFeatureSelector(estimator, n_features_to_select=n_features_to_select,direction='forward')\n",
    "\n",
    "    # Fit the RFE selector to the data\n",
    "    selector = selector.fit(X, y)\n",
    "\n",
    "    # Get the indices of the selected features\n",
    "    selected_indices = selector.support_\n",
    "\n",
    "    # Get the names of the selected features\n",
    "    feature_names = data.drop(columns=[target]).columns.tolist()\n",
    "    ffs_selected_features = [feature_names[i] for i, selected in enumerate(selected_indices) if selected]\n",
    "    \n",
    "    return ffs_selected_features\n",
    "\n",
    "# Perform feature selection using wrapper method (RFE without cross-validation and OLS estimator)\n",
    "ffs_selected_features = select_features_wrapper_ols(balanced_data1, 'Churn', 4)\n",
    "# Print the selected features\n",
    "print(\"Selected features using OLS:\", ffs_selected_features)"
   ]
  },
  {
   "cell_type": "code",
   "execution_count": 42,
   "id": "5e2be68f",
   "metadata": {},
   "outputs": [
    {
     "name": "stdout",
     "output_type": "stream",
     "text": [
      "Train Accuracy: 0.9000807102502018\n",
      "Validation Accuracy: 0.8096852300242131\n",
      "Test Accuracy: 0.8049370764762827\n",
      "\n",
      "\n",
      "Train Precision: 0.9031825974056125\n",
      "Validation Precision: 0.8177961788640014\n",
      "Test Precision: 0.8142099324048468\n",
      "\n",
      "\n",
      "Train Recall: 0.9000807102502018\n",
      "Validation Recall: 0.8096852300242131\n",
      "Test Recall: 0.8049370764762827\n",
      "\n",
      "\n",
      "Train F1 Score: 0.8998143744766509\n",
      "Validation F1 Score: 0.8089969940918357\n",
      "Test F1 Score: 0.8038171052175336\n",
      "\n",
      "\n",
      "AUC-ROC: 0.881753282847456\n",
      "AUC-PR: 0.8511571356446526\n"
     ]
    }
   ],
   "source": [
    "ffs_selected_features.append('Churn')\n",
    "wrapper_data_ffs=balanced_data1[ffs_selected_features]\n",
    "fit_model_GBM(wrapper_data_ffs,'Churn')"
   ]
  },
  {
   "cell_type": "markdown",
   "id": "40a7594c",
   "metadata": {},
   "source": [
    "**Comment :** RFE is not a good feature seletor as although the model has performed considerably wellon training data, the drop in the performance from training to testing dataset is a cause of concern and hint at low generalizibility. Nevertheless, AUC-PR is good so it handles imbalance well."
   ]
  },
  {
   "cell_type": "markdown",
   "id": "83ac1033",
   "metadata": {},
   "source": [
    "### Principal Component Analysis"
   ]
  },
  {
   "cell_type": "code",
   "execution_count": 43,
   "id": "4abae07b",
   "metadata": {},
   "outputs": [],
   "source": [
    "import pandas as pd\n",
    "from sklearn.decomposition import PCA\n",
    "from sklearn.preprocessing import StandardScaler\n",
    "import matplotlib.pyplot as plt\n",
    "import numpy as np\n",
    "\n",
    "def perform_pca(data,target):\n",
    "    # Drop the target variable 'Status' if it's included in the DataFrame\n",
    "    X = data.drop(target, axis=1)\n",
    "\n",
    "    # Instantiate PCA\n",
    "    pca = PCA()\n",
    "\n",
    "    # Fit the PCA model with the standardized data\n",
    "    pca.fit(X)\n",
    "\n",
    "    # Transform the data onto the new feature space\n",
    "    X_pca = pca.transform(X)\n",
    "    \n",
    "    # Convert X_pca to DataFrame\n",
    "    X_pca_df = pd.DataFrame(X_pca, columns=[f'PC{i+1}' for i in range(X_pca.shape[1])])\n",
    "\n",
    "\n",
    "    # You can access the explained variance ratio of each principal component\n",
    "    explained_variance_ratio = pca.explained_variance_ratio_\n",
    "\n",
    "    # Plot cumulative explained variance\n",
    "    cumulative_variance = np.cumsum(explained_variance_ratio)\n",
    "    plt.plot(range(1, len(cumulative_variance)+1), cumulative_variance, marker='o', linestyle='-')\n",
    "    plt.xlabel('Number of Components')\n",
    "    plt.ylabel('Cumulative Explained Variance')\n",
    "    plt.title('Cumulative Explained Variance by Number of Components')\n",
    "    plt.grid(True)\n",
    "    plt.show()\n",
    "\n",
    "    return X_pca_df"
   ]
  },
  {
   "cell_type": "code",
   "execution_count": 44,
   "id": "b3d10f65",
   "metadata": {},
   "outputs": [
    {
     "data": {
      "image/png": "[encoded data removed]",
      "text/plain": [
       "<Figure size 640x480 with 1 Axes>"
      ]
     },
     "metadata": {},
     "output_type": "display_data"
    }
   ],
   "source": [
    "X_pca_df=perform_pca(balanced_data1,'Churn')"
   ]
  },
  {
   "cell_type": "code",
   "execution_count": 45,
   "id": "1727b8a2",
   "metadata": {},
   "outputs": [
    {
     "name": "stdout",
     "output_type": "stream",
     "text": [
      "Train Accuracy: 0.9548022598870056\n",
      "Validation Accuracy: 0.7709443099273607\n",
      "Test Accuracy: 0.755566311713456\n",
      "\n",
      "\n",
      "Train Precision: 0.9550056040279215\n",
      "Validation Precision: 0.7722509815667711\n",
      "Test Precision: 0.7597577382404498\n",
      "\n",
      "\n",
      "Train Recall: 0.9548022598870056\n",
      "Validation Recall: 0.7709443099273607\n",
      "Test Recall: 0.755566311713456\n",
      "\n",
      "\n",
      "Train F1 Score: 0.9547954962086244\n",
      "Validation F1 Score: 0.7706301389057654\n",
      "Test F1 Score: 0.7548704217504031\n",
      "\n",
      "\n",
      "AUC-ROC: 0.8188623413969347\n",
      "AUC-PR: 0.8204780237173808\n"
     ]
    }
   ],
   "source": [
    "X_pca_df = X_pca_df.merge(balanced_data1[['Churn']], left_index=True, right_index=True)\n",
    "fit_model_GBM(X_pca_df,'Churn')"
   ]
  },
  {
   "cell_type": "markdown",
   "id": "0cb6d7ce",
   "metadata": {},
   "source": [
    "**Comment :** Low generalizibility as performance drops from training to testing. Handles imbalance well as AUC score is good."
   ]
  },
  {
   "cell_type": "markdown",
   "id": "0f63e35a",
   "metadata": {},
   "source": [
    "## INTERPRETATION:\n",
    "The model seems to be overfitting but with feature selection methods like Wrappers RFE the generaliziility has increased though compromise has to be done on performance for that. AUC score iss good through out showing that it handled imbalance well."
   ]
  },
  {
   "cell_type": "markdown",
   "id": "0766f469",
   "metadata": {},
   "source": [
    "# ALGORITHM 2: Logistic Regression"
   ]
  },
  {
   "cell_type": "markdown",
   "id": "8adc6fe0",
   "metadata": {},
   "source": [
    "### Manual Splitting:"
   ]
  },
  {
   "cell_type": "code",
   "execution_count": 46,
   "id": "b427c387",
   "metadata": {},
   "outputs": [
    {
     "name": "stdout",
     "output_type": "stream",
     "text": [
      "Train Accuracy: 0.7672316384180791\n",
      "Validation Accuracy: 0.7569007263922518\n",
      "Test Accuracy: 0.7579864472410455\n",
      "\n",
      "\n",
      "Train Precision: 0.7686075160068697\n",
      "Validation Precision: 0.7612112363137541\n",
      "Test Precision: 0.7628776862242774\n",
      "\n",
      "\n",
      "Train Recall: 0.7672316384180791\n",
      "Validation Recall: 0.7569007263922518\n",
      "Test Recall: 0.7579864472410455\n",
      "\n",
      "\n",
      "Train F1 Score: 0.7667414561586479\n",
      "Validation F1 Score: 0.756483055928192\n",
      "Test F1 Score: 0.7572095852099306\n",
      "\n",
      "\n",
      "AUC-ROC: 0.8385539254972428\n",
      "AUC-PR: 0.8222627665612213\n"
     ]
    }
   ],
   "source": [
    "fit_model_LR(balanced_data1, 'Churn')"
   ]
  },
  {
   "cell_type": "markdown",
   "id": "0b6852d7",
   "metadata": {},
   "source": [
    "### Cross-Validation:"
   ]
  },
  {
   "cell_type": "code",
   "execution_count": 47,
   "id": "e44ffc43",
   "metadata": {},
   "outputs": [
    {
     "name": "stdout",
     "output_type": "stream",
     "text": [
      "Fold 1:\n",
      "  Accuracy: 0.7860600193610843\n",
      "  Precision (Positive): 0.7627737226277372\n",
      "  Precision (Negative): 0.8123711340206186\n",
      "  Recall (Positive): 0.8212180746561886\n",
      "  Recall (Negative): 0.7519083969465649\n",
      "  F1 Score (Positive): 0.7909176915799432\n",
      "  F1 Score (Negative): 0.7809712586719524\n",
      "  AUC: 0.863169063723211\n",
      "Fold 2:\n",
      "  Accuracy: 0.7434656340755083\n",
      "  Precision (Positive): 0.7043010752688172\n",
      "  Precision (Negative): 0.7894736842105263\n",
      "  Recall (Positive): 0.7971602434077079\n",
      "  Recall (Negative): 0.6944444444444444\n",
      "  F1 Score (Positive): 0.7478591817316841\n",
      "  F1 Score (Negative): 0.7389162561576355\n",
      "  AUC: 0.8292671474720156\n",
      "Fold 3:\n",
      "  Accuracy: 0.7521781219748306\n",
      "  Precision (Positive): 0.7339130434782609\n",
      "  Precision (Negative): 0.7751091703056768\n",
      "  Recall (Positive): 0.8038095238095239\n",
      "  Recall (Negative): 0.6988188976377953\n",
      "  F1 Score (Positive): 0.7672727272727272\n",
      "  F1 Score (Negative): 0.7349896480331263\n",
      "  AUC: 0.8384795650543682\n",
      "Fold 4:\n",
      "  Accuracy: 0.7492739593417231\n",
      "  Precision (Positive): 0.7045454545454546\n",
      "  Precision (Negative): 0.8047722342733189\n",
      "  Recall (Positive): 0.8174442190669371\n",
      "  Recall (Negative): 0.687037037037037\n",
      "  F1 Score (Positive): 0.7568075117370892\n",
      "  F1 Score (Negative): 0.7412587412587412\n",
      "  AUC: 0.833421606190369\n",
      "Fold 5:\n",
      "  Accuracy: 0.7928363988383349\n",
      "  Precision (Positive): 0.7619893428063943\n",
      "  Precision (Negative): 0.8297872340425532\n",
      "  Recall (Positive): 0.8428290766208252\n",
      "  Recall (Negative): 0.7442748091603053\n",
      "  F1 Score (Positive): 0.8003731343283582\n",
      "  F1 Score (Negative): 0.7847082494969819\n",
      "  AUC: 0.8708495178391997\n",
      "Fold 6:\n",
      "  Accuracy: 0.7725072604065828\n",
      "  Precision (Positive): 0.7716814159292036\n",
      "  Precision (Negative): 0.7735042735042735\n",
      "  Recall (Positive): 0.8044280442804428\n",
      "  Recall (Negative): 0.7372708757637475\n",
      "  F1 Score (Positive): 0.7877145438121048\n",
      "  F1 Score (Negative): 0.7549530761209593\n",
      "  AUC: 0.8476356708577268\n",
      "Fold 7:\n",
      "  Accuracy: 0.7635658914728682\n",
      "  Precision (Positive): 0.7378277153558053\n",
      "  Precision (Negative): 0.7911646586345381\n",
      "  Recall (Positive): 0.7911646586345381\n",
      "  Recall (Negative): 0.7378277153558053\n",
      "  F1 Score (Positive): 0.7635658914728682\n",
      "  F1 Score (Negative): 0.7635658914728682\n",
      "  AUC: 0.8464851917031422\n",
      "Fold 8:\n",
      "  Accuracy: 0.7664728682170543\n",
      "  Precision (Positive): 0.7684021543985637\n",
      "  Precision (Negative): 0.7642105263157895\n",
      "  Recall (Positive): 0.7925925925925926\n",
      "  Recall (Negative): 0.7378048780487805\n",
      "  F1 Score (Positive): 0.780309936189608\n",
      "  F1 Score (Negative): 0.750775594622544\n",
      "  AUC: 0.8391166064438422\n",
      "Fold 9:\n",
      "  Accuracy: 0.7606589147286822\n",
      "  Precision (Positive): 0.7504553734061931\n",
      "  Precision (Negative): 0.772256728778468\n",
      "  Recall (Positive): 0.789272030651341\n",
      "  Recall (Negative): 0.7313725490196078\n",
      "  F1 Score (Positive): 0.76937441643324\n",
      "  F1 Score (Negative): 0.7512588116817724\n",
      "  AUC: 0.8544380587484036\n",
      "Fold 10:\n",
      "  Accuracy: 0.7451550387596899\n",
      "  Precision (Positive): 0.733102253032929\n",
      "  Precision (Negative): 0.7604395604395604\n",
      "  Recall (Positive): 0.7951127819548872\n",
      "  Recall (Negative): 0.692\n",
      "  F1 Score (Positive): 0.7628494138863842\n",
      "  F1 Score (Negative): 0.724607329842932\n",
      "  AUC: 0.8213646616541352\n",
      "\n",
      "Average Metrics:\n",
      "  Average Accuracy: 0.7632174107176357\n",
      "  Average Precision (Positive): 0.7428991550849359\n",
      "  Average Precision (Negative): 0.7873089204525323\n",
      "  Average Recall (Positive): 0.8055031245674986\n",
      "  Average Recall (Negative): 0.7212759603414087\n",
      "  Average F1 Score (Positive): 0.7727044448444007\n",
      "  Average F1 Score (Negative): 0.7526004857359514\n",
      "  Average AUC: 0.8444227089686415\n"
     ]
    }
   ],
   "source": [
    "import numpy as np\n",
    "from sklearn.model_selection import KFold\n",
    "from sklearn.linear_model import LogisticRegression\n",
    "from sklearn.metrics import precision_score, recall_score, f1_score, roc_auc_score, accuracy_score\n",
    "\n",
    "def fit_model_LR_CV(data, target, KF):\n",
    "\n",
    "    # Specify the name of your target variable\n",
    "    target_column_name = target\n",
    "\n",
    "    # Split the data into features (X) and the target variable (y)\n",
    "    X = data.drop(columns=[target]).values\n",
    "    y = data[target_column_name].values\n",
    "\n",
    "    # Number of folds for cross-validation\n",
    "    num_folds = KF\n",
    "\n",
    "    # Create Logistic Regression classifier\n",
    "    log_reg = LogisticRegression(max_iter=1000)\n",
    "\n",
    "    # Create KFold cross-validator\n",
    "    kf = KFold(n_splits=num_folds, shuffle=True, random_state=42)\n",
    "\n",
    "    # Initialize variables to store overall metrics\n",
    "    overall_accuracy = 0\n",
    "    overall_precision_pos = 0\n",
    "    overall_precision_neg = 0\n",
    "    overall_recall_pos = 0\n",
    "    overall_recall_neg = 0\n",
    "    overall_f1_pos = 0\n",
    "    overall_f1_neg = 0\n",
    "    overall_auc = 0\n",
    "\n",
    "    # Perform cross-validation\n",
    "    for fold, (train_index, test_index) in enumerate(kf.split(X), 1):\n",
    "        X_train, X_test = X[train_index], X[test_index]\n",
    "        y_train, y_test = y[train_index], y[test_index]\n",
    "\n",
    "        # Train Logistic Regression model\n",
    "        log_reg.fit(X_train, y_train)\n",
    "\n",
    "        # Make predictions on the test set\n",
    "        predictions = log_reg.predict(X_test)\n",
    "\n",
    "        # Calculate metrics for this fold\n",
    "        fold_accuracy = accuracy_score(y_test, predictions)\n",
    "        fold_precision_pos = precision_score(y_test, predictions, pos_label=1)\n",
    "        fold_precision_neg = precision_score(y_test, predictions, pos_label=0)\n",
    "        fold_recall_pos = recall_score(y_test, predictions, pos_label=1)\n",
    "        fold_recall_neg = recall_score(y_test, predictions, pos_label=0)\n",
    "        fold_f1_pos = f1_score(y_test, predictions, pos_label=1)\n",
    "        fold_f1_neg = f1_score(y_test, predictions, pos_label=0)\n",
    "        fold_auc = roc_auc_score(y_test, log_reg.predict_proba(X_test)[:, 1])\n",
    "\n",
    "        print(f\"Fold {fold}:\")\n",
    "        print(f\"  Accuracy: {fold_accuracy}\")\n",
    "        print(f\"  Precision (Positive): {fold_precision_pos}\")\n",
    "        print(f\"  Precision (Negative): {fold_precision_neg}\")\n",
    "        print(f\"  Recall (Positive): {fold_recall_pos}\")\n",
    "        print(f\"  Recall (Negative): {fold_recall_neg}\")\n",
    "        print(f\"  F1 Score (Positive): {fold_f1_pos}\")\n",
    "        print(f\"  F1 Score (Negative): {fold_f1_neg}\")\n",
    "        print(f\"  AUC: {fold_auc}\")\n",
    "\n",
    "        # Add fold metrics to overall metrics\n",
    "        overall_accuracy += fold_accuracy\n",
    "        overall_precision_pos += fold_precision_pos\n",
    "        overall_precision_neg += fold_precision_neg\n",
    "        overall_recall_pos += fold_recall_pos\n",
    "        overall_recall_neg += fold_recall_neg\n",
    "        overall_f1_pos += fold_f1_pos\n",
    "        overall_f1_neg += fold_f1_neg\n",
    "        overall_auc += fold_auc\n",
    "\n",
    "    # Calculate and print average metrics across all folds\n",
    "    average_accuracy = overall_accuracy / num_folds\n",
    "    average_precision_pos = overall_precision_pos / num_folds\n",
    "    average_precision_neg = overall_precision_neg / num_folds\n",
    "    average_recall_pos = overall_recall_pos / num_folds\n",
    "    average_recall_neg = overall_recall_neg / num_folds\n",
    "    average_f1_pos = overall_f1_pos / num_folds\n",
    "    average_f1_neg = overall_f1_neg / num_folds\n",
    "    average_auc = overall_auc / num_folds\n",
    "\n",
    "    print(\"\\nAverage Metrics:\")\n",
    "    print(f\"  Average Accuracy: {average_accuracy}\")\n",
    "    print(f\"  Average Precision (Positive): {average_precision_pos}\")\n",
    "    print(f\"  Average Precision (Negative): {average_precision_neg}\")\n",
    "    print(f\"  Average Recall (Positive): {average_recall_pos}\")\n",
    "    print(f\"  Average Recall (Negative): {average_recall_neg}\")\n",
    "    print(f\"  Average F1 Score (Positive): {average_f1_pos}\")\n",
    "    print(f\"  Average F1 Score (Negative): {average_f1_neg}\")\n",
    "    print(f\"  Average AUC: {average_auc}\")\n",
    "\n",
    "# Example usage\n",
    "fit_model_LR_CV(balanced_data1, 'Churn', 10)\n"
   ]
  },
  {
   "cell_type": "markdown",
   "id": "c9be81d2",
   "metadata": {},
   "source": [
    "## Feature Engineering"
   ]
  },
  {
   "cell_type": "markdown",
   "id": "b23ca521",
   "metadata": {},
   "source": [
    "### Variance Thresholding"
   ]
  },
  {
   "cell_type": "code",
   "execution_count": 48,
   "id": "f5d29684",
   "metadata": {},
   "outputs": [
    {
     "name": "stdout",
     "output_type": "stream",
     "text": [
      "Indices of selected features: [ 4  6 12 13 16 17 18]\n",
      "Selected features: ['tenure', 'MultipleLines', 'StreamingTV', 'StreamingMovies', 'PaymentMethod', 'MonthlyCharges', 'TotalCharges']\n"
     ]
    }
   ],
   "source": [
    "selected_indices, selected_features=select_features_variance_threshold(balanced_data1, threshold=0.8)\n",
    "print(\"Indices of selected features:\", selected_indices)\n",
    "print(\"Selected features:\", selected_features)\n"
   ]
  },
  {
   "cell_type": "code",
   "execution_count": 49,
   "id": "4a356969",
   "metadata": {},
   "outputs": [
    {
     "name": "stdout",
     "output_type": "stream",
     "text": [
      "Train Accuracy: 0.7380145278450363\n",
      "Validation Accuracy: 0.7210653753026635\n",
      "Test Accuracy: 0.7090997095837367\n",
      "\n",
      "\n",
      "Train Precision: 0.7380609586326594\n",
      "Validation Precision: 0.7223423205902079\n",
      "Test Precision: 0.7112118915547205\n",
      "\n",
      "\n",
      "Train Recall: 0.7380145278450363\n",
      "Validation Recall: 0.7210653753026635\n",
      "Test Recall: 0.7090997095837367\n",
      "\n",
      "\n",
      "Train F1 Score: 0.7379294775389154\n",
      "Validation F1 Score: 0.7210532085080653\n",
      "Test F1 Score: 0.708712741567123\n",
      "\n",
      "\n",
      "AUC-ROC: 0.7977302914326796\n",
      "AUC-PR: 0.7890000368433999\n"
     ]
    }
   ],
   "source": [
    "selected_features.append('Churn')\n",
    "var_thrsh_data=balanced_data1[selected_features]\n",
    "fit_model_LR(var_thrsh_data,'Churn')"
   ]
  },
  {
   "cell_type": "markdown",
   "id": "26b87bbf",
   "metadata": {},
   "source": [
    "### Wrapper Method "
   ]
  },
  {
   "cell_type": "markdown",
   "id": "72192cb1",
   "metadata": {},
   "source": [
    "#### Recursive Feature Elimination"
   ]
  },
  {
   "cell_type": "code",
   "execution_count": 50,
   "id": "fd808cf4",
   "metadata": {},
   "outputs": [
    {
     "name": "stdout",
     "output_type": "stream",
     "text": [
      "Train Accuracy: 0.744955609362389\n",
      "Validation Accuracy: 0.7404358353510896\n",
      "Test Accuracy: 0.7376573088092934\n",
      "\n",
      "\n",
      "Train Precision: 0.7512324310106974\n",
      "Validation Precision: 0.7526930368742899\n",
      "Test Precision: 0.7499976269916112\n",
      "\n",
      "\n",
      "Train Recall: 0.744955609362389\n",
      "Validation Recall: 0.7404358353510896\n",
      "Test Recall: 0.7376573088092934\n",
      "\n",
      "\n",
      "Train F1 Score: 0.7428842534591997\n",
      "Validation F1 Score: 0.7384053312849125\n",
      "Test F1 Score: 0.7350427186912986\n",
      "\n",
      "\n",
      "AUC-ROC: 0.7913305081488855\n",
      "AUC-PR: 0.7177234210221882\n"
     ]
    }
   ],
   "source": [
    "fit_model_LR(wrapper_data_rfe,'Churn')"
   ]
  },
  {
   "cell_type": "markdown",
   "id": "bcf30afb",
   "metadata": {},
   "source": [
    "#### Forward Feature Selection"
   ]
  },
  {
   "cell_type": "code",
   "execution_count": 51,
   "id": "4634c482",
   "metadata": {},
   "outputs": [
    {
     "name": "stdout",
     "output_type": "stream",
     "text": [
      "Train Accuracy: 0.7602905569007264\n",
      "Validation Accuracy: 0.7486682808716707\n",
      "Test Accuracy: 0.7366892545982575\n",
      "\n",
      "\n",
      "Train Precision: 0.7665662546933522\n",
      "Validation Precision: 0.7608986589503745\n",
      "Test Precision: 0.7487642811921997\n",
      "\n",
      "\n",
      "Train Recall: 0.7602905569007264\n",
      "Validation Recall: 0.7486682808716707\n",
      "Test Recall: 0.7366892545982575\n",
      "\n",
      "\n",
      "Train F1 Score: 0.7584624197533967\n",
      "Validation F1 Score: 0.7467676723071228\n",
      "Test F1 Score: 0.7341164925957363\n",
      "\n",
      "\n",
      "AUC-ROC: 0.8188085670390775\n",
      "AUC-PR: 0.797511738226381\n"
     ]
    }
   ],
   "source": [
    "fit_model_LR(wrapper_data_ffs,'Churn')"
   ]
  },
  {
   "cell_type": "markdown",
   "id": "d5bb1ab4",
   "metadata": {},
   "source": [
    "### Principal Component Analysis"
   ]
  },
  {
   "cell_type": "code",
   "execution_count": 52,
   "id": "8006728c",
   "metadata": {},
   "outputs": [
    {
     "name": "stdout",
     "output_type": "stream",
     "text": [
      "Train Accuracy: 0.519451170298628\n",
      "Validation Accuracy: 0.47893462469733655\n",
      "Test Accuracy: 0.4995159728944821\n",
      "\n",
      "\n",
      "Train Precision: 0.5194643386958055\n",
      "Validation Precision: 0.47897113942592984\n",
      "Test Precision: 0.4994765442669696\n",
      "\n",
      "\n",
      "Train Recall: 0.519451170298628\n",
      "Validation Recall: 0.47893462469733655\n",
      "Test Recall: 0.4995159728944821\n",
      "\n",
      "\n",
      "Train F1 Score: 0.5194505943114981\n",
      "Validation F1 Score: 0.4787906469816458\n",
      "Test F1 Score: 0.4994920464927363\n",
      "\n",
      "\n",
      "AUC-ROC: 0.5121867891156845\n",
      "AUC-PR: 0.508757409311618\n"
     ]
    }
   ],
   "source": [
    "fit_model_LR(X_pca_df,'Churn')"
   ]
  },
  {
   "cell_type": "markdown",
   "id": "7b1a7ce6",
   "metadata": {},
   "source": [
    "**Comment :** Logistic Regression model proves to be a well genralized model. It has high AUC scores indicates that it handles imbalance well. However, performance is lower than what we would have liked and feature selection wasnt of much use here. Wrapper's method was better but Variance thresholding decreased the performance. PCA failed terribly."
   ]
  },
  {
   "cell_type": "markdown",
   "id": "a9724b69",
   "metadata": {},
   "source": [
    "# ALGORITHM 3: DECISION TREES"
   ]
  },
  {
   "cell_type": "markdown",
   "id": "7b2f399c",
   "metadata": {},
   "source": [
    "### Manual Splitting:"
   ]
  },
  {
   "cell_type": "code",
   "execution_count": 53,
   "id": "d170785c",
   "metadata": {},
   "outputs": [
    {
     "name": "stdout",
     "output_type": "stream",
     "text": [
      "Train Accuracy: 0.9962873284907183\n",
      "Validation Accuracy: 0.8479418886198548\n",
      "Test Accuracy: 0.8422071636011617\n",
      "\n",
      "\n",
      "Train Precision: 0.9962958443699785\n",
      "Validation Precision: 0.8580423513922675\n",
      "Test Precision: 0.8518649672379183\n",
      "\n",
      "\n",
      "Train Recall: 0.9962873284907183\n",
      "Validation Recall: 0.8479418886198548\n",
      "Test Recall: 0.8422071636011617\n",
      "\n",
      "\n",
      "Train F1 Score: 0.9962871976620233\n",
      "Validation F1 Score: 0.8472870760892615\n",
      "Test F1 Score: 0.8413588413679491\n",
      "\n",
      "\n",
      "AUC-ROC: 0.8436882811086646\n",
      "AUC-PR: 0.8736365328744483\n"
     ]
    }
   ],
   "source": [
    "fit_model_DT(balanced_data1, 'Churn')"
   ]
  },
  {
   "cell_type": "markdown",
   "id": "ed79a173",
   "metadata": {},
   "source": [
    "### Cross-Validation:"
   ]
  },
  {
   "cell_type": "code",
   "execution_count": 54,
   "id": "2514dc5b",
   "metadata": {},
   "outputs": [
    {
     "name": "stdout",
     "output_type": "stream",
     "text": [
      "Fold 1:\n",
      "  Accuracy: 0.8925459825750242\n",
      "  Precision (Positive): 0.8454861111111112\n",
      "  Precision (Negative): 0.9518599562363238\n",
      "  Recall (Positive): 0.9567779960707269\n",
      "  Recall (Negative): 0.8301526717557252\n",
      "  F1 Score (Positive): 0.8976958525345622\n",
      "  F1 Score (Negative): 0.8868501529051988\n",
      "  AUC: 0.8968190884686333\n",
      "Fold 2:\n",
      "  Accuracy: 0.8712487899322362\n",
      "  Precision (Positive): 0.8061224489795918\n",
      "  Precision (Negative): 0.9573033707865168\n",
      "  Recall (Positive): 0.9614604462474645\n",
      "  Recall (Negative): 0.7888888888888889\n",
      "  F1 Score (Positive): 0.8769657724329325\n",
      "  F1 Score (Negative): 0.86497461928934\n",
      "  AUC: 0.8800090151002931\n",
      "Fold 3:\n",
      "  Accuracy: 0.8906098741529526\n",
      "  Precision (Positive): 0.8410596026490066\n",
      "  Precision (Negative): 0.9603729603729604\n",
      "  Recall (Positive): 0.9676190476190476\n",
      "  Recall (Negative): 0.8110236220472441\n",
      "  F1 Score (Positive): 0.899911426040744\n",
      "  F1 Score (Negative): 0.87940234791889\n",
      "  AUC: 0.8927652793400824\n",
      "Fold 4:\n",
      "  Accuracy: 0.8625363020329139\n",
      "  Precision (Positive): 0.7910447761194029\n",
      "  Precision (Negative): 0.9627906976744186\n",
      "  Recall (Positive): 0.9675456389452333\n",
      "  Recall (Negative): 0.7666666666666667\n",
      "  F1 Score (Positive): 0.8704379562043796\n",
      "  F1 Score (Negative): 0.8536082474226804\n",
      "  AUC: 0.8738130117947562\n",
      "Fold 5:\n",
      "  Accuracy: 0.9215876089060987\n",
      "  Precision (Positive): 0.8807829181494662\n",
      "  Precision (Negative): 0.970276008492569\n",
      "  Recall (Positive): 0.9724950884086444\n",
      "  Recall (Negative): 0.8721374045801527\n",
      "  F1 Score (Positive): 0.9243697478991597\n",
      "  F1 Score (Negative): 0.9185929648241206\n",
      "  AUC: 0.9228598959192549\n",
      "Fold 6:\n",
      "  Accuracy: 0.888673765730881\n",
      "  Precision (Positive): 0.8460291734197731\n",
      "  Precision (Negative): 0.9519230769230769\n",
      "  Recall (Positive): 0.9630996309963099\n",
      "  Recall (Negative): 0.8065173116089613\n",
      "  F1 Score (Positive): 0.9007765314926661\n",
      "  F1 Score (Negative): 0.8732083792723263\n",
      "  AUC: 0.8871363509969112\n",
      "Fold 7:\n",
      "  Accuracy: 0.8963178294573644\n",
      "  Precision (Positive): 0.8484848484848485\n",
      "  Precision (Negative): 0.9532908704883227\n",
      "  Recall (Positive): 0.9558232931726908\n",
      "  Recall (Negative): 0.8408239700374532\n",
      "  F1 Score (Positive): 0.898961284230406\n",
      "  F1 Score (Negative): 0.8935323383084577\n",
      "  AUC: 0.9013168779988869\n",
      "Fold 8:\n",
      "  Accuracy: 0.8914728682170543\n",
      "  Precision (Positive): 0.8485342019543974\n",
      "  Precision (Negative): 0.9545454545454546\n",
      "  Recall (Positive): 0.9648148148148148\n",
      "  Recall (Negative): 0.8109756097560976\n",
      "  F1 Score (Positive): 0.902946273830156\n",
      "  F1 Score (Negative): 0.8769230769230769\n",
      "  AUC: 0.8904415085817525\n",
      "Fold 9:\n",
      "  Accuracy: 0.8953488372093024\n",
      "  Precision (Positive): 0.8544520547945206\n",
      "  Precision (Negative): 0.9486607142857143\n",
      "  Recall (Positive): 0.9559386973180076\n",
      "  Recall (Negative): 0.8333333333333334\n",
      "  F1 Score (Positive): 0.9023508137432188\n",
      "  F1 Score (Negative): 0.8872651356993737\n",
      "  AUC: 0.8944331755690782\n",
      "Fold 10:\n",
      "  Accuracy: 0.8808139534883721\n",
      "  Precision (Positive): 0.8357963875205254\n",
      "  Precision (Negative): 0.9456264775413712\n",
      "  Recall (Positive): 0.956766917293233\n",
      "  Recall (Negative): 0.8\n",
      "  F1 Score (Positive): 0.8921998247151621\n",
      "  F1 Score (Negative): 0.866738894907909\n",
      "  AUC: 0.8777894736842106\n",
      "\n",
      "Average Metrics:\n",
      "  Average Accuracy: 0.88911558117022\n",
      "  Average Precision (Positive): 0.8397792523182643\n",
      "  Average Precision (Negative): 0.9556649587346728\n",
      "  Average Recall (Positive): 0.9622341570886173\n",
      "  Average Recall (Negative): 0.8160519478674523\n",
      "  Average F1 Score (Positive): 0.8966615483123386\n",
      "  Average F1 Score (Negative): 0.8801096157471374\n",
      "  Average AUC: 0.891738367745386\n"
     ]
    }
   ],
   "source": [
    "import numpy as np\n",
    "from sklearn.model_selection import KFold\n",
    "from sklearn.tree import DecisionTreeClassifier\n",
    "from sklearn.metrics import precision_score, recall_score, f1_score, roc_auc_score, roc_curve, auc, precision_recall_curve\n",
    "\n",
    "def fit_model_DT_CV(data, target, KF):\n",
    "\n",
    "    # Specify the name of your target variable\n",
    "    target_column_name = target\n",
    "\n",
    "    # Split the data into features (X) and the target variable (y)\n",
    "    X = data.drop(columns=[target]).values\n",
    "    y = data[target_column_name].values\n",
    "\n",
    "    # Number of folds for cross-validation\n",
    "    num_folds = KF\n",
    "\n",
    "    # Create Decision Tree classifier\n",
    "    dt = DecisionTreeClassifier(random_state=42)\n",
    "\n",
    "    # Create KFold cross-validator\n",
    "    kf = KFold(n_splits=num_folds, shuffle=True, random_state=42)\n",
    "\n",
    "    # Initialize variables to store overall metrics\n",
    "    overall_accuracy = 0\n",
    "    overall_precision_pos = 0\n",
    "    overall_precision_neg = 0\n",
    "    overall_recall_pos = 0\n",
    "    overall_recall_neg = 0\n",
    "    overall_f1_pos = 0\n",
    "    overall_f1_neg = 0\n",
    "    overall_auc = 0\n",
    "\n",
    "    # Perform cross-validation\n",
    "    for fold, (train_index, test_index) in enumerate(kf.split(X), 1):\n",
    "        X_train, X_test = X[train_index], X[test_index]\n",
    "        y_train, y_test = y[train_index], y[test_index]\n",
    "\n",
    "        # Train Decision Tree model\n",
    "        dt.fit(X_train, y_train)\n",
    "\n",
    "        # Make predictions on the test set\n",
    "        predictions = dt.predict(X_test)\n",
    "\n",
    "        # Calculate metrics for this fold\n",
    "        fold_accuracy = accuracy_score(y_test, predictions)\n",
    "        fold_precision_pos = precision_score(y_test, predictions, pos_label=1)\n",
    "        fold_precision_neg = precision_score(y_test, predictions, pos_label=0)\n",
    "        fold_recall_pos = recall_score(y_test, predictions, pos_label=1)\n",
    "        fold_recall_neg = recall_score(y_test, predictions, pos_label=0)\n",
    "        fold_f1_pos = f1_score(y_test, predictions, pos_label=1)\n",
    "        fold_f1_neg = f1_score(y_test, predictions, pos_label=0)\n",
    "        fold_auc = roc_auc_score(y_test, dt.predict_proba(X_test)[:, 1])\n",
    "\n",
    "        print(f\"Fold {fold}:\")\n",
    "        print(f\"  Accuracy: {fold_accuracy }\")\n",
    "        print(f\"  Precision (Positive): {fold_precision_pos}\")\n",
    "        print(f\"  Precision (Negative): {fold_precision_neg}\")\n",
    "        print(f\"  Recall (Positive): {fold_recall_pos}\")\n",
    "        print(f\"  Recall (Negative): {fold_recall_neg}\")\n",
    "        print(f\"  F1 Score (Positive): {fold_f1_pos}\")\n",
    "        print(f\"  F1 Score (Negative): {fold_f1_neg}\")\n",
    "        print(f\"  AUC: {fold_auc}\")\n",
    "\n",
    "        # Add fold metrics to overall metrics\n",
    "        overall_accuracy+= fold_accuracy\n",
    "        overall_precision_pos += fold_precision_pos\n",
    "        overall_precision_neg += fold_precision_neg\n",
    "        overall_recall_pos += fold_recall_pos\n",
    "        overall_recall_neg += fold_recall_neg\n",
    "        overall_f1_pos += fold_f1_pos\n",
    "        overall_f1_neg += fold_f1_neg\n",
    "        overall_auc += fold_auc\n",
    "\n",
    "    # Calculate and print average metrics across all folds\n",
    "    average_accuracy = overall_accuracy / num_folds\n",
    "    average_precision_pos = overall_precision_pos / num_folds\n",
    "    average_precision_neg = overall_precision_neg / num_folds\n",
    "    average_recall_pos = overall_recall_pos / num_folds\n",
    "    average_recall_neg = overall_recall_neg / num_folds\n",
    "    average_f1_pos = overall_f1_pos / num_folds\n",
    "    average_f1_neg = overall_f1_neg / num_folds\n",
    "    average_auc = overall_auc / num_folds\n",
    "\n",
    "    print(\"\\nAverage Metrics:\")\n",
    "    print(f\"  Average Accuracy: {average_accuracy}\")\n",
    "    print(f\"  Average Precision (Positive): {average_precision_pos}\")\n",
    "    print(f\"  Average Precision (Negative): {average_precision_neg}\")\n",
    "    print(f\"  Average Recall (Positive): {average_recall_pos}\")\n",
    "    print(f\"  Average Recall (Negative): {average_recall_neg}\")\n",
    "    print(f\"  Average F1 Score (Positive): {average_f1_pos}\")\n",
    "    print(f\"  Average F1 Score (Negative): {average_f1_neg}\")\n",
    "    print(f\"  Average AUC: {average_auc}\")\n",
    "\n",
    "# Example usage\n",
    "fit_model_DT_CV(balanced_data1, 'Churn', 10)"
   ]
  },
  {
   "cell_type": "markdown",
   "id": "2698e3a3",
   "metadata": {},
   "source": [
    "## Feature Selection"
   ]
  },
  {
   "cell_type": "markdown",
   "id": "8a88d559",
   "metadata": {},
   "source": [
    "### Variance Thresholding"
   ]
  },
  {
   "cell_type": "code",
   "execution_count": 55,
   "id": "d9dddc29",
   "metadata": {},
   "outputs": [
    {
     "name": "stdout",
     "output_type": "stream",
     "text": [
      "Indices of selected features: [ 4  6 12 13 16 17 18]\n",
      "Selected features: ['tenure', 'MultipleLines', 'StreamingTV', 'StreamingMovies', 'PaymentMethod', 'MonthlyCharges', 'TotalCharges']\n"
     ]
    }
   ],
   "source": [
    "selected_indices, selected_features=select_features_variance_threshold(balanced_data1, threshold=0.8)\n",
    "print(\"Indices of selected features:\", selected_indices)\n",
    "print(\"Selected features:\", selected_features)\n"
   ]
  },
  {
   "cell_type": "code",
   "execution_count": 56,
   "id": "8cab275e",
   "metadata": {},
   "outputs": [
    {
     "name": "stdout",
     "output_type": "stream",
     "text": [
      "Train Accuracy: 0.9854721549636803\n",
      "Validation Accuracy: 0.8280871670702179\n",
      "Test Accuracy: 0.8397870280735721\n",
      "\n",
      "\n",
      "Train Precision: 0.985605524168236\n",
      "Validation Precision: 0.8402704332269129\n",
      "Test Precision: 0.8479574546564084\n",
      "\n",
      "\n",
      "Train Recall: 0.9854721549636803\n",
      "Validation Recall: 0.8280871670702179\n",
      "Test Recall: 0.8397870280735721\n",
      "\n",
      "\n",
      "Train F1 Score: 0.9854693385955217\n",
      "Validation F1 Score: 0.827092682705333\n",
      "Test F1 Score: 0.8390688768181189\n",
      "\n",
      "\n",
      "AUC-ROC: 0.8477892041209824\n",
      "AUC-PR: 0.8697527710910303\n"
     ]
    }
   ],
   "source": [
    "selected_features.append('Churn')\n",
    "var_thrsh_data=balanced_data1[selected_features]\n",
    "fit_model_DT(var_thrsh_data,'Churn')"
   ]
  },
  {
   "cell_type": "markdown",
   "id": "4b269443",
   "metadata": {},
   "source": [
    "### Wrapper Method "
   ]
  },
  {
   "cell_type": "markdown",
   "id": "ff200559",
   "metadata": {},
   "source": [
    "#### Recursive Feature Elimination"
   ]
  },
  {
   "cell_type": "code",
   "execution_count": 57,
   "id": "734eedc6",
   "metadata": {},
   "outputs": [
    {
     "name": "stdout",
     "output_type": "stream",
     "text": [
      "Train Accuracy: 0.8035512510088781\n",
      "Validation Accuracy: 0.7569007263922518\n",
      "Test Accuracy: 0.7507260406582769\n",
      "\n",
      "\n",
      "Train Precision: 0.8087808635227578\n",
      "Validation Precision: 0.7677591768572127\n",
      "Test Precision: 0.7595082178412615\n",
      "\n",
      "\n",
      "Train Recall: 0.8035512510088781\n",
      "Validation Recall: 0.7569007263922518\n",
      "Test Recall: 0.7507260406582769\n",
      "\n",
      "\n",
      "Train F1 Score: 0.8024595679090113\n",
      "Validation F1 Score: 0.75536315264401\n",
      "Test F1 Score: 0.7491035938124606\n",
      "\n",
      "\n",
      "AUC-ROC: 0.8000272769964933\n",
      "AUC-PR: 0.7193579346949925\n"
     ]
    }
   ],
   "source": [
    "fit_model_DT(wrapper_data_rfe,'Churn')"
   ]
  },
  {
   "cell_type": "markdown",
   "id": "3282cf71",
   "metadata": {},
   "source": [
    "#### Forward Feature Selection"
   ]
  },
  {
   "cell_type": "code",
   "execution_count": 58,
   "id": "7d2527bd",
   "metadata": {},
   "outputs": [
    {
     "name": "stdout",
     "output_type": "stream",
     "text": [
      "Train Accuracy: 0.7602905569007264\n",
      "Validation Accuracy: 0.7486682808716707\n",
      "Test Accuracy: 0.7366892545982575\n",
      "\n",
      "\n",
      "Train Precision: 0.7665662546933522\n",
      "Validation Precision: 0.7608986589503745\n",
      "Test Precision: 0.7487642811921997\n",
      "\n",
      "\n",
      "Train Recall: 0.7602905569007264\n",
      "Validation Recall: 0.7486682808716707\n",
      "Test Recall: 0.7366892545982575\n",
      "\n",
      "\n",
      "Train F1 Score: 0.7584624197533967\n",
      "Validation F1 Score: 0.7467676723071228\n",
      "Test F1 Score: 0.7341164925957363\n",
      "\n",
      "\n",
      "AUC-ROC: 0.8188085670390775\n",
      "AUC-PR: 0.797511738226381\n"
     ]
    }
   ],
   "source": [
    "fit_model_LR(wrapper_data_ffs,'Churn')"
   ]
  },
  {
   "cell_type": "markdown",
   "id": "b17d51cd",
   "metadata": {},
   "source": [
    "### Principal Component Analysis"
   ]
  },
  {
   "cell_type": "code",
   "execution_count": 59,
   "id": "c753ec0e",
   "metadata": {},
   "outputs": [
    {
     "name": "stdout",
     "output_type": "stream",
     "text": [
      "Train Accuracy: 0.9706214689265537\n",
      "Validation Accuracy: 0.7549636803874092\n",
      "Test Accuracy: 0.749757986447241\n",
      "\n",
      "\n",
      "Train Precision: 0.9706445048886196\n",
      "Validation Precision: 0.7606440108246689\n",
      "Test Precision: 0.7561654585042301\n",
      "\n",
      "\n",
      "Train Recall: 0.9706214689265537\n",
      "Validation Recall: 0.7549636803874092\n",
      "Test Recall: 0.749757986447241\n",
      "\n",
      "\n",
      "Train F1 Score: 0.9706207447248929\n",
      "Validation F1 Score: 0.7535302224503488\n",
      "Test F1 Score: 0.7485659612290682\n",
      "\n",
      "\n",
      "AUC-ROC: 0.7661054107581547\n",
      "AUC-PR: 0.8095448157996177\n"
     ]
    }
   ],
   "source": [
    "fit_model_DT(X_pca_df,'Churn')"
   ]
  },
  {
   "cell_type": "markdown",
   "id": "00344fb1",
   "metadata": {},
   "source": [
    "**Comment :** The scores of training data were too high and dropped in validation and testing data indicating overfitting. The Cross Validation however showed that the model did offer good generaliziilty with good performance and AUC scores showed that it also handled imbalance well.\n",
    "\n",
    "The feature selectors were not really helpful as there wasnt eny significant difference in the performance of model across different feautres."
   ]
  },
  {
   "cell_type": "markdown",
   "id": "f5ec7d0f",
   "metadata": {},
   "source": [
    "# ALGORITHM 4: Random Forest"
   ]
  },
  {
   "cell_type": "code",
   "execution_count": 60,
   "id": "0504d735",
   "metadata": {},
   "outputs": [
    {
     "name": "stdout",
     "output_type": "stream",
     "text": [
      "Train Accuracy: 0.9079903147699758\n",
      "Validation Accuracy: 0.8319612590799031\n",
      "Test Accuracy: 0.8334946757018393\n",
      "\n",
      "\n",
      "Train Precision: 0.9119942826765315\n",
      "Validation Precision: 0.8409269251369095\n",
      "Test Precision: 0.8433957060881644\n",
      "\n",
      "\n",
      "Train Recall: 0.9079903147699758\n",
      "Validation Recall: 0.8319612590799031\n",
      "Test Recall: 0.8334946757018393\n",
      "\n",
      "\n",
      "Train F1 Score: 0.9076910328553359\n",
      "Validation F1 Score: 0.8313125406210423\n",
      "Test F1 Score: 0.8325509999037705\n",
      "\n",
      "\n",
      "AUC-ROC: 0.9037356362242264\n",
      "AUC-PR: 0.8758981811180808\n"
     ]
    }
   ],
   "source": [
    "fit_model_RF(balanced_data1, 'Churn')"
   ]
  },
  {
   "cell_type": "markdown",
   "id": "1c29ea9f",
   "metadata": {},
   "source": [
    "### Cross-Validation:"
   ]
  },
  {
   "cell_type": "code",
   "execution_count": 61,
   "id": "5891016c",
   "metadata": {},
   "outputs": [
    {
     "name": "stdout",
     "output_type": "stream",
     "text": [
      "Fold 1:\n",
      "  Accuracy: 0.898838334946757\n",
      "  Precision: 0.8594741613780599\n",
      "  Recall: 0.9461077844311377\n",
      "  F1 Score (Positive): 0.9007125890736342\n",
      "  F1 Score (Negative): 0.8968919585594475\n",
      "  AUC-ROC: 0.9645685133492414\n",
      "  AUC-PR: 0.9538742189005155\n",
      "Fold 2:\n",
      "  Accuracy: 0.8895883777239709\n",
      "  Precision: 0.8364565587734242\n",
      "  Recall: 0.9646365422396856\n",
      "  F1 Score (Positive): 0.8959854014598541\n",
      "  F1 Score (Negative): 0.8823529411764706\n",
      "  AUC-ROC: 0.9642922148227793\n",
      "  AUC-PR: 0.9521189235979404\n",
      "Fold 3:\n",
      "  Accuracy: 0.913317191283293\n",
      "  Precision: 0.8802447552447552\n",
      "  Recall: 0.9599618684461392\n",
      "  F1 Score (Positive): 0.9183766529867761\n",
      "  F1 Score (Negative): 0.907589055240062\n",
      "  AUC-ROC: 0.974509375258026\n",
      "  AUC-PR: 0.9717020739278035\n",
      "Fold 4:\n",
      "  Accuracy: 0.897820823244552\n",
      "  Precision: 0.8620087336244542\n",
      "  Recall: 0.9490384615384615\n",
      "  F1 Score (Positive): 0.9034324942791762\n",
      "  F1 Score (Negative): 0.8915167095115681\n",
      "  AUC-ROC: 0.9663897748592871\n",
      "  AUC-PR: 0.9654958300597263\n",
      "Fold 5:\n",
      "  Accuracy: 0.9099273607748184\n",
      "  Precision: 0.8754325259515571\n",
      "  Recall: 0.9601518026565465\n",
      "  F1 Score (Positive): 0.9158371040723982\n",
      "  F1 Score (Negative): 0.903125\n",
      "  AUC-ROC: 0.9641730340073236\n",
      "  AUC-PR: 0.9568792829362958\n",
      "\n",
      "Average Metrics:\n",
      "  Average Accuracy: 0.9018984175946783\n",
      "  Average Precision: 0.86272334699445\n",
      "  Average Recall: 0.9559792918623942\n",
      "  Average F1 Score (Positive): 0.9068688483743678\n",
      "  Average F1 Score (Negative): 0.8962951328975096\n",
      "  Average AUC-ROC: 0.9667865824593316\n",
      "  Average AUC-PR: 0.9600140658844563\n"
     ]
    }
   ],
   "source": [
    "import numpy as np\n",
    "from sklearn.model_selection import KFold\n",
    "from sklearn.ensemble import RandomForestClassifier\n",
    "from sklearn.metrics import precision_score, recall_score, f1_score, roc_auc_score, average_precision_score, accuracy_score\n",
    "\n",
    "def fit_model_RF_CV(data, target, KF, n_estimators=30):\n",
    "\n",
    "    # Specify the name of your target variable\n",
    "    target_column_name = target\n",
    "\n",
    "    # Split the data into features (X) and the target variable (y)\n",
    "    X = data.drop(columns=[target]).values\n",
    "    y = data[target_column_name].values\n",
    "\n",
    "    # Number of folds for cross-validation\n",
    "    num_folds = KF\n",
    "\n",
    "    # Create Random Forest classifier\n",
    "    rf = RandomForestClassifier(n_estimators=n_estimators, random_state=42)\n",
    "\n",
    "    # Create KFold cross-validator\n",
    "    kf = KFold(n_splits=num_folds, shuffle=True, random_state=42)\n",
    "\n",
    "    # Initialize variables to store overall metrics\n",
    "    overall_precision = 0\n",
    "    overall_recall = 0\n",
    "    overall_f1_pos = 0\n",
    "    overall_f1_neg = 0\n",
    "    overall_auc_roc = 0\n",
    "    overall_auc_pr = 0\n",
    "    overall_accuracy = 0\n",
    "\n",
    "    # Perform cross-validation\n",
    "    for fold, (train_index, test_index) in enumerate(kf.split(X), 1):\n",
    "        X_train, X_test = X[train_index], X[test_index]\n",
    "        y_train, y_test = y[train_index], y[test_index]\n",
    "\n",
    "        # Train Random Forest model\n",
    "        rf.fit(X_train, y_train)\n",
    "\n",
    "        # Make predictions on the test set\n",
    "        predictions = rf.predict(X_test)\n",
    "        probabilities = rf.predict_proba(X_test)[:, 1]\n",
    "\n",
    "        # Calculate metrics for this fold\n",
    "        precision = precision_score(y_test, predictions)\n",
    "        recall = recall_score(y_test, predictions)\n",
    "        f1_pos = f1_score(y_test, predictions, pos_label=1)\n",
    "        f1_neg = f1_score(y_test, predictions, pos_label=0)\n",
    "        auc_roc = roc_auc_score(y_test, probabilities)\n",
    "        auc_pr = average_precision_score(y_test, probabilities)\n",
    "        accuracy = accuracy_score(y_test, predictions)\n",
    "\n",
    "        print(f\"Fold {fold}:\")\n",
    "        print(f\"  Accuracy: {accuracy}\")\n",
    "        print(f\"  Precision: {precision}\")\n",
    "        print(f\"  Recall: {recall}\")\n",
    "        print(f\"  F1 Score (Positive): {f1_pos}\")\n",
    "        print(f\"  F1 Score (Negative): {f1_neg}\")\n",
    "        print(f\"  AUC-ROC: {auc_roc}\")\n",
    "        print(f\"  AUC-PR: {auc_pr}\")\n",
    "\n",
    "        # Add fold metrics to overall metrics\n",
    "        overall_precision += precision\n",
    "        overall_recall += recall\n",
    "        overall_f1_pos += f1_pos\n",
    "        overall_f1_neg += f1_neg\n",
    "        overall_auc_roc += auc_roc\n",
    "        overall_auc_pr += auc_pr\n",
    "        overall_accuracy += accuracy\n",
    "\n",
    "    # Calculate and print average metrics across all folds\n",
    "    average_precision = overall_precision / num_folds\n",
    "    average_recall = overall_recall / num_folds\n",
    "    average_f1_pos = overall_f1_pos / num_folds\n",
    "    average_f1_neg = overall_f1_neg / num_folds\n",
    "    average_auc_roc = overall_auc_roc / num_folds\n",
    "    average_auc_pr = overall_auc_pr / num_folds\n",
    "    average_accuracy = overall_accuracy / num_folds\n",
    "\n",
    "    print(\"\\nAverage Metrics:\")\n",
    "    print(f\"  Average Accuracy: {average_accuracy}\")\n",
    "    print(f\"  Average Precision: {average_precision}\")\n",
    "    print(f\"  Average Recall: {average_recall}\")\n",
    "    print(f\"  Average F1 Score (Positive): {average_f1_pos}\")\n",
    "    print(f\"  Average F1 Score (Negative): {average_f1_neg}\")\n",
    "    print(f\"  Average AUC-ROC: {average_auc_roc}\")\n",
    "    print(f\"  Average AUC-PR: {average_auc_pr}\")\n",
    "\n",
    "# Example usage\n",
    "fit_model_RF_CV(balanced_data1, 'Churn', KF=5, n_estimators=30)\n"
   ]
  },
  {
   "cell_type": "markdown",
   "id": "8e8254e0",
   "metadata": {},
   "source": [
    "## Feature Engineering"
   ]
  },
  {
   "cell_type": "markdown",
   "id": "ad812224",
   "metadata": {},
   "source": [
    "### Variance Thresholding"
   ]
  },
  {
   "cell_type": "code",
   "execution_count": 62,
   "id": "a107b2ef",
   "metadata": {},
   "outputs": [
    {
     "name": "stdout",
     "output_type": "stream",
     "text": [
      "Indices of selected features: [16]\n",
      "Selected features: ['PaymentMethod']\n"
     ]
    }
   ],
   "source": [
    "selected_indices, selected_features=select_features_variance_threshold(balanced_data1, threshold=1.0)\n",
    "print(\"Indices of selected features:\", selected_indices)\n",
    "print(\"Selected features:\", selected_features)"
   ]
  },
  {
   "cell_type": "code",
   "execution_count": 63,
   "id": "18677638",
   "metadata": {},
   "outputs": [
    {
     "name": "stdout",
     "output_type": "stream",
     "text": [
      "Train Accuracy: 0.6589184826472962\n",
      "Validation Accuracy: 0.6648910411622276\n",
      "Test Accuracy: 0.6723136495643756\n",
      "\n",
      "\n",
      "Train Precision: 0.6663375608792912\n",
      "Validation Precision: 0.6664652353700234\n",
      "Test Precision: 0.6752412738253752\n",
      "\n",
      "\n",
      "Train Recall: 0.6589184826472962\n",
      "Validation Recall: 0.6648910411622276\n",
      "Test Recall: 0.6723136495643756\n",
      "\n",
      "\n",
      "Train F1 Score: 0.6560747362922479\n",
      "Validation F1 Score: 0.6628407366671317\n",
      "Test F1 Score: 0.6702271957875395\n",
      "\n",
      "\n",
      "AUC-ROC: 0.6845705935230724\n",
      "AUC-PR: 0.7400242818312198\n"
     ]
    }
   ],
   "source": [
    "selected_features.append('Churn')\n",
    "var_thrsh_data=balanced_data1[selected_features]\n",
    "fit_model_RF(var_thrsh_data,'Churn')"
   ]
  },
  {
   "cell_type": "markdown",
   "id": "662b4e80",
   "metadata": {},
   "source": [
    "### Wrapper Method "
   ]
  },
  {
   "cell_type": "markdown",
   "id": "1b74acc1",
   "metadata": {},
   "source": [
    "#### Recursive Feature Elimination"
   ]
  },
  {
   "cell_type": "code",
   "execution_count": 64,
   "id": "698084b9",
   "metadata": {},
   "outputs": [
    {
     "name": "stdout",
     "output_type": "stream",
     "text": [
      "Train Accuracy: 0.7917675544794189\n",
      "Validation Accuracy: 0.752542372881356\n",
      "Test Accuracy: 0.7570183930300097\n",
      "\n",
      "\n",
      "Train Precision: 0.7992292733733342\n",
      "Validation Precision: 0.768099706744868\n",
      "Test Precision: 0.7688216801466072\n",
      "\n",
      "\n",
      "Train Recall: 0.7917675544794189\n",
      "Validation Recall: 0.752542372881356\n",
      "Test Recall: 0.7570183930300097\n",
      "\n",
      "\n",
      "Train F1 Score: 0.7901253089039215\n",
      "Validation F1 Score: 0.7500759472855668\n",
      "Test F1 Score: 0.754874575319189\n",
      "\n",
      "\n",
      "AUC-ROC: 0.8118768354559711\n",
      "AUC-PR: 0.7344719211386139\n"
     ]
    }
   ],
   "source": [
    "fit_model_RF(wrapper_data_rfe,'Churn')"
   ]
  },
  {
   "cell_type": "markdown",
   "id": "8d16b1b0",
   "metadata": {},
   "source": [
    "#### Forward Feature Selection"
   ]
  },
  {
   "cell_type": "code",
   "execution_count": 65,
   "id": "5af1a0f7",
   "metadata": {},
   "outputs": [
    {
     "name": "stdout",
     "output_type": "stream",
     "text": [
      "Train Accuracy: 0.8723163841807909\n",
      "Validation Accuracy: 0.7961259079903148\n",
      "Test Accuracy: 0.7928363988383349\n",
      "\n",
      "\n",
      "Train Precision: 0.8781895391539193\n",
      "Validation Precision: 0.806470002717165\n",
      "Test Precision: 0.8014876260807379\n",
      "\n",
      "\n",
      "Train Recall: 0.8723163841807909\n",
      "Validation Recall: 0.7961259079903148\n",
      "Test Recall: 0.7928363988383349\n",
      "\n",
      "\n",
      "Train F1 Score: 0.8716796627301078\n",
      "Validation F1 Score: 0.795066461902143\n",
      "Test F1 Score: 0.7916926706105059\n",
      "\n",
      "\n",
      "AUC-ROC: 0.8770041796607341\n",
      "AUC-PR: 0.8456734120360935\n"
     ]
    }
   ],
   "source": [
    "fit_model_RF(wrapper_data_ffs,'Churn')"
   ]
  },
  {
   "cell_type": "markdown",
   "id": "f09c7e47",
   "metadata": {},
   "source": [
    "### Principal Component Analysis"
   ]
  },
  {
   "cell_type": "code",
   "execution_count": 66,
   "id": "01cf99f4",
   "metadata": {},
   "outputs": [
    {
     "name": "stdout",
     "output_type": "stream",
     "text": [
      "Train Accuracy: 0.8829701372074253\n",
      "Validation Accuracy: 0.7060532687651332\n",
      "Test Accuracy: 0.7047434656340755\n",
      "\n",
      "\n",
      "Train Precision: 0.8836397478045442\n",
      "Validation Precision: 0.7064711395766617\n",
      "Test Precision: 0.7076099500558872\n",
      "\n",
      "\n",
      "Train Recall: 0.8829701372074253\n",
      "Validation Recall: 0.7060532687651332\n",
      "Test Recall: 0.7047434656340755\n",
      "\n",
      "\n",
      "Train F1 Score: 0.8829093810236772\n",
      "Validation F1 Score: 0.7058639768187532\n",
      "Test F1 Score: 0.7040916050574171\n",
      "\n",
      "\n",
      "AUC-ROC: 0.7816927283242087\n",
      "AUC-PR: 0.7916646367107465\n"
     ]
    }
   ],
   "source": [
    "fit_model_RF(X_pca_df,'Churn')"
   ]
  },
  {
   "cell_type": "markdown",
   "id": "9a08d1e9",
   "metadata": {},
   "source": [
    "**Comment :** Performance is quite similar to decision trees. "
   ]
  },
  {
   "cell_type": "markdown",
   "id": "91b76596",
   "metadata": {},
   "source": [
    "# ALGORITHM 5: MultiLayer Perecptron "
   ]
  },
  {
   "cell_type": "markdown",
   "id": "303f0280",
   "metadata": {},
   "source": [
    "### MODEL SELECTION"
   ]
  },
  {
   "cell_type": "markdown",
   "id": "0b263cee",
   "metadata": {},
   "source": [
    "### Manual Splitting:"
   ]
  },
  {
   "cell_type": "code",
   "execution_count": 67,
   "id": "7511785d",
   "metadata": {},
   "outputs": [
    {
     "name": "stdout",
     "output_type": "stream",
     "text": [
      "Train Accuracy: 0.7693301049233252\n",
      "Validation Accuracy: 0.7573849878934624\n",
      "Test Accuracy: 0.7570183930300097\n",
      "\n",
      "\n",
      "Train Precision: 0.7717705184860885\n",
      "Validation Precision: 0.7635113363908215\n",
      "Test Precision: 0.7634056711418024\n",
      "\n",
      "\n",
      "Train Recall: 0.7693301049233252\n",
      "Validation Recall: 0.7573849878934624\n",
      "Test Recall: 0.7570183930300097\n",
      "\n",
      "\n",
      "Train F1 Score: 0.7685668230874214\n",
      "Validation F1 Score: 0.7566742689049928\n",
      "Test F1 Score: 0.7559451196120226\n",
      "\n",
      "\n",
      "AUC-ROC: 0.8386804682644801\n",
      "AUC-PR: 0.8194843252336843\n"
     ]
    }
   ],
   "source": [
    "fit_model_MLP(balanced_data1, 'Churn')"
   ]
  },
  {
   "cell_type": "markdown",
   "id": "069c1463",
   "metadata": {},
   "source": [
    "### Cross-Validation:"
   ]
  },
  {
   "cell_type": "code",
   "execution_count": 68,
   "id": "1cc3c7d1",
   "metadata": {},
   "outputs": [
    {
     "name": "stdout",
     "output_type": "stream",
     "text": [
      "Fold 1:\n",
      "  Accuracy: 0.7642787996127783\n",
      "  Precision: 0.7395348837209302\n",
      "  Recall: 0.7934131736526946\n",
      "  F1 Score (Positive): 0.7655272026961965\n",
      "  F1 Score (Negative): 0.7630170316301703\n",
      "  AUC-ROC: 0.8469297307640359\n",
      "  AUC-PR: 0.8180521295224553\n",
      "Fold 2:\n",
      "  Accuracy: 0.7452784503631962\n",
      "  Precision: 0.7173144876325088\n",
      "  Recall: 0.7976424361493124\n",
      "  F1 Score (Positive): 0.7553488372093023\n",
      "  F1 Score (Negative): 0.7343434343434343\n",
      "  AUC-ROC: 0.8369970896358385\n",
      "  AUC-PR: 0.8231994609107623\n",
      "Fold 3:\n",
      "  Accuracy: 0.7825665859564165\n",
      "  Precision: 0.7707581227436823\n",
      "  Recall: 0.8141086749285034\n",
      "  F1 Score (Positive): 0.7918405192396848\n",
      "  F1 Score (Negative): 0.7724277749619868\n",
      "  AUC-ROC: 0.8618481793684274\n",
      "  AUC-PR: 0.8576908091047979\n",
      "Fold 4:\n",
      "  Accuracy: 0.7559322033898305\n",
      "  Precision: 0.7637795275590551\n",
      "  Recall: 0.7461538461538462\n",
      "  F1 Score (Positive): 0.754863813229572\n",
      "  F1 Score (Negative): 0.7569913211186113\n",
      "  AUC-ROC: 0.8428625703564729\n",
      "  AUC-PR: 0.8291584380715165\n",
      "Fold 5:\n",
      "  Accuracy: 0.7539951573849879\n",
      "  Precision: 0.7398945518453427\n",
      "  Recall: 0.7988614800759013\n",
      "  F1 Score (Positive): 0.7682481751824818\n",
      "  F1 Score (Negative): 0.737874097007224\n",
      "  AUC-ROC: 0.8394777936061952\n",
      "  AUC-PR: 0.827673618240828\n",
      "\n",
      "Average Metrics:\n",
      "  Average Accuracy: 0.7604102393414418\n",
      "  Average Precision: 0.7462563147003038\n",
      "  Average Recall: 0.7900359221920515\n",
      "  Average F1 Score (Positive): 0.7671657095114475\n",
      "  Average F1 Score (Negative): 0.7529307318122853\n",
      "  Average AUC-ROC: 0.845623072746194\n",
      "  Average AUC-PR: 0.831154891170072\n"
     ]
    }
   ],
   "source": [
    "import numpy as np\n",
    "from sklearn.model_selection import KFold\n",
    "from sklearn.neural_network import MLPClassifier\n",
    "from sklearn.metrics import precision_score, recall_score, f1_score, roc_auc_score, average_precision_score, accuracy_score\n",
    "\n",
    "def fit_model_MLP_CV(data, target, KF):\n",
    "\n",
    "    # Specify the name of your target variable\n",
    "    target_column_name = target\n",
    "\n",
    "    # Split the data into features (X) and the target variable (y)\n",
    "    X = data.drop(columns=[target]).values\n",
    "    y = data[target_column_name].values\n",
    "\n",
    "    # Number of folds for cross-validation\n",
    "    num_folds = KF\n",
    "\n",
    "    # Create MLP classifier\n",
    "    mlp = MLPClassifier(hidden_layer_sizes=(100,), activation='logistic', solver='sgd', learning_rate='constant', learning_rate_init=0.01, max_iter=1000)\n",
    "\n",
    "    # Create KFold cross-validator\n",
    "    kf = KFold(n_splits=num_folds, shuffle=True, random_state=42)\n",
    "\n",
    "    # Initialize variables to store overall metrics\n",
    "    overall_precision = 0\n",
    "    overall_recall = 0\n",
    "    overall_f1_pos = 0\n",
    "    overall_f1_neg = 0\n",
    "    overall_auc_roc = 0\n",
    "    overall_auc_pr = 0\n",
    "    overall_accuracy = 0\n",
    "\n",
    "    # Perform cross-validation\n",
    "    for fold, (train_index, test_index) in enumerate(kf.split(X), 1):\n",
    "        X_train, X_test = X[train_index], X[test_index]\n",
    "        y_train, y_test = y[train_index], y[test_index]\n",
    "\n",
    "        # Train MLP model\n",
    "        mlp.fit(X_train, y_train)\n",
    "\n",
    "        # Make predictions on the test set\n",
    "        predictions = mlp.predict(X_test)\n",
    "        probabilities = mlp.predict_proba(X_test)[:, 1]\n",
    "\n",
    "        # Calculate metrics for this fold\n",
    "        precision = precision_score(y_test, predictions)\n",
    "        recall = recall_score(y_test, predictions)\n",
    "        f1_pos = f1_score(y_test, predictions, pos_label=1)\n",
    "        f1_neg = f1_score(y_test, predictions, pos_label=0)\n",
    "        auc_roc = roc_auc_score(y_test, probabilities)\n",
    "        auc_pr = average_precision_score(y_test, probabilities)\n",
    "        accuracy = accuracy_score(y_test, predictions)\n",
    "\n",
    "        print(f\"Fold {fold}:\")\n",
    "        print(f\"  Accuracy: {accuracy}\")\n",
    "        print(f\"  Precision: {precision}\")\n",
    "        print(f\"  Recall: {recall}\")\n",
    "        print(f\"  F1 Score (Positive): {f1_pos}\")\n",
    "        print(f\"  F1 Score (Negative): {f1_neg}\")\n",
    "        print(f\"  AUC-ROC: {auc_roc}\")\n",
    "        print(f\"  AUC-PR: {auc_pr}\")\n",
    "\n",
    "        # Add fold metrics to overall metrics\n",
    "        overall_precision += precision\n",
    "        overall_recall += recall\n",
    "        overall_f1_pos += f1_pos\n",
    "        overall_f1_neg += f1_neg\n",
    "        overall_auc_roc += auc_roc\n",
    "        overall_auc_pr += auc_pr\n",
    "        overall_accuracy += accuracy\n",
    "\n",
    "    # Calculate and print average metrics across all folds\n",
    "    average_precision = overall_precision / num_folds\n",
    "    average_recall = overall_recall / num_folds\n",
    "    average_f1_pos = overall_f1_pos / num_folds\n",
    "    average_f1_neg = overall_f1_neg / num_folds\n",
    "    average_auc_roc = overall_auc_roc / num_folds\n",
    "    average_auc_pr = overall_auc_pr / num_folds\n",
    "    average_accuracy = overall_accuracy / num_folds\n",
    "\n",
    "    print(\"\\nAverage Metrics:\")\n",
    "    print(f\"  Average Accuracy: {average_accuracy}\")\n",
    "    print(f\"  Average Precision: {average_precision}\")\n",
    "    print(f\"  Average Recall: {average_recall}\")\n",
    "    print(f\"  Average F1 Score (Positive): {average_f1_pos}\")\n",
    "    print(f\"  Average F1 Score (Negative): {average_f1_neg}\")\n",
    "    print(f\"  Average AUC-ROC: {average_auc_roc}\")\n",
    "    print(f\"  Average AUC-PR: {average_auc_pr}\")\n",
    "\n",
    "# Example usage\n",
    "fit_model_MLP_CV(balanced_data1, 'Churn', KF=5)\n"
   ]
  },
  {
   "cell_type": "markdown",
   "id": "6eb006a5",
   "metadata": {},
   "source": [
    "## Feature Selection"
   ]
  },
  {
   "cell_type": "markdown",
   "id": "7eea5f14",
   "metadata": {},
   "source": [
    "### Variance Thresholding"
   ]
  },
  {
   "cell_type": "code",
   "execution_count": 69,
   "id": "83a74ef1",
   "metadata": {},
   "outputs": [
    {
     "name": "stdout",
     "output_type": "stream",
     "text": [
      "Indices of selected features: [ 4  6  8  9 10 11 12 13 14 16 17 18]\n",
      "Selected features: ['tenure', 'MultipleLines', 'OnlineSecurity', 'OnlineBackup', 'DeviceProtection', 'TechSupport', 'StreamingTV', 'StreamingMovies', 'Contract', 'PaymentMethod', 'MonthlyCharges', 'TotalCharges']\n"
     ]
    }
   ],
   "source": [
    "selected_indices, selected_features=select_features_variance_threshold(balanced_data1, threshold=0.5)\n",
    "print(\"Indices of selected features:\", selected_indices)\n",
    "print(\"Selected features:\", selected_features)\n"
   ]
  },
  {
   "cell_type": "code",
   "execution_count": 70,
   "id": "b4603758",
   "metadata": {},
   "outputs": [
    {
     "name": "stdout",
     "output_type": "stream",
     "text": [
      "Train Accuracy: 0.7551251008878127\n",
      "Validation Accuracy: 0.7530266343825666\n",
      "Test Accuracy: 0.7420135527589545\n",
      "\n",
      "\n",
      "Train Precision: 0.7573971272437808\n",
      "Validation Precision: 0.7579731406557525\n",
      "Test Precision: 0.7471430568288766\n",
      "\n",
      "\n",
      "Train Recall: 0.7551251008878127\n",
      "Validation Recall: 0.7530266343825666\n",
      "Test Recall: 0.7420135527589545\n",
      "\n",
      "\n",
      "Train F1 Score: 0.7543148149920351\n",
      "Validation F1 Score: 0.752491422904347\n",
      "Test F1 Score: 0.7410820322619123\n",
      "\n",
      "\n",
      "AUC-ROC: 0.8330188511229031\n",
      "AUC-PR: 0.818172695075837\n"
     ]
    }
   ],
   "source": [
    "selected_features.append('Churn')\n",
    "var_thrsh_data=balanced_data1[selected_features]\n",
    "fit_model_MLP(var_thrsh_data,'Churn')"
   ]
  },
  {
   "cell_type": "markdown",
   "id": "3cb784c2",
   "metadata": {},
   "source": [
    "### Wrapper Method "
   ]
  },
  {
   "cell_type": "markdown",
   "id": "32ba6e70",
   "metadata": {},
   "source": [
    "#### Recursive Feature Elimination"
   ]
  },
  {
   "cell_type": "code",
   "execution_count": 71,
   "id": "dc2e213f",
   "metadata": {},
   "outputs": [
    {
     "name": "stdout",
     "output_type": "stream",
     "text": [
      "Train Accuracy: 0.7447941888619855\n",
      "Validation Accuracy: 0.7404358353510896\n",
      "Test Accuracy: 0.7371732817037754\n",
      "\n",
      "\n",
      "Train Precision: 0.7507781578411068\n",
      "Validation Precision: 0.7522515140305974\n",
      "Test Precision: 0.7491591012779018\n",
      "\n",
      "\n",
      "Train Recall: 0.7447941888619855\n",
      "Validation Recall: 0.7404358353510896\n",
      "Test Recall: 0.7371732817037754\n",
      "\n",
      "\n",
      "Train F1 Score: 0.7428037377274243\n",
      "Validation F1 Score: 0.7384952654714886\n",
      "Test F1 Score: 0.7346307448191519\n",
      "\n",
      "\n",
      "AUC-ROC: 0.7923428502867834\n",
      "AUC-PR: 0.7195143657583121\n"
     ]
    }
   ],
   "source": [
    "fit_model_MLP(wrapper_data_rfe,'Churn')"
   ]
  },
  {
   "cell_type": "markdown",
   "id": "dce6293e",
   "metadata": {},
   "source": [
    "#### Forward Feature Selection"
   ]
  },
  {
   "cell_type": "code",
   "execution_count": 72,
   "id": "27e08a4d",
   "metadata": {},
   "outputs": [
    {
     "name": "stdout",
     "output_type": "stream",
     "text": [
      "Train Accuracy: 0.7612590799031477\n",
      "Validation Accuracy: 0.7506053268765133\n",
      "Test Accuracy: 0.7434656340755083\n",
      "\n",
      "\n",
      "Train Precision: 0.7666184390571456\n",
      "Validation Precision: 0.760544029415544\n",
      "Test Precision: 0.7536855315565011\n",
      "\n",
      "\n",
      "Train Recall: 0.7612590799031477\n",
      "Validation Recall: 0.7506053268765133\n",
      "Test Recall: 0.7434656340755083\n",
      "\n",
      "\n",
      "Train F1 Score: 0.7596761694829118\n",
      "Validation F1 Score: 0.7491626242063282\n",
      "Test F1 Score: 0.7414327835191898\n",
      "\n",
      "\n",
      "AUC-ROC: 0.8174943969674728\n",
      "AUC-PR: 0.7964877975877839\n"
     ]
    }
   ],
   "source": [
    "fit_model_MLP(wrapper_data_ffs,'Churn')"
   ]
  },
  {
   "cell_type": "markdown",
   "id": "684a2ed4",
   "metadata": {},
   "source": [
    "### Principal Component Analysis"
   ]
  },
  {
   "cell_type": "code",
   "execution_count": 73,
   "id": "87266633",
   "metadata": {},
   "outputs": [
    {
     "name": "stdout",
     "output_type": "stream",
     "text": [
      "Train Accuracy: 0.5249394673123486\n",
      "Validation Accuracy: 0.4891041162227603\n",
      "Test Accuracy: 0.5091965150048403\n",
      "\n",
      "\n",
      "Train Precision: 0.5283917475131764\n",
      "Validation Precision: 0.48836145158219557\n",
      "Test Precision: 0.5078549813991726\n",
      "\n",
      "\n",
      "Train Recall: 0.5249394673123486\n",
      "Validation Recall: 0.4891041162227603\n",
      "Test Recall: 0.5091965150048403\n",
      "\n",
      "\n",
      "Train F1 Score: 0.5125877623892243\n",
      "Validation F1 Score: 0.4744005538243764\n",
      "Test F1 Score: 0.49485336956069803\n",
      "\n",
      "\n",
      "AUC-ROC: 0.5084760139957802\n",
      "AUC-PR: 0.5010503168569529\n"
     ]
    }
   ],
   "source": [
    "fit_model_MLP(X_pca_df,'Churn')"
   ]
  },
  {
   "cell_type": "markdown",
   "id": "7e4ab028",
   "metadata": {},
   "source": [
    "**COMMENT :** Multilayer Perceptron doesnt perform as better as ensemble algorithms however performance is well generalized as compared to them. It also handles imbalance well. PCA failed."
   ]
  },
  {
   "cell_type": "markdown",
   "id": "8dfc2366",
   "metadata": {},
   "source": [
    "# CI ALGORITHM 2: CLUSTERING"
   ]
  },
  {
   "cell_type": "markdown",
   "id": "6bb0f0af",
   "metadata": {},
   "source": [
    "Cluster based undersampling is done using NearMiss technique. The size of dataset decreased to around 3700 rows."
   ]
  },
  {
   "cell_type": "code",
   "execution_count": 176,
   "id": "ae44fc7e",
   "metadata": {},
   "outputs": [
    {
     "name": "stdout",
     "output_type": "stream",
     "text": [
      "\n",
      "Cluster NearMiss Undersampling:\n",
      "0    1869\n",
      "1    1869\n",
      "Name: Churn, dtype: int64\n"
     ]
    }
   ],
   "source": [
    "import pandas as pd\n",
    "from imblearn.under_sampling import NearMiss\n",
    "from sklearn.cluster import KMeans\n",
    "\n",
    "def cluster_nearmiss_undersample(data, label, n_clusters=2):\n",
    "    \"\"\"\n",
    "    Performs clustering-based NearMiss undersampling on the input dataset.\n",
    "\n",
    "    Parameters:\n",
    "    data (DataFrame): Input DataFrame containing features and target variable.\n",
    "    label (str): Name of the target variable column.\n",
    "    n_clusters (int): Number of clusters for KMeans.\n",
    "\n",
    "    Returns:\n",
    "    downsampled_data (DataFrame): Downsampled DataFrame.\n",
    "    \"\"\"\n",
    "\n",
    "    # Separate features and target variable\n",
    "    X = data.drop(label, axis=1)\n",
    "    y = data[label]\n",
    "\n",
    "    # Initialize and fit KMeans\n",
    "    kmeans = KMeans(n_clusters=n_clusters, random_state=42)\n",
    "    kmeans.fit(X)\n",
    "\n",
    "    # Add cluster labels to the original dataset\n",
    "    data['cluster'] = kmeans.labels_\n",
    "\n",
    "    # Apply NearMiss undersampling based on cluster labels\n",
    "    nm = NearMiss()\n",
    "    X_resampled, y_resampled = nm.fit_resample(data.drop(['cluster', label], axis=1), data[label])\n",
    "\n",
    "    # Combine features and target variable\n",
    "    downsampled_data = pd.concat([X_resampled, y_resampled], axis=1)\n",
    "\n",
    "    return downsampled_data\n",
    "\n",
    "# Apply clustering-based NearMiss undersampling\n",
    "balanced_data2 = cluster_nearmiss_undersample(df_data, 'Churn', n_clusters=2)\n",
    "print(\"\\nCluster NearMiss Undersampling:\")\n",
    "print(balanced_data2['Churn'].value_counts())\n"
   ]
  },
  {
   "cell_type": "code",
   "execution_count": 75,
   "id": "2ffc98e6",
   "metadata": {},
   "outputs": [
    {
     "data": {
      "text/html": [
       "<div>\n",
       "<style scoped>\n",
       "    .dataframe tbody tr th:only-of-type {\n",
       "        vertical-align: middle;\n",
       "    }\n",
       "\n",
       "    .dataframe tbody tr th {\n",
       "        vertical-align: top;\n",
       "    }\n",
       "\n",
       "    .dataframe thead th {\n",
       "        text-align: right;\n",
       "    }\n",
       "</style>\n",
       "<table border=\"1\" class=\"dataframe\">\n",
       "  <thead>\n",
       "    <tr style=\"text-align: right;\">\n",
       "      <th></th>\n",
       "      <th>gender</th>\n",
       "      <th>SeniorCitizen</th>\n",
       "      <th>Partner</th>\n",
       "      <th>Dependents</th>\n",
       "      <th>tenure</th>\n",
       "      <th>PhoneService</th>\n",
       "      <th>MultipleLines</th>\n",
       "      <th>InternetService</th>\n",
       "      <th>OnlineSecurity</th>\n",
       "      <th>OnlineBackup</th>\n",
       "      <th>DeviceProtection</th>\n",
       "      <th>TechSupport</th>\n",
       "      <th>StreamingTV</th>\n",
       "      <th>StreamingMovies</th>\n",
       "      <th>Contract</th>\n",
       "      <th>PaperlessBilling</th>\n",
       "      <th>PaymentMethod</th>\n",
       "      <th>MonthlyCharges</th>\n",
       "      <th>TotalCharges</th>\n",
       "      <th>Churn</th>\n",
       "    </tr>\n",
       "  </thead>\n",
       "  <tbody>\n",
       "    <tr>\n",
       "      <th>0</th>\n",
       "      <td>1</td>\n",
       "      <td>0</td>\n",
       "      <td>0</td>\n",
       "      <td>0</td>\n",
       "      <td>-1.28</td>\n",
       "      <td>1</td>\n",
       "      <td>0</td>\n",
       "      <td>2</td>\n",
       "      <td>1</td>\n",
       "      <td>1</td>\n",
       "      <td>1</td>\n",
       "      <td>1</td>\n",
       "      <td>1</td>\n",
       "      <td>1</td>\n",
       "      <td>0</td>\n",
       "      <td>0</td>\n",
       "      <td>3</td>\n",
       "      <td>-1.48</td>\n",
       "      <td>-1.00</td>\n",
       "      <td>0</td>\n",
       "    </tr>\n",
       "    <tr>\n",
       "      <th>1</th>\n",
       "      <td>1</td>\n",
       "      <td>0</td>\n",
       "      <td>0</td>\n",
       "      <td>0</td>\n",
       "      <td>-1.28</td>\n",
       "      <td>1</td>\n",
       "      <td>0</td>\n",
       "      <td>2</td>\n",
       "      <td>1</td>\n",
       "      <td>1</td>\n",
       "      <td>1</td>\n",
       "      <td>1</td>\n",
       "      <td>1</td>\n",
       "      <td>1</td>\n",
       "      <td>0</td>\n",
       "      <td>0</td>\n",
       "      <td>3</td>\n",
       "      <td>-1.50</td>\n",
       "      <td>-1.00</td>\n",
       "      <td>0</td>\n",
       "    </tr>\n",
       "    <tr>\n",
       "      <th>2</th>\n",
       "      <td>1</td>\n",
       "      <td>0</td>\n",
       "      <td>0</td>\n",
       "      <td>0</td>\n",
       "      <td>-1.28</td>\n",
       "      <td>1</td>\n",
       "      <td>0</td>\n",
       "      <td>2</td>\n",
       "      <td>1</td>\n",
       "      <td>1</td>\n",
       "      <td>1</td>\n",
       "      <td>1</td>\n",
       "      <td>1</td>\n",
       "      <td>1</td>\n",
       "      <td>0</td>\n",
       "      <td>0</td>\n",
       "      <td>3</td>\n",
       "      <td>-1.48</td>\n",
       "      <td>-1.00</td>\n",
       "      <td>0</td>\n",
       "    </tr>\n",
       "    <tr>\n",
       "      <th>3</th>\n",
       "      <td>1</td>\n",
       "      <td>0</td>\n",
       "      <td>0</td>\n",
       "      <td>0</td>\n",
       "      <td>-1.28</td>\n",
       "      <td>1</td>\n",
       "      <td>0</td>\n",
       "      <td>2</td>\n",
       "      <td>1</td>\n",
       "      <td>1</td>\n",
       "      <td>1</td>\n",
       "      <td>1</td>\n",
       "      <td>1</td>\n",
       "      <td>1</td>\n",
       "      <td>0</td>\n",
       "      <td>0</td>\n",
       "      <td>3</td>\n",
       "      <td>-1.48</td>\n",
       "      <td>-1.00</td>\n",
       "      <td>0</td>\n",
       "    </tr>\n",
       "    <tr>\n",
       "      <th>4</th>\n",
       "      <td>1</td>\n",
       "      <td>0</td>\n",
       "      <td>0</td>\n",
       "      <td>0</td>\n",
       "      <td>-1.28</td>\n",
       "      <td>1</td>\n",
       "      <td>0</td>\n",
       "      <td>2</td>\n",
       "      <td>1</td>\n",
       "      <td>1</td>\n",
       "      <td>1</td>\n",
       "      <td>1</td>\n",
       "      <td>1</td>\n",
       "      <td>1</td>\n",
       "      <td>0</td>\n",
       "      <td>0</td>\n",
       "      <td>3</td>\n",
       "      <td>-1.48</td>\n",
       "      <td>-1.00</td>\n",
       "      <td>0</td>\n",
       "    </tr>\n",
       "    <tr>\n",
       "      <th>...</th>\n",
       "      <td>...</td>\n",
       "      <td>...</td>\n",
       "      <td>...</td>\n",
       "      <td>...</td>\n",
       "      <td>...</td>\n",
       "      <td>...</td>\n",
       "      <td>...</td>\n",
       "      <td>...</td>\n",
       "      <td>...</td>\n",
       "      <td>...</td>\n",
       "      <td>...</td>\n",
       "      <td>...</td>\n",
       "      <td>...</td>\n",
       "      <td>...</td>\n",
       "      <td>...</td>\n",
       "      <td>...</td>\n",
       "      <td>...</td>\n",
       "      <td>...</td>\n",
       "      <td>...</td>\n",
       "      <td>...</td>\n",
       "    </tr>\n",
       "    <tr>\n",
       "      <th>3733</th>\n",
       "      <td>1</td>\n",
       "      <td>0</td>\n",
       "      <td>0</td>\n",
       "      <td>0</td>\n",
       "      <td>-0.83</td>\n",
       "      <td>1</td>\n",
       "      <td>0</td>\n",
       "      <td>0</td>\n",
       "      <td>0</td>\n",
       "      <td>0</td>\n",
       "      <td>0</td>\n",
       "      <td>2</td>\n",
       "      <td>2</td>\n",
       "      <td>0</td>\n",
       "      <td>1</td>\n",
       "      <td>1</td>\n",
       "      <td>2</td>\n",
       "      <td>-0.17</td>\n",
       "      <td>-0.69</td>\n",
       "      <td>1</td>\n",
       "    </tr>\n",
       "    <tr>\n",
       "      <th>3734</th>\n",
       "      <td>0</td>\n",
       "      <td>0</td>\n",
       "      <td>0</td>\n",
       "      <td>0</td>\n",
       "      <td>-0.95</td>\n",
       "      <td>1</td>\n",
       "      <td>0</td>\n",
       "      <td>0</td>\n",
       "      <td>0</td>\n",
       "      <td>0</td>\n",
       "      <td>0</td>\n",
       "      <td>0</td>\n",
       "      <td>0</td>\n",
       "      <td>0</td>\n",
       "      <td>0</td>\n",
       "      <td>1</td>\n",
       "      <td>0</td>\n",
       "      <td>-0.68</td>\n",
       "      <td>-0.83</td>\n",
       "      <td>1</td>\n",
       "    </tr>\n",
       "    <tr>\n",
       "      <th>3735</th>\n",
       "      <td>1</td>\n",
       "      <td>1</td>\n",
       "      <td>0</td>\n",
       "      <td>0</td>\n",
       "      <td>-1.28</td>\n",
       "      <td>1</td>\n",
       "      <td>2</td>\n",
       "      <td>1</td>\n",
       "      <td>0</td>\n",
       "      <td>0</td>\n",
       "      <td>0</td>\n",
       "      <td>0</td>\n",
       "      <td>0</td>\n",
       "      <td>0</td>\n",
       "      <td>0</td>\n",
       "      <td>1</td>\n",
       "      <td>2</td>\n",
       "      <td>0.36</td>\n",
       "      <td>-0.97</td>\n",
       "      <td>1</td>\n",
       "    </tr>\n",
       "    <tr>\n",
       "      <th>3736</th>\n",
       "      <td>0</td>\n",
       "      <td>0</td>\n",
       "      <td>0</td>\n",
       "      <td>0</td>\n",
       "      <td>1.41</td>\n",
       "      <td>1</td>\n",
       "      <td>2</td>\n",
       "      <td>1</td>\n",
       "      <td>2</td>\n",
       "      <td>2</td>\n",
       "      <td>2</td>\n",
       "      <td>0</td>\n",
       "      <td>2</td>\n",
       "      <td>0</td>\n",
       "      <td>0</td>\n",
       "      <td>1</td>\n",
       "      <td>1</td>\n",
       "      <td>1.27</td>\n",
       "      <td>2.03</td>\n",
       "      <td>1</td>\n",
       "    </tr>\n",
       "    <tr>\n",
       "      <th>3737</th>\n",
       "      <td>1</td>\n",
       "      <td>1</td>\n",
       "      <td>1</td>\n",
       "      <td>0</td>\n",
       "      <td>-1.16</td>\n",
       "      <td>1</td>\n",
       "      <td>2</td>\n",
       "      <td>1</td>\n",
       "      <td>0</td>\n",
       "      <td>0</td>\n",
       "      <td>0</td>\n",
       "      <td>0</td>\n",
       "      <td>0</td>\n",
       "      <td>0</td>\n",
       "      <td>0</td>\n",
       "      <td>1</td>\n",
       "      <td>3</td>\n",
       "      <td>0.32</td>\n",
       "      <td>-0.87</td>\n",
       "      <td>1</td>\n",
       "    </tr>\n",
       "  </tbody>\n",
       "</table>\n",
       "<p>3738 rows × 20 columns</p>\n",
       "</div>"
      ],
      "text/plain": [
       "      gender  SeniorCitizen  Partner  Dependents  tenure  PhoneService  \\\n",
       "0          1              0        0           0   -1.28             1   \n",
       "1          1              0        0           0   -1.28             1   \n",
       "2          1              0        0           0   -1.28             1   \n",
       "3          1              0        0           0   -1.28             1   \n",
       "4          1              0        0           0   -1.28             1   \n",
       "...      ...            ...      ...         ...     ...           ...   \n",
       "3733       1              0        0           0   -0.83             1   \n",
       "3734       0              0        0           0   -0.95             1   \n",
       "3735       1              1        0           0   -1.28             1   \n",
       "3736       0              0        0           0    1.41             1   \n",
       "3737       1              1        1           0   -1.16             1   \n",
       "\n",
       "      MultipleLines  InternetService  OnlineSecurity  OnlineBackup  \\\n",
       "0                 0                2               1             1   \n",
       "1                 0                2               1             1   \n",
       "2                 0                2               1             1   \n",
       "3                 0                2               1             1   \n",
       "4                 0                2               1             1   \n",
       "...             ...              ...             ...           ...   \n",
       "3733              0                0               0             0   \n",
       "3734              0                0               0             0   \n",
       "3735              2                1               0             0   \n",
       "3736              2                1               2             2   \n",
       "3737              2                1               0             0   \n",
       "\n",
       "      DeviceProtection  TechSupport  StreamingTV  StreamingMovies  Contract  \\\n",
       "0                    1            1            1                1         0   \n",
       "1                    1            1            1                1         0   \n",
       "2                    1            1            1                1         0   \n",
       "3                    1            1            1                1         0   \n",
       "4                    1            1            1                1         0   \n",
       "...                ...          ...          ...              ...       ...   \n",
       "3733                 0            2            2                0         1   \n",
       "3734                 0            0            0                0         0   \n",
       "3735                 0            0            0                0         0   \n",
       "3736                 2            0            2                0         0   \n",
       "3737                 0            0            0                0         0   \n",
       "\n",
       "      PaperlessBilling  PaymentMethod  MonthlyCharges  TotalCharges  Churn  \n",
       "0                    0              3           -1.48         -1.00      0  \n",
       "1                    0              3           -1.50         -1.00      0  \n",
       "2                    0              3           -1.48         -1.00      0  \n",
       "3                    0              3           -1.48         -1.00      0  \n",
       "4                    0              3           -1.48         -1.00      0  \n",
       "...                ...            ...             ...           ...    ...  \n",
       "3733                 1              2           -0.17         -0.69      1  \n",
       "3734                 1              0           -0.68         -0.83      1  \n",
       "3735                 1              2            0.36         -0.97      1  \n",
       "3736                 1              1            1.27          2.03      1  \n",
       "3737                 1              3            0.32         -0.87      1  \n",
       "\n",
       "[3738 rows x 20 columns]"
      ]
     },
     "execution_count": 75,
     "metadata": {},
     "output_type": "execute_result"
    }
   ],
   "source": [
    "balanced_data2"
   ]
  },
  {
   "cell_type": "code",
   "execution_count": 76,
   "id": "062aaa4b",
   "metadata": {},
   "outputs": [],
   "source": [
    "import numpy as np \n",
    "from scipy.stats import norm,chisquare \n",
    "import matplotlib.pyplot as plt\n",
    "X = balanced_data2.drop(columns=['Churn'])\n",
    "y = balanced_data2['Churn']"
   ]
  },
  {
   "cell_type": "markdown",
   "id": "3073e1f8",
   "metadata": {},
   "source": [
    "### Checking if the dataset has become balanced"
   ]
  },
  {
   "cell_type": "code",
   "execution_count": 77,
   "id": "28274172",
   "metadata": {},
   "outputs": [
    {
     "data": {
      "text/plain": [
       "<matplotlib.lines.Line2D at 0x26a0cfdb5d0>"
      ]
     },
     "execution_count": 77,
     "metadata": {},
     "output_type": "execute_result"
    },
    {
     "data": {
      "image/png": "[encoded data removed]",
      "text/plain": [
       "<Figure size 640x480 with 1 Axes>"
      ]
     },
     "metadata": {},
     "output_type": "display_data"
    }
   ],
   "source": [
    "freqs =pd.Series(y).value_counts() /len(y) \n",
    "std_errors = np.sqrt(freqs*(1-freqs)/len(y)) \n",
    "expected_frequency = 1/len(np.unique(y)) \n",
    "freqs.plot(kind='bar',yerr=std_errors*1.96) \n",
    "plt.axhline(expected_frequency,color='red',linestyle='--')"
   ]
  },
  {
   "cell_type": "code",
   "execution_count": 78,
   "id": "e8acb5d0",
   "metadata": {},
   "outputs": [
    {
     "data": {
      "text/html": [
       "<div>\n",
       "<style scoped>\n",
       "    .dataframe tbody tr th:only-of-type {\n",
       "        vertical-align: middle;\n",
       "    }\n",
       "\n",
       "    .dataframe tbody tr th {\n",
       "        vertical-align: top;\n",
       "    }\n",
       "\n",
       "    .dataframe thead th {\n",
       "        text-align: right;\n",
       "    }\n",
       "</style>\n",
       "<table border=\"1\" class=\"dataframe\">\n",
       "  <thead>\n",
       "    <tr style=\"text-align: right;\">\n",
       "      <th></th>\n",
       "      <th>gender</th>\n",
       "      <th>SeniorCitizen</th>\n",
       "      <th>Partner</th>\n",
       "      <th>Dependents</th>\n",
       "      <th>tenure</th>\n",
       "      <th>PhoneService</th>\n",
       "      <th>MultipleLines</th>\n",
       "      <th>InternetService</th>\n",
       "      <th>OnlineSecurity</th>\n",
       "      <th>OnlineBackup</th>\n",
       "      <th>DeviceProtection</th>\n",
       "      <th>TechSupport</th>\n",
       "      <th>StreamingTV</th>\n",
       "      <th>StreamingMovies</th>\n",
       "      <th>Contract</th>\n",
       "      <th>PaperlessBilling</th>\n",
       "      <th>PaymentMethod</th>\n",
       "      <th>MonthlyCharges</th>\n",
       "      <th>TotalCharges</th>\n",
       "      <th>Churn</th>\n",
       "    </tr>\n",
       "  </thead>\n",
       "  <tbody>\n",
       "    <tr>\n",
       "      <th>0</th>\n",
       "      <td>1</td>\n",
       "      <td>0</td>\n",
       "      <td>0</td>\n",
       "      <td>0</td>\n",
       "      <td>-1.28</td>\n",
       "      <td>1</td>\n",
       "      <td>0</td>\n",
       "      <td>2</td>\n",
       "      <td>1</td>\n",
       "      <td>1</td>\n",
       "      <td>1</td>\n",
       "      <td>1</td>\n",
       "      <td>1</td>\n",
       "      <td>1</td>\n",
       "      <td>0</td>\n",
       "      <td>0</td>\n",
       "      <td>3</td>\n",
       "      <td>-1.48</td>\n",
       "      <td>-1.00</td>\n",
       "      <td>0</td>\n",
       "    </tr>\n",
       "    <tr>\n",
       "      <th>1</th>\n",
       "      <td>1</td>\n",
       "      <td>0</td>\n",
       "      <td>0</td>\n",
       "      <td>0</td>\n",
       "      <td>-1.28</td>\n",
       "      <td>1</td>\n",
       "      <td>0</td>\n",
       "      <td>2</td>\n",
       "      <td>1</td>\n",
       "      <td>1</td>\n",
       "      <td>1</td>\n",
       "      <td>1</td>\n",
       "      <td>1</td>\n",
       "      <td>1</td>\n",
       "      <td>0</td>\n",
       "      <td>0</td>\n",
       "      <td>3</td>\n",
       "      <td>-1.50</td>\n",
       "      <td>-1.00</td>\n",
       "      <td>0</td>\n",
       "    </tr>\n",
       "    <tr>\n",
       "      <th>2</th>\n",
       "      <td>1</td>\n",
       "      <td>0</td>\n",
       "      <td>0</td>\n",
       "      <td>0</td>\n",
       "      <td>-1.28</td>\n",
       "      <td>1</td>\n",
       "      <td>0</td>\n",
       "      <td>2</td>\n",
       "      <td>1</td>\n",
       "      <td>1</td>\n",
       "      <td>1</td>\n",
       "      <td>1</td>\n",
       "      <td>1</td>\n",
       "      <td>1</td>\n",
       "      <td>0</td>\n",
       "      <td>0</td>\n",
       "      <td>3</td>\n",
       "      <td>-1.48</td>\n",
       "      <td>-1.00</td>\n",
       "      <td>0</td>\n",
       "    </tr>\n",
       "    <tr>\n",
       "      <th>3</th>\n",
       "      <td>1</td>\n",
       "      <td>0</td>\n",
       "      <td>0</td>\n",
       "      <td>0</td>\n",
       "      <td>-1.28</td>\n",
       "      <td>1</td>\n",
       "      <td>0</td>\n",
       "      <td>2</td>\n",
       "      <td>1</td>\n",
       "      <td>1</td>\n",
       "      <td>1</td>\n",
       "      <td>1</td>\n",
       "      <td>1</td>\n",
       "      <td>1</td>\n",
       "      <td>0</td>\n",
       "      <td>0</td>\n",
       "      <td>3</td>\n",
       "      <td>-1.48</td>\n",
       "      <td>-1.00</td>\n",
       "      <td>0</td>\n",
       "    </tr>\n",
       "    <tr>\n",
       "      <th>4</th>\n",
       "      <td>1</td>\n",
       "      <td>0</td>\n",
       "      <td>0</td>\n",
       "      <td>0</td>\n",
       "      <td>-1.28</td>\n",
       "      <td>1</td>\n",
       "      <td>0</td>\n",
       "      <td>2</td>\n",
       "      <td>1</td>\n",
       "      <td>1</td>\n",
       "      <td>1</td>\n",
       "      <td>1</td>\n",
       "      <td>1</td>\n",
       "      <td>1</td>\n",
       "      <td>0</td>\n",
       "      <td>0</td>\n",
       "      <td>3</td>\n",
       "      <td>-1.48</td>\n",
       "      <td>-1.00</td>\n",
       "      <td>0</td>\n",
       "    </tr>\n",
       "    <tr>\n",
       "      <th>...</th>\n",
       "      <td>...</td>\n",
       "      <td>...</td>\n",
       "      <td>...</td>\n",
       "      <td>...</td>\n",
       "      <td>...</td>\n",
       "      <td>...</td>\n",
       "      <td>...</td>\n",
       "      <td>...</td>\n",
       "      <td>...</td>\n",
       "      <td>...</td>\n",
       "      <td>...</td>\n",
       "      <td>...</td>\n",
       "      <td>...</td>\n",
       "      <td>...</td>\n",
       "      <td>...</td>\n",
       "      <td>...</td>\n",
       "      <td>...</td>\n",
       "      <td>...</td>\n",
       "      <td>...</td>\n",
       "      <td>...</td>\n",
       "    </tr>\n",
       "    <tr>\n",
       "      <th>3733</th>\n",
       "      <td>1</td>\n",
       "      <td>0</td>\n",
       "      <td>0</td>\n",
       "      <td>0</td>\n",
       "      <td>-0.83</td>\n",
       "      <td>1</td>\n",
       "      <td>0</td>\n",
       "      <td>0</td>\n",
       "      <td>0</td>\n",
       "      <td>0</td>\n",
       "      <td>0</td>\n",
       "      <td>2</td>\n",
       "      <td>2</td>\n",
       "      <td>0</td>\n",
       "      <td>1</td>\n",
       "      <td>1</td>\n",
       "      <td>2</td>\n",
       "      <td>-0.17</td>\n",
       "      <td>-0.69</td>\n",
       "      <td>1</td>\n",
       "    </tr>\n",
       "    <tr>\n",
       "      <th>3734</th>\n",
       "      <td>0</td>\n",
       "      <td>0</td>\n",
       "      <td>0</td>\n",
       "      <td>0</td>\n",
       "      <td>-0.95</td>\n",
       "      <td>1</td>\n",
       "      <td>0</td>\n",
       "      <td>0</td>\n",
       "      <td>0</td>\n",
       "      <td>0</td>\n",
       "      <td>0</td>\n",
       "      <td>0</td>\n",
       "      <td>0</td>\n",
       "      <td>0</td>\n",
       "      <td>0</td>\n",
       "      <td>1</td>\n",
       "      <td>0</td>\n",
       "      <td>-0.68</td>\n",
       "      <td>-0.83</td>\n",
       "      <td>1</td>\n",
       "    </tr>\n",
       "    <tr>\n",
       "      <th>3735</th>\n",
       "      <td>1</td>\n",
       "      <td>1</td>\n",
       "      <td>0</td>\n",
       "      <td>0</td>\n",
       "      <td>-1.28</td>\n",
       "      <td>1</td>\n",
       "      <td>2</td>\n",
       "      <td>1</td>\n",
       "      <td>0</td>\n",
       "      <td>0</td>\n",
       "      <td>0</td>\n",
       "      <td>0</td>\n",
       "      <td>0</td>\n",
       "      <td>0</td>\n",
       "      <td>0</td>\n",
       "      <td>1</td>\n",
       "      <td>2</td>\n",
       "      <td>0.36</td>\n",
       "      <td>-0.97</td>\n",
       "      <td>1</td>\n",
       "    </tr>\n",
       "    <tr>\n",
       "      <th>3736</th>\n",
       "      <td>0</td>\n",
       "      <td>0</td>\n",
       "      <td>0</td>\n",
       "      <td>0</td>\n",
       "      <td>1.41</td>\n",
       "      <td>1</td>\n",
       "      <td>2</td>\n",
       "      <td>1</td>\n",
       "      <td>2</td>\n",
       "      <td>2</td>\n",
       "      <td>2</td>\n",
       "      <td>0</td>\n",
       "      <td>2</td>\n",
       "      <td>0</td>\n",
       "      <td>0</td>\n",
       "      <td>1</td>\n",
       "      <td>1</td>\n",
       "      <td>1.27</td>\n",
       "      <td>2.03</td>\n",
       "      <td>1</td>\n",
       "    </tr>\n",
       "    <tr>\n",
       "      <th>3737</th>\n",
       "      <td>1</td>\n",
       "      <td>1</td>\n",
       "      <td>1</td>\n",
       "      <td>0</td>\n",
       "      <td>-1.16</td>\n",
       "      <td>1</td>\n",
       "      <td>2</td>\n",
       "      <td>1</td>\n",
       "      <td>0</td>\n",
       "      <td>0</td>\n",
       "      <td>0</td>\n",
       "      <td>0</td>\n",
       "      <td>0</td>\n",
       "      <td>0</td>\n",
       "      <td>0</td>\n",
       "      <td>1</td>\n",
       "      <td>3</td>\n",
       "      <td>0.32</td>\n",
       "      <td>-0.87</td>\n",
       "      <td>1</td>\n",
       "    </tr>\n",
       "  </tbody>\n",
       "</table>\n",
       "<p>3738 rows × 20 columns</p>\n",
       "</div>"
      ],
      "text/plain": [
       "      gender  SeniorCitizen  Partner  Dependents  tenure  PhoneService  \\\n",
       "0          1              0        0           0   -1.28             1   \n",
       "1          1              0        0           0   -1.28             1   \n",
       "2          1              0        0           0   -1.28             1   \n",
       "3          1              0        0           0   -1.28             1   \n",
       "4          1              0        0           0   -1.28             1   \n",
       "...      ...            ...      ...         ...     ...           ...   \n",
       "3733       1              0        0           0   -0.83             1   \n",
       "3734       0              0        0           0   -0.95             1   \n",
       "3735       1              1        0           0   -1.28             1   \n",
       "3736       0              0        0           0    1.41             1   \n",
       "3737       1              1        1           0   -1.16             1   \n",
       "\n",
       "      MultipleLines  InternetService  OnlineSecurity  OnlineBackup  \\\n",
       "0                 0                2               1             1   \n",
       "1                 0                2               1             1   \n",
       "2                 0                2               1             1   \n",
       "3                 0                2               1             1   \n",
       "4                 0                2               1             1   \n",
       "...             ...              ...             ...           ...   \n",
       "3733              0                0               0             0   \n",
       "3734              0                0               0             0   \n",
       "3735              2                1               0             0   \n",
       "3736              2                1               2             2   \n",
       "3737              2                1               0             0   \n",
       "\n",
       "      DeviceProtection  TechSupport  StreamingTV  StreamingMovies  Contract  \\\n",
       "0                    1            1            1                1         0   \n",
       "1                    1            1            1                1         0   \n",
       "2                    1            1            1                1         0   \n",
       "3                    1            1            1                1         0   \n",
       "4                    1            1            1                1         0   \n",
       "...                ...          ...          ...              ...       ...   \n",
       "3733                 0            2            2                0         1   \n",
       "3734                 0            0            0                0         0   \n",
       "3735                 0            0            0                0         0   \n",
       "3736                 2            0            2                0         0   \n",
       "3737                 0            0            0                0         0   \n",
       "\n",
       "      PaperlessBilling  PaymentMethod  MonthlyCharges  TotalCharges  Churn  \n",
       "0                    0              3           -1.48         -1.00      0  \n",
       "1                    0              3           -1.50         -1.00      0  \n",
       "2                    0              3           -1.48         -1.00      0  \n",
       "3                    0              3           -1.48         -1.00      0  \n",
       "4                    0              3           -1.48         -1.00      0  \n",
       "...                ...            ...             ...           ...    ...  \n",
       "3733                 1              2           -0.17         -0.69      1  \n",
       "3734                 1              0           -0.68         -0.83      1  \n",
       "3735                 1              2            0.36         -0.97      1  \n",
       "3736                 1              1            1.27          2.03      1  \n",
       "3737                 1              3            0.32         -0.87      1  \n",
       "\n",
       "[3738 rows x 20 columns]"
      ]
     },
     "execution_count": 78,
     "metadata": {},
     "output_type": "execute_result"
    }
   ],
   "source": [
    "balanced_data2"
   ]
  },
  {
   "cell_type": "markdown",
   "id": "6800e255",
   "metadata": {},
   "source": [
    "## Model Selection\n",
    "# **ALGORITHM 1: Gradient Boosting Machine**"
   ]
  },
  {
   "cell_type": "markdown",
   "id": "7bb6deb2",
   "metadata": {},
   "source": [
    "### Manual Splitting:"
   ]
  },
  {
   "cell_type": "code",
   "execution_count": 82,
   "id": "26da595d",
   "metadata": {},
   "outputs": [
    {
     "name": "stdout",
     "output_type": "stream",
     "text": [
      "Train Accuracy: 0.9536128456735058\n",
      "Validation Accuracy: 0.660427807486631\n",
      "Test Accuracy: 0.6764705882352942\n",
      "\n",
      "\n",
      "Train Precision: 0.9536555895502011\n",
      "Validation Precision: 0.6612479385465412\n",
      "Test Precision: 0.6790647229241137\n",
      "\n",
      "\n",
      "Train Recall: 0.9536128456735058\n",
      "Validation Recall: 0.660427807486631\n",
      "Test Recall: 0.6764705882352942\n",
      "\n",
      "\n",
      "Train F1 Score: 0.9536152453808064\n",
      "Validation F1 Score: 0.6597708158850873\n",
      "Test F1 Score: 0.6766788093956118\n",
      "\n",
      "\n",
      "AUC-ROC: 0.7430810054864274\n",
      "AUC-PR: 0.6955308477089137\n"
     ]
    }
   ],
   "source": [
    "fit_model_GBM(balanced_data2, 'Churn')"
   ]
  },
  {
   "cell_type": "markdown",
   "id": "f8488c55",
   "metadata": {},
   "source": [
    "### Cross-Validation:"
   ]
  },
  {
   "cell_type": "code",
   "execution_count": 83,
   "id": "01b177cc",
   "metadata": {},
   "outputs": [
    {
     "name": "stdout",
     "output_type": "stream",
     "text": [
      "Fold 1:\n",
      "  Accuracy: 0.6524064171122995\n",
      "  Precision: 0.6587430081750568\n",
      "  Recall: 0.6524064171122995\n",
      "  F1 Score: 0.6524064171122995\n",
      "  AUC: 0.753146551724138\n",
      "Fold 2:\n",
      "  Accuracy: 0.7085561497326203\n",
      "  Precision: 0.7088100318798848\n",
      "  Recall: 0.7085561497326203\n",
      "  F1 Score: 0.7086375079334294\n",
      "  AUC: 0.7759346798452944\n",
      "Fold 3:\n",
      "  Accuracy: 0.6042780748663101\n",
      "  Precision: 0.6092754068278751\n",
      "  Recall: 0.6042780748663101\n",
      "  F1 Score: 0.6042780748663101\n",
      "  AUC: 0.6779899497487438\n",
      "Fold 4:\n",
      "  Accuracy: 0.6764705882352942\n",
      "  Precision: 0.6764663823487352\n",
      "  Recall: 0.6764705882352942\n",
      "  F1 Score: 0.6764636488697876\n",
      "  AUC: 0.7401767330130407\n",
      "Fold 5:\n",
      "  Accuracy: 0.6443850267379679\n",
      "  Precision: 0.6444298449564972\n",
      "  Recall: 0.6443850267379679\n",
      "  F1 Score: 0.6444028294857407\n",
      "  AUC: 0.7348439332818355\n",
      "Fold 6:\n",
      "  Accuracy: 0.6951871657754011\n",
      "  Precision: 0.6951718519335257\n",
      "  Recall: 0.6951871657754011\n",
      "  F1 Score: 0.6950999368278781\n",
      "  AUC: 0.7692076659038901\n",
      "Fold 7:\n",
      "  Accuracy: 0.660427807486631\n",
      "  Precision: 0.663937127455681\n",
      "  Recall: 0.660427807486631\n",
      "  F1 Score: 0.6604739334680985\n",
      "  AUC: 0.7459778026327111\n",
      "Fold 8:\n",
      "  Accuracy: 0.7005347593582888\n",
      "  Precision: 0.7006433632325408\n",
      "  Recall: 0.7005347593582888\n",
      "  F1 Score: 0.7005690299777654\n",
      "  AUC: 0.7676138965201466\n",
      "Fold 9:\n",
      "  Accuracy: 0.6729222520107239\n",
      "  Precision: 0.6733537994230601\n",
      "  Recall: 0.6729222520107239\n",
      "  F1 Score: 0.6728281992881596\n",
      "  AUC: 0.7515238642898218\n",
      "Fold 10:\n",
      "  Accuracy: 0.6997319034852547\n",
      "  Precision: 0.6998844975535575\n",
      "  Recall: 0.6997319034852547\n",
      "  F1 Score: 0.6997880849080338\n",
      "  AUC: 0.785160974485976\n",
      "\n",
      "Average Metrics:\n",
      "  Average Accuracy: 0.6714900144800791\n",
      "  Average Precision: 0.6730715313786415\n",
      "  Average Recall: 0.6714900144800791\n",
      "  Average F1 Score: 0.6714947662737503\n",
      "  Average AUC: 0.7501576051445598\n"
     ]
    }
   ],
   "source": [
    "fit_model_GBM_cv(balanced_data2, 'Churn', 10)"
   ]
  },
  {
   "cell_type": "markdown",
   "id": "16927f63",
   "metadata": {},
   "source": [
    "### Feature Selection"
   ]
  },
  {
   "cell_type": "markdown",
   "id": "f71bb937",
   "metadata": {},
   "source": [
    "## Feature Engineering"
   ]
  },
  {
   "cell_type": "markdown",
   "id": "00456432",
   "metadata": {},
   "source": [
    "### Variance Thresholding"
   ]
  },
  {
   "cell_type": "code",
   "execution_count": 84,
   "id": "8bcd3693",
   "metadata": {},
   "outputs": [
    {
     "name": "stdout",
     "output_type": "stream",
     "text": [
      "Indices of selected features: [ 6 10 12 13 16 17 18]\n",
      "Selected features: ['MultipleLines', 'DeviceProtection', 'StreamingTV', 'StreamingMovies', 'PaymentMethod', 'MonthlyCharges', 'TotalCharges']\n"
     ]
    }
   ],
   "source": [
    "selected_indices, selected_features=select_features_variance_threshold(balanced_data2, threshold=0.7)\n",
    "print(\"Indices of selected features:\", selected_indices)\n",
    "print(\"Selected features:\", selected_features)\n"
   ]
  },
  {
   "cell_type": "code",
   "execution_count": 85,
   "id": "cb0abc8b",
   "metadata": {},
   "outputs": [
    {
     "name": "stdout",
     "output_type": "stream",
     "text": [
      "Train Accuracy: 0.9032114183764496\n",
      "Validation Accuracy: 0.6483957219251337\n",
      "Test Accuracy: 0.6711229946524064\n",
      "\n",
      "\n",
      "Train Precision: 0.9032476491053023\n",
      "Validation Precision: 0.6488729384821434\n",
      "Test Precision: 0.675681230355997\n",
      "\n",
      "\n",
      "Train Recall: 0.9032114183764496\n",
      "Validation Recall: 0.6483957219251337\n",
      "Test Recall: 0.6711229946524064\n",
      "\n",
      "\n",
      "Train F1 Score: 0.9031991468147001\n",
      "Validation F1 Score: 0.6479078573999172\n",
      "Test F1 Score: 0.6710712677954438\n",
      "\n",
      "\n",
      "AUC-ROC: 0.7441531896582638\n",
      "AUC-PR: 0.7057458851677852\n"
     ]
    }
   ],
   "source": [
    "selected_features.append('Churn')\n",
    "var_thrsh_data=balanced_data2[selected_features]\n",
    "fit_model_GBM(var_thrsh_data,'Churn')"
   ]
  },
  {
   "cell_type": "markdown",
   "id": "68651ca7",
   "metadata": {},
   "source": [
    "### Wrapper Method "
   ]
  },
  {
   "cell_type": "markdown",
   "id": "9b51818d",
   "metadata": {},
   "source": [
    "#### Recursive Feature Elimination"
   ]
  },
  {
   "cell_type": "code",
   "execution_count": 86,
   "id": "af79a597",
   "metadata": {},
   "outputs": [
    {
     "name": "stdout",
     "output_type": "stream",
     "text": [
      "Selected features: ['PhoneService', 'MonthlyCharges', 'TotalCharges']\n"
     ]
    }
   ],
   "source": [
    "rfe_selected_features = select_features_rfe(balanced_data2, 'Churn', 3)\n",
    "print(\"Selected features:\", rfe_selected_features)"
   ]
  },
  {
   "cell_type": "code",
   "execution_count": 87,
   "id": "608556a1",
   "metadata": {},
   "outputs": [
    {
     "name": "stdout",
     "output_type": "stream",
     "text": [
      "Train Accuracy: 0.8581623550401427\n",
      "Validation Accuracy: 0.6590909090909091\n",
      "Test Accuracy: 0.68048128342246\n",
      "\n",
      "\n",
      "Train Precision: 0.8586261707297951\n",
      "Validation Precision: 0.660725677830941\n",
      "Test Precision: 0.6878794214066916\n",
      "\n",
      "\n",
      "Train Recall: 0.8581623550401427\n",
      "Validation Recall: 0.6590909090909091\n",
      "Test Recall: 0.68048128342246\n",
      "\n",
      "\n",
      "Train F1 Score: 0.8580629024106553\n",
      "Validation F1 Score: 0.657912122598689\n",
      "Test F1 Score: 0.6799081992370799\n",
      "\n",
      "\n",
      "AUC-ROC: 0.7490407716857318\n",
      "AUC-PR: 0.7022960740923455\n"
     ]
    }
   ],
   "source": [
    "rfe_selected_features.append('Churn')\n",
    "wrapper_data_rfe=balanced_data2[rfe_selected_features]\n",
    "fit_model_GBM(wrapper_data_rfe,'Churn')"
   ]
  },
  {
   "cell_type": "markdown",
   "id": "b9507d15",
   "metadata": {},
   "source": [
    "#### Forward Feature Selection"
   ]
  },
  {
   "cell_type": "code",
   "execution_count": 88,
   "id": "1957d079",
   "metadata": {},
   "outputs": [
    {
     "name": "stdout",
     "output_type": "stream",
     "text": [
      "Selected features using OLS: ['Partner', 'PhoneService', 'MonthlyCharges', 'TotalCharges']\n"
     ]
    }
   ],
   "source": [
    "ffs_selected_features = select_features_wrapper_ols(balanced_data2, 'Churn', 4)\n",
    "# Print the selected features\n",
    "print(\"Selected features using OLS:\", ffs_selected_features)"
   ]
  },
  {
   "cell_type": "code",
   "execution_count": 89,
   "id": "b2acef76",
   "metadata": {},
   "outputs": [
    {
     "name": "stdout",
     "output_type": "stream",
     "text": [
      "Train Accuracy: 0.8835860838537021\n",
      "Validation Accuracy: 0.6524064171122995\n",
      "Test Accuracy: 0.6711229946524064\n",
      "\n",
      "\n",
      "Train Precision: 0.8837638729874947\n",
      "Validation Precision: 0.6542164113054484\n",
      "Test Precision: 0.6763388843307288\n",
      "\n",
      "\n",
      "Train Recall: 0.8835860838537021\n",
      "Validation Recall: 0.6524064171122995\n",
      "Test Recall: 0.6711229946524064\n",
      "\n",
      "\n",
      "Train F1 Score: 0.8835466580048401\n",
      "Validation F1 Score: 0.6510335259259651\n",
      "Test F1 Score: 0.6709536970740997\n",
      "\n",
      "\n",
      "AUC-ROC: 0.7460644744863197\n",
      "AUC-PR: 0.6990684301486263\n"
     ]
    }
   ],
   "source": [
    "ffs_selected_features.append('Churn')\n",
    "wrapper_data_ffs=balanced_data2[ffs_selected_features]\n",
    "fit_model_GBM(wrapper_data_ffs,'Churn')"
   ]
  },
  {
   "cell_type": "markdown",
   "id": "6fa94f5a",
   "metadata": {},
   "source": [
    "### Principal Component Analysis"
   ]
  },
  {
   "cell_type": "code",
   "execution_count": 90,
   "id": "b6738c2e",
   "metadata": {},
   "outputs": [
    {
     "data": {
      "image/png": "[encoded data removed]",
      "text/plain": [
       "<Figure size 640x480 with 1 Axes>"
      ]
     },
     "metadata": {},
     "output_type": "display_data"
    }
   ],
   "source": [
    "X_pca_df=perform_pca(balanced_data2,'Churn')"
   ]
  },
  {
   "cell_type": "code",
   "execution_count": 91,
   "id": "0b745591",
   "metadata": {},
   "outputs": [
    {
     "name": "stdout",
     "output_type": "stream",
     "text": [
      "Train Accuracy: 0.983942908117752\n",
      "Validation Accuracy: 0.6470588235294118\n",
      "Test Accuracy: 0.6631016042780749\n",
      "\n",
      "\n",
      "Train Precision: 0.9840216103536183\n",
      "Validation Precision: 0.6493548238967718\n",
      "Test Precision: 0.6685786232028291\n",
      "\n",
      "\n",
      "Train Recall: 0.983942908117752\n",
      "Validation Recall: 0.6470588235294118\n",
      "Test Recall: 0.6631016042780747\n",
      "\n",
      "\n",
      "Train F1 Score: 0.9839438921021493\n",
      "Validation F1 Score: 0.6452825975528681\n",
      "Test F1 Score: 0.6628607216842511\n",
      "\n",
      "\n",
      "AUC-ROC: 0.7251873632875534\n",
      "AUC-PR: 0.661750666425864\n"
     ]
    }
   ],
   "source": [
    "X_pca_df = X_pca_df.merge(balanced_data2[['Churn']], left_index=True, right_index=True)\n",
    "fit_model_GBM(X_pca_df,'Churn')"
   ]
  },
  {
   "cell_type": "markdown",
   "id": "29986118",
   "metadata": {},
   "source": [
    "**COMMENT :** The model didnt do good. The performance was poor and even with feature selection although training scores did get better but testing and validation not so much which shows overfitting. Low AUC scores shows that imbalance wasnot handled well."
   ]
  },
  {
   "cell_type": "markdown",
   "id": "9a498388",
   "metadata": {},
   "source": [
    "## INTERPRETATION:\n"
   ]
  },
  {
   "cell_type": "markdown",
   "id": "7c084224",
   "metadata": {},
   "source": [
    "# ALGORITHM 2: Logistic Regression"
   ]
  },
  {
   "cell_type": "markdown",
   "id": "10fc2af0",
   "metadata": {},
   "source": [
    "### Manual Splitting:"
   ]
  },
  {
   "cell_type": "code",
   "execution_count": 92,
   "id": "4ce605ef",
   "metadata": {},
   "outputs": [
    {
     "name": "stdout",
     "output_type": "stream",
     "text": [
      "Train Accuracy: 0.6922390722569135\n",
      "Validation Accuracy: 0.6524064171122995\n",
      "Test Accuracy: 0.68048128342246\n",
      "\n",
      "\n",
      "Train Precision: 0.6975611883511491\n",
      "Validation Precision: 0.6615315448190919\n",
      "Test Precision: 0.6960778767086816\n",
      "\n",
      "\n",
      "Train Recall: 0.6922390722569135\n",
      "Validation Recall: 0.6524064171122995\n",
      "Test Recall: 0.68048128342246\n",
      "\n",
      "\n",
      "Train F1 Score: 0.6893710654263615\n",
      "Validation F1 Score: 0.6467073741166357\n",
      "Test F1 Score: 0.6779238856751506\n",
      "\n",
      "\n",
      "AUC-ROC: 0.7586330548284146\n",
      "AUC-PR: 0.7140535693288791\n"
     ]
    }
   ],
   "source": [
    "fit_model_LR(balanced_data2, 'Churn')"
   ]
  },
  {
   "cell_type": "markdown",
   "id": "b27d665a",
   "metadata": {},
   "source": [
    "### Cross-Validation:"
   ]
  },
  {
   "cell_type": "code",
   "execution_count": 93,
   "id": "600b67bb",
   "metadata": {},
   "outputs": [
    {
     "name": "stdout",
     "output_type": "stream",
     "text": [
      "Fold 1:\n",
      "  Accuracy: 0.6898395721925134\n",
      "  Precision (Positive): 0.6260869565217392\n",
      "  Precision (Negative): 0.7916666666666666\n",
      "  Recall (Positive): 0.8275862068965517\n",
      "  Recall (Negative): 0.57\n",
      "  F1 Score (Positive): 0.7128712871287128\n",
      "  F1 Score (Negative): 0.6627906976744186\n",
      "  AUC: 0.7686637931034483\n",
      "Fold 2:\n",
      "  Accuracy: 0.679144385026738\n",
      "  Precision (Positive): 0.6811594202898551\n",
      "  Precision (Negative): 0.6766467065868264\n",
      "  Recall (Positive): 0.7230769230769231\n",
      "  Recall (Negative): 0.6312849162011173\n",
      "  F1 Score (Positive): 0.7014925373134329\n",
      "  F1 Score (Negative): 0.653179190751445\n",
      "  AUC: 0.7360550064460679\n",
      "Fold 3:\n",
      "  Accuracy: 0.6336898395721925\n",
      "  Precision (Positive): 0.5811965811965812\n",
      "  Precision (Negative): 0.7214285714285714\n",
      "  Recall (Positive): 0.7771428571428571\n",
      "  Recall (Negative): 0.507537688442211\n",
      "  F1 Score (Positive): 0.6650366748166259\n",
      "  F1 Score (Negative): 0.5958702064896755\n",
      "  AUC: 0.7085139985642499\n",
      "Fold 4:\n",
      "  Accuracy: 0.6925133689839572\n",
      "  Precision (Positive): 0.6577777777777778\n",
      "  Precision (Negative): 0.7449664429530202\n",
      "  Recall (Positive): 0.7956989247311828\n",
      "  Recall (Negative): 0.5904255319148937\n",
      "  F1 Score (Positive): 0.7201946472019465\n",
      "  F1 Score (Negative): 0.658753709198813\n",
      "  AUC: 0.7574782658430566\n",
      "Fold 5:\n",
      "  Accuracy: 0.6978609625668449\n",
      "  Precision (Positive): 0.6875\n",
      "  Precision (Negative): 0.7108433734939759\n",
      "  Recall (Positive): 0.7486910994764397\n",
      "  Recall (Negative): 0.644808743169399\n",
      "  F1 Score (Positive): 0.7167919799498746\n",
      "  F1 Score (Negative): 0.6762177650429799\n",
      "  AUC: 0.747975853288702\n",
      "Fold 6:\n",
      "  Accuracy: 0.713903743315508\n",
      "  Precision (Positive): 0.676595744680851\n",
      "  Precision (Negative): 0.7769784172661871\n",
      "  Recall (Positive): 0.8368421052631579\n",
      "  Recall (Negative): 0.5869565217391305\n",
      "  F1 Score (Positive): 0.7482352941176471\n",
      "  F1 Score (Negative): 0.6687306501547987\n",
      "  AUC: 0.7805635011441647\n",
      "Fold 7:\n",
      "  Accuracy: 0.6737967914438503\n",
      "  Precision (Positive): 0.6811594202898551\n",
      "  Precision (Negative): 0.6646706586826348\n",
      "  Recall (Positive): 0.7157360406091371\n",
      "  Recall (Negative): 0.6271186440677966\n",
      "  F1 Score (Positive): 0.698019801980198\n",
      "  F1 Score (Negative): 0.6453488372093024\n",
      "  AUC: 0.7519429866070149\n",
      "Fold 8:\n",
      "  Accuracy: 0.6684491978609626\n",
      "  Precision (Positive): 0.638095238095238\n",
      "  Precision (Negative): 0.7073170731707317\n",
      "  Recall (Positive): 0.7362637362637363\n",
      "  Recall (Negative): 0.6041666666666666\n",
      "  F1 Score (Positive): 0.6836734693877551\n",
      "  F1 Score (Negative): 0.651685393258427\n",
      "  AUC: 0.7311841804029305\n",
      "Fold 9:\n",
      "  Accuracy: 0.6836461126005362\n",
      "  Precision (Positive): 0.6529680365296804\n",
      "  Precision (Negative): 0.7272727272727273\n",
      "  Recall (Positive): 0.772972972972973\n",
      "  Recall (Negative): 0.5957446808510638\n",
      "  F1 Score (Positive): 0.7079207920792079\n",
      "  F1 Score (Negative): 0.6549707602339181\n",
      "  AUC: 0.7749568717653824\n",
      "Fold 10:\n",
      "  Accuracy: 0.6863270777479893\n",
      "  Precision (Positive): 0.6757990867579908\n",
      "  Precision (Negative): 0.7012987012987013\n",
      "  Recall (Positive): 0.7628865979381443\n",
      "  Recall (Negative): 0.6033519553072626\n",
      "  F1 Score (Positive): 0.7167070217917676\n",
      "  F1 Score (Negative): 0.6486486486486487\n",
      "  AUC: 0.7556729827794736\n",
      "\n",
      "Average Metrics:\n",
      "  Average Accuracy: 0.6819171051311093\n",
      "  Average Precision (Positive): 0.6558338262139568\n",
      "  Average Precision (Negative): 0.7223089338820042\n",
      "  Average Recall (Positive): 0.7696897464371102\n",
      "  Average Recall (Negative): 0.5961395348359542\n",
      "  Average F1 Score (Positive): 0.7070943505767169\n",
      "  Average F1 Score (Negative): 0.6516195858662426\n",
      "  Average AUC: 0.751300743994449\n"
     ]
    }
   ],
   "source": [
    "fit_model_LR_CV(balanced_data2, 'Churn', 10)"
   ]
  },
  {
   "cell_type": "markdown",
   "id": "2e364ec2",
   "metadata": {},
   "source": [
    "## Feature Engineering"
   ]
  },
  {
   "cell_type": "markdown",
   "id": "276691f0",
   "metadata": {},
   "source": [
    "### Variance Thresholding"
   ]
  },
  {
   "cell_type": "code",
   "execution_count": 94,
   "id": "a3f69c46",
   "metadata": {},
   "outputs": [
    {
     "name": "stdout",
     "output_type": "stream",
     "text": [
      "Indices of selected features: [ 6 16 17 18]\n",
      "Selected features: ['MultipleLines', 'PaymentMethod', 'MonthlyCharges', 'TotalCharges']\n"
     ]
    }
   ],
   "source": [
    "selected_indices, selected_features=select_features_variance_threshold(balanced_data2, threshold=0.8)\n",
    "print(\"Indices of selected features:\", selected_indices)\n",
    "print(\"Selected features:\", selected_features)\n"
   ]
  },
  {
   "cell_type": "code",
   "execution_count": 95,
   "id": "0a48038f",
   "metadata": {},
   "outputs": [
    {
     "name": "stdout",
     "output_type": "stream",
     "text": [
      "Train Accuracy: 0.6636931311329171\n",
      "Validation Accuracy: 0.6510695187165776\n",
      "Test Accuracy: 0.6684491978609626\n",
      "\n",
      "\n",
      "Train Precision: 0.663786104919573\n",
      "Validation Precision: 0.6511549109232317\n",
      "Test Precision: 0.6695541171262601\n",
      "\n",
      "\n",
      "Train Recall: 0.6636931311329171\n",
      "Validation Recall: 0.6510695187165776\n",
      "Test Recall: 0.6684491978609626\n",
      "\n",
      "\n",
      "Train F1 Score: 0.663713740139461\n",
      "Validation F1 Score: 0.6509153795627708\n",
      "Test F1 Score: 0.6686960092836003\n",
      "\n",
      "\n",
      "AUC-ROC: 0.7363108258328254\n",
      "AUC-PR: 0.701146882078182\n"
     ]
    }
   ],
   "source": [
    "selected_features.append('Churn')\n",
    "var_thrsh_data=balanced_data2[selected_features]\n",
    "fit_model_LR(var_thrsh_data,'Churn')"
   ]
  },
  {
   "cell_type": "markdown",
   "id": "e71c9cc9",
   "metadata": {},
   "source": [
    "### Wrapper Method "
   ]
  },
  {
   "cell_type": "markdown",
   "id": "7e10ef75",
   "metadata": {},
   "source": [
    "#### Recursive Feature Elimination"
   ]
  },
  {
   "cell_type": "code",
   "execution_count": 96,
   "id": "3b69d068",
   "metadata": {},
   "outputs": [
    {
     "name": "stdout",
     "output_type": "stream",
     "text": [
      "Train Accuracy: 0.6833184656556646\n",
      "Validation Accuracy: 0.6631016042780749\n",
      "Test Accuracy: 0.68048128342246\n",
      "\n",
      "\n",
      "Train Precision: 0.6841438164254949\n",
      "Validation Precision: 0.6650722589567346\n",
      "Test Precision: 0.6859605368723751\n",
      "\n",
      "\n",
      "Train Recall: 0.6833184656556646\n",
      "Validation Recall: 0.6631016042780749\n",
      "Test Recall: 0.68048128342246\n",
      "\n",
      "\n",
      "Train F1 Score: 0.6825741327677366\n",
      "Validation F1 Score: 0.661770955897474\n",
      "Test F1 Score: 0.6802853875599042\n",
      "\n",
      "\n",
      "AUC-ROC: 0.7539247678129595\n",
      "AUC-PR: 0.7147183415815858\n"
     ]
    }
   ],
   "source": [
    "fit_model_LR(wrapper_data_rfe,'Churn')"
   ]
  },
  {
   "cell_type": "markdown",
   "id": "4f4004c8",
   "metadata": {},
   "source": [
    "#### Forward Feature Selection"
   ]
  },
  {
   "cell_type": "code",
   "execution_count": 97,
   "id": "50522e2c",
   "metadata": {},
   "outputs": [
    {
     "name": "stdout",
     "output_type": "stream",
     "text": [
      "Train Accuracy: 0.6842105263157895\n",
      "Validation Accuracy: 0.6631016042780749\n",
      "Test Accuracy: 0.6764705882352942\n",
      "\n",
      "\n",
      "Train Precision: 0.6847535396601209\n",
      "Validation Precision: 0.6654856707670403\n",
      "Test Precision: 0.6810676605461018\n",
      "\n",
      "\n",
      "Train Recall: 0.6842105263157895\n",
      "Validation Recall: 0.6631016042780749\n",
      "Test Recall: 0.6764705882352942\n",
      "\n",
      "\n",
      "Train F1 Score: 0.6836504461493291\n",
      "Validation F1 Score: 0.6615326867992374\n",
      "Test F1 Score: 0.6764197024654366\n",
      "\n",
      "\n",
      "AUC-ROC: 0.7513500914404561\n",
      "AUC-PR: 0.7154844424678473\n"
     ]
    }
   ],
   "source": [
    "fit_model_LR(wrapper_data_ffs,'Churn')"
   ]
  },
  {
   "cell_type": "markdown",
   "id": "1515cad6",
   "metadata": {},
   "source": [
    "### Principal Component Analysis"
   ]
  },
  {
   "cell_type": "code",
   "execution_count": 98,
   "id": "cddfda78",
   "metadata": {},
   "outputs": [
    {
     "name": "stdout",
     "output_type": "stream",
     "text": [
      "Train Accuracy: 0.691793041926851\n",
      "Validation Accuracy: 0.6510695187165776\n",
      "Test Accuracy: 0.68048128342246\n",
      "\n",
      "\n",
      "Train Precision: 0.6970394979310776\n",
      "Validation Precision: 0.6598893345216875\n",
      "Test Precision: 0.6960778767086816\n",
      "\n",
      "\n",
      "Train Recall: 0.691793041926851\n",
      "Validation Recall: 0.6510695187165776\n",
      "Test Recall: 0.68048128342246\n",
      "\n",
      "\n",
      "Train F1 Score: 0.688947863898179\n",
      "Validation F1 Score: 0.6454704688101273\n",
      "Test F1 Score: 0.6779238856751506\n",
      "\n",
      "\n",
      "AUC-ROC: 0.7585756804245705\n",
      "AUC-PR: 0.7141799660011511\n"
     ]
    }
   ],
   "source": [
    "fit_model_LR(X_pca_df,'Churn')"
   ]
  },
  {
   "cell_type": "markdown",
   "id": "5e26b2f0",
   "metadata": {},
   "source": [
    "**Comment :** The model performed poorly with or without feautre selection. Performance scores were around 60% which are not indicators of a good model. \n",
    "\n",
    "AUC scores however touched 70% which is much better than baseline models, hence imbalance is handled."
   ]
  },
  {
   "cell_type": "markdown",
   "id": "5da9e941",
   "metadata": {},
   "source": [
    "# ALGORITHM 3: DECISION TREES"
   ]
  },
  {
   "cell_type": "markdown",
   "id": "de10611b",
   "metadata": {},
   "source": [
    "### Manual Splitting:"
   ]
  },
  {
   "cell_type": "code",
   "execution_count": 99,
   "id": "adc4a996",
   "metadata": {},
   "outputs": [
    {
     "name": "stdout",
     "output_type": "stream",
     "text": [
      "Train Accuracy: 0.9875111507582516\n",
      "Validation Accuracy: 0.6216577540106952\n",
      "Test Accuracy: 0.6296791443850267\n",
      "\n",
      "\n",
      "Train Precision: 0.9877389085705388\n",
      "Validation Precision: 0.6216899253624638\n",
      "Test Precision: 0.6316487419428597\n",
      "\n",
      "\n",
      "Train Recall: 0.9875111507582516\n",
      "Validation Recall: 0.6216577540106952\n",
      "Test Recall: 0.6296791443850267\n",
      "\n",
      "\n",
      "Train F1 Score: 0.9875118663348612\n",
      "Validation F1 Score: 0.6216638399993347\n",
      "Test F1 Score: 0.6299605859837614\n",
      "\n",
      "\n",
      "AUC-ROC: 0.6304191917380859\n",
      "AUC-PR: 0.7031465611524909\n"
     ]
    }
   ],
   "source": [
    "fit_model_DT(balanced_data2, 'Churn')"
   ]
  },
  {
   "cell_type": "markdown",
   "id": "3bb3b17e",
   "metadata": {},
   "source": [
    "### Cross-Validation:"
   ]
  },
  {
   "cell_type": "code",
   "execution_count": 100,
   "id": "3b58b3f0",
   "metadata": {},
   "outputs": [
    {
     "name": "stdout",
     "output_type": "stream",
     "text": [
      "Fold 1:\n",
      "  Accuracy: 0.6577540106951871\n",
      "  Precision (Positive): 0.6210526315789474\n",
      "  Precision (Negative): 0.6956521739130435\n",
      "  Recall (Positive): 0.6781609195402298\n",
      "  Recall (Negative): 0.64\n",
      "  F1 Score (Positive): 0.6483516483516484\n",
      "  F1 Score (Negative): 0.6666666666666666\n",
      "  AUC: 0.651580459770115\n",
      "Fold 2:\n",
      "  Accuracy: 0.6737967914438503\n",
      "  Precision (Positive): 0.6994535519125683\n",
      "  Precision (Negative): 0.6492146596858639\n",
      "  Recall (Positive): 0.6564102564102564\n",
      "  Recall (Negative): 0.6927374301675978\n",
      "  F1 Score (Positive): 0.6772486772486772\n",
      "  F1 Score (Negative): 0.6702702702702703\n",
      "  AUC: 0.678269588884114\n",
      "Fold 3:\n",
      "  Accuracy: 0.6016042780748663\n",
      "  Precision (Positive): 0.5773809523809523\n",
      "  Precision (Negative): 0.6213592233009708\n",
      "  Recall (Positive): 0.5542857142857143\n",
      "  Recall (Negative): 0.6432160804020101\n",
      "  F1 Score (Positive): 0.565597667638484\n",
      "  F1 Score (Negative): 0.6320987654320988\n",
      "  AUC: 0.594300071787509\n",
      "Fold 4:\n",
      "  Accuracy: 0.6310160427807486\n",
      "  Precision (Positive): 0.6318681318681318\n",
      "  Precision (Negative): 0.6302083333333334\n",
      "  Recall (Positive): 0.6182795698924731\n",
      "  Recall (Negative): 0.6436170212765957\n",
      "  F1 Score (Positive): 0.625\n",
      "  F1 Score (Negative): 0.6368421052631579\n",
      "  AUC: 0.6285175017158544\n",
      "Fold 5:\n",
      "  Accuracy: 0.6470588235294118\n",
      "  Precision (Positive): 0.6878980891719745\n",
      "  Precision (Negative): 0.6175115207373272\n",
      "  Recall (Positive): 0.5654450261780105\n",
      "  Recall (Negative): 0.73224043715847\n",
      "  F1 Score (Positive): 0.6206896551724138\n",
      "  F1 Score (Negative): 0.67\n",
      "  AUC: 0.646096186307327\n",
      "Fold 6:\n",
      "  Accuracy: 0.5882352941176471\n",
      "  Precision (Positive): 0.6\n",
      "  Precision (Negative): 0.5773195876288659\n",
      "  Recall (Positive): 0.5684210526315789\n",
      "  Recall (Negative): 0.6086956521739131\n",
      "  F1 Score (Positive): 0.5837837837837838\n",
      "  F1 Score (Negative): 0.5925925925925926\n",
      "  AUC: 0.5865703661327232\n",
      "Fold 7:\n",
      "  Accuracy: 0.6122994652406417\n",
      "  Precision (Positive): 0.6585365853658537\n",
      "  Precision (Negative): 0.5761904761904761\n",
      "  Recall (Positive): 0.5482233502538071\n",
      "  Recall (Negative): 0.6836158192090396\n",
      "  F1 Score (Positive): 0.5983379501385041\n",
      "  F1 Score (Negative): 0.6253229974160207\n",
      "  AUC: 0.6179414379534831\n",
      "Fold 8:\n",
      "  Accuracy: 0.6122994652406417\n",
      "  Precision (Positive): 0.6022099447513812\n",
      "  Precision (Negative): 0.6217616580310881\n",
      "  Recall (Positive): 0.5989010989010989\n",
      "  Recall (Negative): 0.625\n",
      "  F1 Score (Positive): 0.6005509641873278\n",
      "  F1 Score (Negative): 0.6233766233766234\n",
      "  AUC: 0.611492673992674\n",
      "Fold 9:\n",
      "  Accuracy: 0.6273458445040214\n",
      "  Precision (Positive): 0.6337209302325582\n",
      "  Precision (Negative): 0.6218905472636815\n",
      "  Recall (Positive): 0.5891891891891892\n",
      "  Recall (Negative): 0.6648936170212766\n",
      "  F1 Score (Positive): 0.6106442577030813\n",
      "  F1 Score (Negative): 0.6426735218508998\n",
      "  AUC: 0.6200402530189764\n",
      "Fold 10:\n",
      "  Accuracy: 0.6058981233243967\n",
      "  Precision (Positive): 0.6358381502890174\n",
      "  Precision (Negative): 0.58\n",
      "  Recall (Positive): 0.5670103092783505\n",
      "  Recall (Negative): 0.6480446927374302\n",
      "  F1 Score (Positive): 0.5994550408719346\n",
      "  F1 Score (Negative): 0.6121372031662269\n",
      "  AUC: 0.6078874618441514\n",
      "\n",
      "Average Metrics:\n",
      "  Average Accuracy: 0.6257308138951413\n",
      "  Average Precision (Positive): 0.6347958967551385\n",
      "  Average Precision (Negative): 0.6191108180084651\n",
      "  Average Recall (Positive): 0.5944326486560707\n",
      "  Average Recall (Negative): 0.6582060750146332\n",
      "  Average F1 Score (Positive): 0.6129659645095854\n",
      "  Average F1 Score (Negative): 0.6371980746034557\n",
      "  Average AUC: 0.6242696001406928\n"
     ]
    }
   ],
   "source": [
    "fit_model_DT_CV(balanced_data2, 'Churn', 10)"
   ]
  },
  {
   "cell_type": "markdown",
   "id": "d16dfda2",
   "metadata": {},
   "source": [
    "## Feature Selection"
   ]
  },
  {
   "cell_type": "markdown",
   "id": "fe3c4875",
   "metadata": {},
   "source": [
    "### Variance Thresholding"
   ]
  },
  {
   "cell_type": "code",
   "execution_count": 101,
   "id": "0b9fa370",
   "metadata": {},
   "outputs": [
    {
     "name": "stdout",
     "output_type": "stream",
     "text": [
      "Indices of selected features: [ 6 16 17 18]\n",
      "Selected features: ['MultipleLines', 'PaymentMethod', 'MonthlyCharges', 'TotalCharges']\n"
     ]
    }
   ],
   "source": [
    "selected_indices, selected_features=select_features_variance_threshold(balanced_data2, threshold=0.8)\n",
    "print(\"Indices of selected features:\", selected_indices)\n",
    "print(\"Selected features:\", selected_features)\n"
   ]
  },
  {
   "cell_type": "code",
   "execution_count": 102,
   "id": "4104af05",
   "metadata": {},
   "outputs": [
    {
     "name": "stdout",
     "output_type": "stream",
     "text": [
      "Train Accuracy: 0.9643175735950045\n",
      "Validation Accuracy: 0.6283422459893048\n",
      "Test Accuracy: 0.6590909090909091\n",
      "\n",
      "\n",
      "Train Precision: 0.9653441995364659\n",
      "Validation Precision: 0.6294127485459632\n",
      "Test Precision: 0.6597920308857809\n",
      "\n",
      "\n",
      "Train Recall: 0.9643175735950045\n",
      "Validation Recall: 0.6283422459893048\n",
      "Test Recall: 0.6590909090909091\n",
      "\n",
      "\n",
      "Train F1 Score: 0.9643116671167767\n",
      "Validation F1 Score: 0.6278634838179917\n",
      "Test F1 Score: 0.6592990398883589\n",
      "\n",
      "\n",
      "AUC-ROC: 0.6575465270556172\n",
      "AUC-PR: 0.7176251245776191\n"
     ]
    }
   ],
   "source": [
    "selected_features.append('Churn')\n",
    "var_thrsh_data=balanced_data2[selected_features]\n",
    "fit_model_DT(var_thrsh_data,'Churn')"
   ]
  },
  {
   "cell_type": "markdown",
   "id": "55380447",
   "metadata": {},
   "source": [
    "### Wrapper Method "
   ]
  },
  {
   "cell_type": "markdown",
   "id": "b95a6095",
   "metadata": {},
   "source": [
    "#### Recursive Feature Elimination"
   ]
  },
  {
   "cell_type": "code",
   "execution_count": 103,
   "id": "1d33c41c",
   "metadata": {},
   "outputs": [
    {
     "name": "stdout",
     "output_type": "stream",
     "text": [
      "Train Accuracy: 0.9442462087421944\n",
      "Validation Accuracy: 0.6002673796791443\n",
      "Test Accuracy: 0.6350267379679144\n",
      "\n",
      "\n",
      "Train Precision: 0.9457019832594843\n",
      "Validation Precision: 0.600764693006927\n",
      "Test Precision: 0.6359026085602193\n",
      "\n",
      "\n",
      "Train Recall: 0.9442462087421944\n",
      "Validation Recall: 0.6002673796791443\n",
      "Test Recall: 0.6350267379679144\n",
      "\n",
      "\n",
      "Train F1 Score: 0.9442273388033825\n",
      "Validation F1 Score: 0.6000422402131514\n",
      "Test F1 Score: 0.6352730312069264\n",
      "\n",
      "\n",
      "AUC-ROC: 0.6239071969017822\n",
      "AUC-PR: 0.6871200119471863\n"
     ]
    }
   ],
   "source": [
    "fit_model_DT(wrapper_data_rfe,'Churn')"
   ]
  },
  {
   "cell_type": "markdown",
   "id": "449379b0",
   "metadata": {},
   "source": [
    "#### Forward Feature Selection"
   ]
  },
  {
   "cell_type": "code",
   "execution_count": 104,
   "id": "5bbc3c2a",
   "metadata": {},
   "outputs": [
    {
     "name": "stdout",
     "output_type": "stream",
     "text": [
      "Train Accuracy: 0.6842105263157895\n",
      "Validation Accuracy: 0.6631016042780749\n",
      "Test Accuracy: 0.6764705882352942\n",
      "\n",
      "\n",
      "Train Precision: 0.6847535396601209\n",
      "Validation Precision: 0.6654856707670403\n",
      "Test Precision: 0.6810676605461018\n",
      "\n",
      "\n",
      "Train Recall: 0.6842105263157895\n",
      "Validation Recall: 0.6631016042780749\n",
      "Test Recall: 0.6764705882352942\n",
      "\n",
      "\n",
      "Train F1 Score: 0.6836504461493291\n",
      "Validation F1 Score: 0.6615326867992374\n",
      "Test F1 Score: 0.6764197024654366\n",
      "\n",
      "\n",
      "AUC-ROC: 0.7513500914404561\n",
      "AUC-PR: 0.7154844424678473\n"
     ]
    }
   ],
   "source": [
    "fit_model_LR(wrapper_data_ffs,'Churn')"
   ]
  },
  {
   "cell_type": "markdown",
   "id": "56dabe9f",
   "metadata": {},
   "source": [
    "### Principal Component Analysis"
   ]
  },
  {
   "cell_type": "code",
   "execution_count": 105,
   "id": "c0bb8e26",
   "metadata": {},
   "outputs": [
    {
     "name": "stdout",
     "output_type": "stream",
     "text": [
      "Train Accuracy: 0.9875111507582516\n",
      "Validation Accuracy: 0.6002673796791443\n",
      "Test Accuracy: 0.6203208556149733\n",
      "\n",
      "\n",
      "Train Precision: 0.9877389085705388\n",
      "Validation Precision: 0.6003625283037047\n",
      "Test Precision: 0.6211292203461409\n",
      "\n",
      "\n",
      "Train Recall: 0.9875111507582516\n",
      "Validation Recall: 0.6002673796791443\n",
      "Test Recall: 0.6203208556149733\n",
      "\n",
      "\n",
      "Train F1 Score: 0.9875118663348612\n",
      "Validation F1 Score: 0.6002623785829174\n",
      "Test F1 Score: 0.6205655450407178\n",
      "\n",
      "\n",
      "AUC-ROC: 0.6178864703983935\n",
      "AUC-PR: 0.6914507305856323\n"
     ]
    }
   ],
   "source": [
    "fit_model_DT(X_pca_df,'Churn')"
   ]
  },
  {
   "cell_type": "markdown",
   "id": "8d47db66",
   "metadata": {},
   "source": [
    "**Comment :** Again a poor model. Training accuracy reached 98% with PCA and without feature selection but significantly decreased in val-test datasets. Wrapper's showed generalizility but scores were too low."
   ]
  },
  {
   "cell_type": "markdown",
   "id": "33efe623",
   "metadata": {},
   "source": [
    "# ALGORITHM 4: Random Forest"
   ]
  },
  {
   "cell_type": "code",
   "execution_count": 106,
   "id": "7806cede",
   "metadata": {},
   "outputs": [
    {
     "name": "stdout",
     "output_type": "stream",
     "text": [
      "Train Accuracy: 0.8487957181088314\n",
      "Validation Accuracy: 0.7018716577540107\n",
      "Test Accuracy: 0.7125668449197861\n",
      "\n",
      "\n",
      "Train Precision: 0.8561920897031191\n",
      "Validation Precision: 0.7123346795806689\n",
      "Test Precision: 0.7311073577158136\n",
      "\n",
      "\n",
      "Train Recall: 0.8487957181088314\n",
      "Validation Recall: 0.7018716577540107\n",
      "Test Recall: 0.7125668449197861\n",
      "\n",
      "\n",
      "Train F1 Score: 0.8477899968741024\n",
      "Validation F1 Score: 0.697688191666288\n",
      "Test F1 Score: 0.7099671701682096\n",
      "\n",
      "\n",
      "AUC-ROC: 0.7793380428156489\n",
      "AUC-PR: 0.7308548741880425\n"
     ]
    }
   ],
   "source": [
    "fit_model_RF(balanced_data2, 'Churn')"
   ]
  },
  {
   "cell_type": "markdown",
   "id": "6866ae1f",
   "metadata": {},
   "source": [
    "### Cross-Validation:"
   ]
  },
  {
   "cell_type": "code",
   "execution_count": 107,
   "id": "9e11a164",
   "metadata": {},
   "outputs": [
    {
     "name": "stdout",
     "output_type": "stream",
     "text": [
      "Fold 1:\n",
      "  Accuracy: 0.6657754010695187\n",
      "  Precision: 0.6521739130434783\n",
      "  Recall: 0.6910569105691057\n",
      "  F1 Score (Positive): 0.6710526315789473\n",
      "  F1 Score (Negative): 0.6603260869565217\n",
      "  AUC-ROC: 0.7384716591229238\n",
      "  AUC-PR: 0.6915142530118128\n",
      "Fold 2:\n",
      "  Accuracy: 0.6617647058823529\n",
      "  Precision: 0.6363636363636364\n",
      "  Recall: 0.6980609418282548\n",
      "  F1 Score (Positive): 0.665785997357992\n",
      "  F1 Score (Negative): 0.6576454668470907\n",
      "  AUC-ROC: 0.7119471465280909\n",
      "  AUC-PR: 0.6522972188982397\n",
      "Fold 3:\n",
      "  Accuracy: 0.6684491978609626\n",
      "  Precision: 0.67828418230563\n",
      "  Recall: 0.6640419947506562\n",
      "  F1 Score (Positive): 0.6710875331564987\n",
      "  F1 Score (Negative): 0.6657681940700808\n",
      "  AUC-ROC: 0.7451279080578144\n",
      "  AUC-PR: 0.7071937620347045\n",
      "Fold 4:\n",
      "  Accuracy: 0.677376171352075\n",
      "  Precision: 0.6885245901639344\n",
      "  Recall: 0.6649076517150396\n",
      "  F1 Score (Positive): 0.676510067114094\n",
      "  F1 Score (Negative): 0.678237650200267\n",
      "  AUC-ROC: 0.7388615636113341\n",
      "  AUC-PR: 0.7053190536008694\n",
      "Fold 5:\n",
      "  Accuracy: 0.677376171352075\n",
      "  Precision: 0.676923076923077\n",
      "  Recall: 0.6965699208443272\n",
      "  F1 Score (Positive): 0.6866059817945384\n",
      "  F1 Score (Negative): 0.6675862068965517\n",
      "  AUC-ROC: 0.7514232247332797\n",
      "  AUC-PR: 0.7139937505852414\n",
      "\n",
      "Average Metrics:\n",
      "  Average Accuracy: 0.6701483295033969\n",
      "  Average Precision: 0.6664538797599512\n",
      "  Average Recall: 0.6829274839414767\n",
      "  Average F1 Score (Positive): 0.674208442200414\n",
      "  Average F1 Score (Negative): 0.6659127209941025\n",
      "  Average AUC-ROC: 0.7371663004106885\n",
      "  Average AUC-PR: 0.6940636076261735\n"
     ]
    }
   ],
   "source": [
    "fit_model_RF_CV(balanced_data2, 'Churn', KF=5, n_estimators=30)"
   ]
  },
  {
   "cell_type": "markdown",
   "id": "abd9b6c9",
   "metadata": {},
   "source": [
    "## Feature Engineering"
   ]
  },
  {
   "cell_type": "markdown",
   "id": "d4b7b88f",
   "metadata": {},
   "source": [
    "### Variance Thresholding"
   ]
  },
  {
   "cell_type": "code",
   "execution_count": 108,
   "id": "37a3e14d",
   "metadata": {},
   "outputs": [
    {
     "name": "stdout",
     "output_type": "stream",
     "text": [
      "Indices of selected features: [17]\n",
      "Selected features: ['MonthlyCharges']\n"
     ]
    }
   ],
   "source": [
    "selected_indices, selected_features=select_features_variance_threshold(balanced_data2, threshold=1.0)\n",
    "print(\"Indices of selected features:\", selected_indices)\n",
    "print(\"Selected features:\", selected_features)"
   ]
  },
  {
   "cell_type": "code",
   "execution_count": 109,
   "id": "a9c22313",
   "metadata": {},
   "outputs": [
    {
     "name": "stdout",
     "output_type": "stream",
     "text": [
      "Train Accuracy: 0.7301516503122212\n",
      "Validation Accuracy: 0.6243315508021391\n",
      "Test Accuracy: 0.6483957219251337\n",
      "\n",
      "\n",
      "Train Precision: 0.7415638271211774\n",
      "Validation Precision: 0.6314059714795008\n",
      "Test Precision: 0.6678301644879184\n",
      "\n",
      "\n",
      "Train Recall: 0.7301516503122212\n",
      "Validation Recall: 0.6243315508021391\n",
      "Test Recall: 0.6483957219251337\n",
      "\n",
      "\n",
      "Train F1 Score: 0.7261600803857363\n",
      "Validation F1 Score: 0.6183034549258459\n",
      "Test F1 Score: 0.6437692414826578\n",
      "\n",
      "\n",
      "AUC-ROC: 0.6992433750493061\n",
      "AUC-PR: 0.6349496614890646\n"
     ]
    }
   ],
   "source": [
    "selected_features.append('Churn')\n",
    "var_thrsh_data=balanced_data2[selected_features]\n",
    "fit_model_RF(var_thrsh_data,'Churn')"
   ]
  },
  {
   "cell_type": "markdown",
   "id": "b17f55c6",
   "metadata": {},
   "source": [
    "### Wrapper Method "
   ]
  },
  {
   "cell_type": "markdown",
   "id": "3ab9010b",
   "metadata": {},
   "source": [
    "#### Recursive Feature Elimination"
   ]
  },
  {
   "cell_type": "code",
   "execution_count": 110,
   "id": "393c6a5e",
   "metadata": {},
   "outputs": [
    {
     "name": "stdout",
     "output_type": "stream",
     "text": [
      "Train Accuracy: 0.7970561998215878\n",
      "Validation Accuracy: 0.6711229946524064\n",
      "Test Accuracy: 0.6844919786096256\n",
      "\n",
      "\n",
      "Train Precision: 0.809155135949032\n",
      "Validation Precision: 0.680533328944564\n",
      "Test Precision: 0.7012369373022702\n",
      "\n",
      "\n",
      "Train Recall: 0.7970561998215878\n",
      "Validation Recall: 0.6711229946524064\n",
      "Test Recall: 0.6844919786096256\n",
      "\n",
      "\n",
      "Train F1 Score: 0.7946121848067562\n",
      "Validation F1 Score: 0.6661826847229475\n",
      "Test F1 Score: 0.681722217100006\n",
      "\n",
      "\n",
      "AUC-ROC: 0.7740488399612723\n",
      "AUC-PR: 0.7257298640085933\n"
     ]
    }
   ],
   "source": [
    "fit_model_RF(wrapper_data_rfe,'Churn')"
   ]
  },
  {
   "cell_type": "markdown",
   "id": "f7e86194",
   "metadata": {},
   "source": [
    "#### Forward Feature Selection"
   ]
  },
  {
   "cell_type": "code",
   "execution_count": 111,
   "id": "e8105a7e",
   "metadata": {},
   "outputs": [
    {
     "name": "stdout",
     "output_type": "stream",
     "text": [
      "Train Accuracy: 0.8068688670829617\n",
      "Validation Accuracy: 0.6671122994652406\n",
      "Test Accuracy: 0.68048128342246\n",
      "\n",
      "\n",
      "Train Precision: 0.8187231977239304\n",
      "Validation Precision: 0.6747582269276823\n",
      "Test Precision: 0.6937153510278173\n",
      "\n",
      "\n",
      "Train Recall: 0.8068688670829617\n",
      "Validation Recall: 0.6671122994652406\n",
      "Test Recall: 0.68048128342246\n",
      "\n",
      "\n",
      "Train F1 Score: 0.8046575505248443\n",
      "Validation F1 Score: 0.6628620532846787\n",
      "Test F1 Score: 0.6785320590403291\n",
      "\n",
      "\n",
      "AUC-ROC: 0.7566608096962744\n",
      "AUC-PR: 0.7063378009691128\n"
     ]
    }
   ],
   "source": [
    "fit_model_RF(wrapper_data_ffs,'Churn')"
   ]
  },
  {
   "cell_type": "markdown",
   "id": "e8598796",
   "metadata": {},
   "source": [
    "### Principal Component Analysis"
   ]
  },
  {
   "cell_type": "code",
   "execution_count": 112,
   "id": "981a6024",
   "metadata": {},
   "outputs": [
    {
     "name": "stdout",
     "output_type": "stream",
     "text": [
      "Train Accuracy: 0.9112399643175736\n",
      "Validation Accuracy: 0.6631016042780749\n",
      "Test Accuracy: 0.696524064171123\n",
      "\n",
      "\n",
      "Train Precision: 0.9123091658267097\n",
      "Validation Precision: 0.6703428733675831\n",
      "Test Precision: 0.7128777736362876\n",
      "\n",
      "\n",
      "Train Recall: 0.9112399643175736\n",
      "Validation Recall: 0.6631016042780749\n",
      "Test Recall: 0.696524064171123\n",
      "\n",
      "\n",
      "Train F1 Score: 0.9111408121236394\n",
      "Validation F1 Score: 0.6589034021825304\n",
      "Test F1 Score: 0.6940950713316284\n",
      "\n",
      "\n",
      "AUC-ROC: 0.7506329113924051\n",
      "AUC-PR: 0.6742677924661791\n"
     ]
    }
   ],
   "source": [
    "fit_model_RF(X_pca_df,'Churn')"
   ]
  },
  {
   "cell_type": "markdown",
   "id": "e13962a3",
   "metadata": {},
   "source": [
    "**Comment :** Performance similar to that of Decicision Trees."
   ]
  },
  {
   "cell_type": "markdown",
   "id": "9c1dcb24",
   "metadata": {},
   "source": [
    "# ALGORITHM 5: MultiLayer Perecptron "
   ]
  },
  {
   "cell_type": "markdown",
   "id": "bbf916ba",
   "metadata": {},
   "source": [
    "### MODEL SELECTION"
   ]
  },
  {
   "cell_type": "markdown",
   "id": "dd2eb599",
   "metadata": {},
   "source": [
    "### Manual Splitting:"
   ]
  },
  {
   "cell_type": "code",
   "execution_count": 113,
   "id": "56f79377",
   "metadata": {},
   "outputs": [
    {
     "name": "stdout",
     "output_type": "stream",
     "text": [
      "Train Accuracy: 0.6855486173059768\n",
      "Validation Accuracy: 0.6644385026737968\n",
      "Test Accuracy: 0.660427807486631\n",
      "\n",
      "\n",
      "Train Precision: 0.7004873377070053\n",
      "Validation Precision: 0.6915863354911344\n",
      "Test Precision: 0.6880015984444273\n",
      "\n",
      "\n",
      "Train Recall: 0.6855486173059768\n",
      "Validation Recall: 0.6644385026737968\n",
      "Test Recall: 0.660427807486631\n",
      "\n",
      "\n",
      "Train F1 Score: 0.6782820601306978\n",
      "Validation F1 Score: 0.6511316556553931\n",
      "Test F1 Score: 0.6536573736309593\n",
      "\n",
      "\n",
      "AUC-ROC: 0.7565890916914692\n",
      "AUC-PR: 0.7144621935470571\n"
     ]
    }
   ],
   "source": [
    "fit_model_MLP(balanced_data2, 'Churn')"
   ]
  },
  {
   "cell_type": "markdown",
   "id": "0761f8a4",
   "metadata": {},
   "source": [
    "### Cross-Validation:"
   ]
  },
  {
   "cell_type": "code",
   "execution_count": 114,
   "id": "902abdac",
   "metadata": {},
   "outputs": [
    {
     "name": "stdout",
     "output_type": "stream",
     "text": [
      "Fold 1:\n",
      "  Accuracy: 0.6818181818181818\n",
      "  Precision: 0.6445916114790287\n",
      "  Recall: 0.7913279132791328\n",
      "  F1 Score (Positive): 0.7104622871046229\n",
      "  F1 Score (Negative): 0.6468842729970327\n",
      "  AUC-ROC: 0.7505487983639731\n",
      "  AUC-PR: 0.7179193603003762\n",
      "Fold 2:\n",
      "  Accuracy: 0.6644385026737968\n",
      "  Precision: 0.6206140350877193\n",
      "  Recall: 0.7839335180055401\n",
      "  F1 Score (Positive): 0.6927784577723378\n",
      "  F1 Score (Negative): 0.6303387334315169\n",
      "  AUC-ROC: 0.7335888681311602\n",
      "  AUC-PR: 0.676996717491638\n",
      "Fold 3:\n",
      "  Accuracy: 0.7072192513368984\n",
      "  Precision: 0.6738197424892703\n",
      "  Recall: 0.8241469816272966\n",
      "  F1 Score (Positive): 0.7414403778040142\n",
      "  F1 Score (Negative): 0.662557781201849\n",
      "  AUC-ROC: 0.7641728707617269\n",
      "  AUC-PR: 0.7480453820750341\n",
      "Fold 4:\n",
      "  Accuracy: 0.6706827309236948\n",
      "  Precision: 0.6658354114713217\n",
      "  Recall: 0.7044854881266491\n",
      "  F1 Score (Positive): 0.6846153846153846\n",
      "  F1 Score (Negative): 0.6554621848739496\n",
      "  AUC-ROC: 0.7350400080302857\n",
      "  AUC-PR: 0.720909271439408\n",
      "Fold 5:\n",
      "  Accuracy: 0.6961178045515395\n",
      "  Precision: 0.6818181818181818\n",
      "  Recall: 0.7519788918205804\n",
      "  F1 Score (Positive): 0.7151819322459222\n",
      "  F1 Score (Negative): 0.6743185078909613\n",
      "  AUC-ROC: 0.7662469886428818\n",
      "  AUC-PR: 0.7432046302933921\n",
      "\n",
      "Average Metrics:\n",
      "  Average Accuracy: 0.6840552942608223\n",
      "  Average Precision: 0.6573357964691044\n",
      "  Average Recall: 0.7711745585718399\n",
      "  Average F1 Score (Positive): 0.7088956879084564\n",
      "  Average F1 Score (Negative): 0.6539122960790619\n",
      "  Average AUC-ROC: 0.7499195067860056\n",
      "  Average AUC-PR: 0.7214150723199697\n"
     ]
    }
   ],
   "source": [
    "fit_model_MLP_CV(balanced_data2, 'Churn', KF=5)"
   ]
  },
  {
   "cell_type": "markdown",
   "id": "44301384",
   "metadata": {},
   "source": [
    "## Feature Selection"
   ]
  },
  {
   "cell_type": "markdown",
   "id": "c84e7a8c",
   "metadata": {},
   "source": [
    "### Variance Thresholding"
   ]
  },
  {
   "cell_type": "code",
   "execution_count": 115,
   "id": "dc38d2e2",
   "metadata": {},
   "outputs": [
    {
     "name": "stdout",
     "output_type": "stream",
     "text": [
      "Indices of selected features: [ 4  6  8  9 10 11 12 13 16 17 18]\n",
      "Selected features: ['tenure', 'MultipleLines', 'OnlineSecurity', 'OnlineBackup', 'DeviceProtection', 'TechSupport', 'StreamingTV', 'StreamingMovies', 'PaymentMethod', 'MonthlyCharges', 'TotalCharges']\n"
     ]
    }
   ],
   "source": [
    "selected_indices, selected_features=select_features_variance_threshold(balanced_data2, threshold=0.5)\n",
    "print(\"Indices of selected features:\", selected_indices)\n",
    "print(\"Selected features:\", selected_features)\n"
   ]
  },
  {
   "cell_type": "code",
   "execution_count": 116,
   "id": "31f99eb2",
   "metadata": {},
   "outputs": [
    {
     "name": "stdout",
     "output_type": "stream",
     "text": [
      "Train Accuracy: 0.6650312221231044\n",
      "Validation Accuracy: 0.6336898395721925\n",
      "Test Accuracy: 0.6631016042780749\n",
      "\n",
      "\n",
      "Train Precision: 0.6651284717561772\n",
      "Validation Precision: 0.6346561981046587\n",
      "Test Precision: 0.6672960720585694\n",
      "\n",
      "\n",
      "Train Recall: 0.6650312221231044\n",
      "Validation Recall: 0.6336898395721925\n",
      "Test Recall: 0.6631016042780749\n",
      "\n",
      "\n",
      "Train F1 Score: 0.6647350958134668\n",
      "Validation F1 Score: 0.6326967944928242\n",
      "Test F1 Score: 0.6631016042780749\n",
      "\n",
      "\n",
      "AUC-ROC: 0.7298490335998853\n",
      "AUC-PR: 0.6911527427579229\n"
     ]
    }
   ],
   "source": [
    "selected_features.append('Churn')\n",
    "var_thrsh_data=balanced_data2[selected_features]\n",
    "fit_model_MLP(var_thrsh_data,'Churn')"
   ]
  },
  {
   "cell_type": "markdown",
   "id": "ffcb7b9c",
   "metadata": {},
   "source": [
    "### Wrapper Method "
   ]
  },
  {
   "cell_type": "markdown",
   "id": "5df06bb9",
   "metadata": {},
   "source": [
    "#### Recursive Feature Elimination"
   ]
  },
  {
   "cell_type": "code",
   "execution_count": 117,
   "id": "3d2b735b",
   "metadata": {},
   "outputs": [
    {
     "name": "stdout",
     "output_type": "stream",
     "text": [
      "Train Accuracy: 0.6837644959857271\n",
      "Validation Accuracy: 0.6564171122994652\n",
      "Test Accuracy: 0.6764705882352942\n",
      "\n",
      "\n",
      "Train Precision: 0.6843234836742553\n",
      "Validation Precision: 0.6581947912202576\n",
      "Test Precision: 0.68074962189846\n",
      "\n",
      "\n",
      "Train Recall: 0.6837644959857271\n",
      "Validation Recall: 0.6564171122994652\n",
      "Test Recall: 0.6764705882352942\n",
      "\n",
      "\n",
      "Train F1 Score: 0.6831914249139384\n",
      "Validation F1 Score: 0.6551176593358571\n",
      "Test F1 Score: 0.6764705882352942\n",
      "\n",
      "\n",
      "AUC-ROC: 0.7542761860365045\n",
      "AUC-PR: 0.7157239713492517\n"
     ]
    }
   ],
   "source": [
    "fit_model_MLP(wrapper_data_rfe,'Churn')"
   ]
  },
  {
   "cell_type": "markdown",
   "id": "a2e41cdd",
   "metadata": {},
   "source": [
    "#### Forward Feature Selection"
   ]
  },
  {
   "cell_type": "code",
   "execution_count": 118,
   "id": "8554d4e3",
   "metadata": {},
   "outputs": [
    {
     "name": "stdout",
     "output_type": "stream",
     "text": [
      "Train Accuracy: 0.6859946476360392\n",
      "Validation Accuracy: 0.6631016042780749\n",
      "Test Accuracy: 0.68048128342246\n",
      "\n",
      "\n",
      "Train Precision: 0.6869859620054425\n",
      "Validation Precision: 0.6661831821358037\n",
      "Test Precision: 0.6859605368723751\n",
      "\n",
      "\n",
      "Train Recall: 0.6859946476360392\n",
      "Validation Recall: 0.6631016042780749\n",
      "Test Recall: 0.68048128342246\n",
      "\n",
      "\n",
      "Train F1 Score: 0.6851713613482636\n",
      "Validation F1 Score: 0.6611380443789933\n",
      "Test F1 Score: 0.6802853875599042\n",
      "\n",
      "\n",
      "AUC-ROC: 0.75126402983469\n",
      "AUC-PR: 0.7151598936621856\n"
     ]
    }
   ],
   "source": [
    "fit_model_MLP(wrapper_data_ffs,'Churn')"
   ]
  },
  {
   "cell_type": "markdown",
   "id": "715afa01",
   "metadata": {},
   "source": [
    "### Principal Component Analysis"
   ]
  },
  {
   "cell_type": "code",
   "execution_count": 119,
   "id": "b612545f",
   "metadata": {},
   "outputs": [
    {
     "name": "stdout",
     "output_type": "stream",
     "text": [
      "Train Accuracy: 0.6873327386262266\n",
      "Validation Accuracy: 0.6590909090909091\n",
      "Test Accuracy: 0.6617647058823529\n",
      "\n",
      "\n",
      "Train Precision: 0.7007633420910347\n",
      "Validation Precision: 0.6819438258378274\n",
      "Test Precision: 0.6874150395452299\n",
      "\n",
      "\n",
      "Train Recall: 0.6873327386262266\n",
      "Validation Recall: 0.6590909090909091\n",
      "Test Recall: 0.6617647058823529\n",
      "\n",
      "\n",
      "Train F1 Score: 0.6807939402879659\n",
      "Validation F1 Score: 0.647065468097003\n",
      "Test F1 Score: 0.6556703376829289\n",
      "\n",
      "\n",
      "AUC-ROC: 0.755871911643418\n",
      "AUC-PR: 0.7136844150755018\n"
     ]
    }
   ],
   "source": [
    "fit_model_MLP(X_pca_df,'Churn')"
   ]
  },
  {
   "cell_type": "markdown",
   "id": "4b83c99a",
   "metadata": {},
   "source": [
    "**Comment :** Poor performance but better AUC scores hence imbalance handled well."
   ]
  },
  {
   "cell_type": "markdown",
   "id": "13e8b88d",
   "metadata": {},
   "source": [
    "# CI ALGORITHM 3: Class Weighting"
   ]
  },
  {
   "cell_type": "markdown",
   "id": "d2c4859f",
   "metadata": {},
   "source": [
    "First i will apply tomek links to downsize my data and see if imbalance is being handled in any way then apply class weighting technique in each algorithms to see how well it handles class imbalance and the effect of change of algorithm on the CI technique."
   ]
  },
  {
   "cell_type": "markdown",
   "id": "b9b6ec62",
   "metadata": {},
   "source": [
    "#### Applying Tomek Links"
   ]
  },
  {
   "cell_type": "code",
   "execution_count": 24,
   "id": "17c4deea",
   "metadata": {},
   "outputs": [],
   "source": [
    "from imblearn.under_sampling import TomekLinks\n",
    "\n",
    "# Instantiate TomekLinks\n",
    "tl = TomekLinks()\n",
    "\n",
    "X = df_data.drop(columns=['Churn'])\n",
    "y = df_data['Churn']\n",
    "\n",
    "# Apply TomekLinks\n",
    "data_resampled, target_resampled = tl.fit_resample(X,y)\n"
   ]
  },
  {
   "cell_type": "code",
   "execution_count": 25,
   "id": "24d06c1d",
   "metadata": {},
   "outputs": [],
   "source": [
    "balanced_data3 = pd.concat([pd.DataFrame(data_resampled, columns=X.columns), pd.Series(target_resampled, name='Churn')], axis=1)"
   ]
  },
  {
   "cell_type": "markdown",
   "id": "c6109594",
   "metadata": {},
   "source": [
    "### Checking if the dataset has become balanced"
   ]
  },
  {
   "cell_type": "code",
   "execution_count": 122,
   "id": "f157d8a8",
   "metadata": {},
   "outputs": [],
   "source": [
    "import numpy as np \n",
    "from scipy.stats import norm,chisquare \n",
    "import matplotlib.pyplot as plt\n",
    "X = balanced_data3.drop(columns=['Churn'])\n",
    "y = balanced_data3['Churn']"
   ]
  },
  {
   "cell_type": "code",
   "execution_count": 123,
   "id": "e03da9ee",
   "metadata": {},
   "outputs": [
    {
     "data": {
      "text/plain": [
       "<matplotlib.lines.Line2D at 0x26a0f93e6d0>"
      ]
     },
     "execution_count": 123,
     "metadata": {},
     "output_type": "execute_result"
    },
    {
     "data": {
      "image/png": "[encoded data removed]",
      "text/plain": [
       "<Figure size 640x480 with 1 Axes>"
      ]
     },
     "metadata": {},
     "output_type": "display_data"
    }
   ],
   "source": [
    "freqs =pd.Series(y).value_counts() /len(y) \n",
    "std_errors = np.sqrt(freqs*(1-freqs)/len(y)) \n",
    "expected_frequency = 1/len(np.unique(y)) \n",
    "freqs.plot(kind='bar',yerr=std_errors*1.96) \n",
    "plt.axhline(expected_frequency,color='red',linestyle='--')"
   ]
  },
  {
   "cell_type": "markdown",
   "id": "bc0471d4",
   "metadata": {},
   "source": [
    "The dataset hasnot balanced so we will use class weighting in each of the algorithm so that it handles the imbalance of the dataset."
   ]
  },
  {
   "cell_type": "markdown",
   "id": "a4fd2f8a",
   "metadata": {},
   "source": [
    "## Model Selection\n",
    "# **ALGORITHM 1: Gradient Boosting Machine**"
   ]
  },
  {
   "cell_type": "markdown",
   "id": "ad32283d",
   "metadata": {},
   "source": [
    "### Manual Splitting:"
   ]
  },
  {
   "cell_type": "code",
   "execution_count": 124,
   "id": "97f2b80b",
   "metadata": {},
   "outputs": [
    {
     "name": "stdout",
     "output_type": "stream",
     "text": [
      "Train Accuracy: 0.9507489210459508\n",
      "Validation Accuracy: 0.7738004569687738\n",
      "Test Accuracy: 0.7837014470677837\n",
      "\n",
      "\n",
      "Train Precision: 0.956708933015601\n",
      "Validation Precision: 0.7872610427390176\n",
      "Test Precision: 0.8023142366370991\n",
      "\n",
      "\n",
      "Train Recall: 0.9507489210459508\n",
      "Validation Recall: 0.7738004569687738\n",
      "Test Recall: 0.7837014470677837\n",
      "\n",
      "\n",
      "Train F1 Score: 0.9517145050515862\n",
      "Validation F1 Score: 0.778712662793392\n",
      "Test F1 Score: 0.7897499545320823\n",
      "\n",
      "\n",
      "AUC-ROC: 0.8522515527950312\n",
      "AUC-PR: 0.7045567863216884\n"
     ]
    }
   ],
   "source": [
    "import numpy as np\n",
    "import pandas as pd\n",
    "from sklearn.model_selection import train_test_split\n",
    "import xgboost as xgb\n",
    "from sklearn.metrics import accuracy_score, precision_score, recall_score, f1_score, roc_auc_score, roc_curve, auc, precision_recall_curve\n",
    "\n",
    "def fit_model_GBM(data, target, class_weights=None):\n",
    "    \n",
    "    # Specify the name of your target variable\n",
    "    target_column_name = target\n",
    "\n",
    "    # Split the data into features (X) and the target variable (y)\n",
    "    X = data.drop(columns=[target])\n",
    "    y = data[target_column_name]  # Use the column name directly\n",
    "\n",
    "    # The data is spit into training (60%), validation (20%), and test (20%) manually.\n",
    "    train_size = 0.6\n",
    "    validation_size = 0.2\n",
    "    test_size = 0.2\n",
    "\n",
    "    X_train, X_temp, y_train, y_temp = train_test_split(X, y, test_size=1 - train_size, random_state=42)\n",
    "    X_val, X_test, y_val, y_test = train_test_split(X_temp, y_temp, test_size=test_size / (validation_size + test_size), random_state=42)\n",
    "\n",
    "    X_train = np.ascontiguousarray(X_train)\n",
    "    X_val = np.ascontiguousarray(X_val)\n",
    "    X_test = np.ascontiguousarray(X_test)\n",
    "\n",
    "    # Initialize the XGBoost classifier\n",
    "    if class_weights:\n",
    "        ratio = np.sum(y_train == 0) / np.sum(y_train == 1)\n",
    "        xgb_classifier = xgb.XGBClassifier(n_estimators=100, max_depth=6, scale_pos_weight=ratio, random_state=42)\n",
    "    else:\n",
    "        xgb_classifier = xgb.XGBClassifier(n_estimators=100, max_depth=6, random_state=42)\n",
    "\n",
    "    # Fit the model to the training data\n",
    "    xgb_classifier.fit(X_train, y_train)\n",
    "\n",
    "    # Evaluate the model's performance on the train set\n",
    "    y_train_pred = xgb_classifier.predict(X_train)\n",
    "    accuracy_train = accuracy_score(y_train, y_train_pred)\n",
    "    precision_train = precision_score(y_train, y_train_pred, average='weighted', zero_division=1)\n",
    "    recall_train = recall_score(y_train, y_train_pred, average='weighted')\n",
    "    f1_train = f1_score(y_train, y_train_pred, average='weighted')\n",
    "    \n",
    "    # Make predictions on the validation set\n",
    "    y_val_pred = xgb_classifier.predict(X_val)\n",
    "\n",
    "    # Evaluate the model's performance on the validation set\n",
    "    accuracy_val = accuracy_score(y_val, y_val_pred)\n",
    "    precision_val = precision_score(y_val, y_val_pred, average='weighted', zero_division=1)\n",
    "    recall_val = recall_score(y_val, y_val_pred, average='weighted')\n",
    "    f1_val = f1_score(y_val, y_val_pred, average='weighted')\n",
    "    \n",
    "    # Make predictions on the test set\n",
    "    y_test_pred = xgb_classifier.predict(X_test)\n",
    "\n",
    "    # Evaluate the model's performance on the test set\n",
    "    accuracy_test = accuracy_score(y_test, y_test_pred)\n",
    "    precision_test = precision_score(y_test, y_test_pred, average='weighted', zero_division=1)\n",
    "    recall_test = recall_score(y_test, y_test_pred, average='weighted')\n",
    "    f1_test = f1_score(y_test, y_test_pred, average='weighted') \n",
    "\n",
    "    # Calculate AUC-ROC\n",
    "    y_test_proba = xgb_classifier.predict_proba(X_test)[:, 1]  # Probability of positive class\n",
    "    fpr, tpr, _ = roc_curve(y_test, y_test_proba)\n",
    "    roc_auc = auc(fpr, tpr)\n",
    "\n",
    "    # Calculate AUC-PR\n",
    "    precision, recall, _ = precision_recall_curve(y_test, y_test_proba)\n",
    "    auc_pr = auc(recall, precision)\n",
    "    \n",
    "    print(f\"Train Accuracy: {accuracy_train}\")\n",
    "    print(f\"Validation Accuracy: {accuracy_val}\")\n",
    "    print(f\"Test Accuracy: {accuracy_test}\")\n",
    "    print('\\n')\n",
    "    print(f\"Train Precision: {precision_train}\")\n",
    "    print(f\"Validation Precision: {precision_val}\")\n",
    "    print(f\"Test Precision: {precision_test}\")\n",
    "    print('\\n')\n",
    "    print(f\"Train Recall: {recall_train}\")\n",
    "    print(f\"Validation Recall: {recall_val}\")\n",
    "    print(f\"Test Recall: {recall_test}\")\n",
    "    print('\\n')\n",
    "    print(f\"Train F1 Score: {f1_train}\")\n",
    "    print(f\"Validation F1 Score: {f1_val}\")\n",
    "    print(f\"Test F1 Score: {f1_test}\")\n",
    "    print('\\n')\n",
    "    print(f\"AUC-ROC: {roc_auc}\")\n",
    "    print(f\"AUC-PR: {auc_pr}\")\n",
    "    \n",
    "# Example usage with class weighting\n",
    "fit_model_GBM(balanced_data3, 'Churn', class_weights=True)\n"
   ]
  },
  {
   "cell_type": "markdown",
   "id": "bc86346c",
   "metadata": {},
   "source": [
    "### Cross Validation"
   ]
  },
  {
   "cell_type": "code",
   "execution_count": 125,
   "id": "3a38aef7",
   "metadata": {},
   "outputs": [
    {
     "name": "stdout",
     "output_type": "stream",
     "text": [
      "Fold 1:\n",
      "  Accuracy: 0.7853881278538812\n",
      "  Precision (Positive): 0.5991379310344828\n",
      "  Precision (Negative): 0.8870588235294118\n",
      "  Recall (Positive): 0.7433155080213903\n",
      "  Recall (Negative): 0.8021276595744681\n",
      "  F1 Score (Positive): 0.6634844868735084\n",
      "  F1 Score (Negative): 0.8424581005586592\n",
      "  AUC: 0.8434918648310389\n",
      "Fold 2:\n",
      "  Accuracy: 0.7945205479452054\n",
      "  Precision (Positive): 0.6044444444444445\n",
      "  Precision (Negative): 0.8935185185185185\n",
      "  Recall (Positive): 0.7472527472527473\n",
      "  Recall (Negative): 0.8126315789473684\n",
      "  F1 Score (Positive): 0.6683046683046683\n",
      "  F1 Score (Negative): 0.8511576626240352\n",
      "  AUC: 0.85\n",
      "Fold 3:\n",
      "  Accuracy: 0.7853881278538812\n",
      "  Precision (Positive): 0.5882352941176471\n",
      "  Precision (Negative): 0.8741721854304636\n",
      "  Recall (Positive): 0.6779661016949152\n",
      "  Recall (Negative): 0.825\n",
      "  F1 Score (Positive): 0.6299212598425197\n",
      "  F1 Score (Negative): 0.8488745980707395\n",
      "  AUC: 0.8386064030131828\n",
      "Fold 4:\n",
      "  Accuracy: 0.806697108066971\n",
      "  Precision (Positive): 0.6425531914893617\n",
      "  Precision (Negative): 0.8981042654028436\n",
      "  Recall (Positive): 0.7783505154639175\n",
      "  Recall (Negative): 0.8185745140388769\n",
      "  F1 Score (Positive): 0.703962703962704\n",
      "  F1 Score (Negative): 0.8564971751412429\n",
      "  AUC: 0.881092605375075\n",
      "Fold 5:\n",
      "  Accuracy: 0.8006088280060882\n",
      "  Precision (Positive): 0.6261682242990654\n",
      "  Precision (Negative): 0.8848758465011287\n",
      "  Recall (Positive): 0.7243243243243244\n",
      "  Recall (Negative): 0.8305084745762712\n",
      "  F1 Score (Positive): 0.6716791979949874\n",
      "  F1 Score (Negative): 0.8568306010928962\n",
      "  AUC: 0.8544663307375172\n",
      "Fold 6:\n",
      "  Accuracy: 0.7774390243902439\n",
      "  Precision (Positive): 0.6476190476190476\n",
      "  Precision (Negative): 0.8385650224215246\n",
      "  Recall (Positive): 0.6538461538461539\n",
      "  Recall (Negative): 0.8348214285714286\n",
      "  F1 Score (Positive): 0.6507177033492823\n",
      "  F1 Score (Negative): 0.8366890380313199\n",
      "  AUC: 0.8480103880494506\n",
      "Fold 7:\n",
      "  Accuracy: 0.7637195121951219\n",
      "  Precision (Positive): 0.569672131147541\n",
      "  Precision (Negative): 0.8786407766990292\n",
      "  Recall (Positive): 0.7354497354497355\n",
      "  Recall (Negative): 0.7751605995717344\n",
      "  F1 Score (Positive): 0.6420323325635104\n",
      "  F1 Score (Negative): 0.8236632536973834\n",
      "  AUC: 0.8498011624349955\n",
      "Fold 8:\n",
      "  Accuracy: 0.788109756097561\n",
      "  Precision (Positive): 0.616504854368932\n",
      "  Precision (Negative): 0.8666666666666667\n",
      "  Recall (Positive): 0.679144385026738\n",
      "  Recall (Negative): 0.8315565031982942\n",
      "  F1 Score (Positive): 0.6463104325699746\n",
      "  F1 Score (Negative): 0.8487486398258978\n",
      "  AUC: 0.8446176299556457\n",
      "Fold 9:\n",
      "  Accuracy: 0.7942073170731707\n",
      "  Precision (Positive): 0.5925925925925926\n",
      "  Precision (Negative): 0.8931818181818182\n",
      "  Recall (Positive): 0.7314285714285714\n",
      "  Recall (Negative): 0.817047817047817\n",
      "  F1 Score (Positive): 0.6547314578005116\n",
      "  F1 Score (Negative): 0.8534201954397395\n",
      "  AUC: 0.8494030294030295\n",
      "Fold 10:\n",
      "  Accuracy: 0.8094512195121951\n",
      "  Precision (Positive): 0.6456310679611651\n",
      "  Precision (Negative): 0.8844444444444445\n",
      "  Recall (Positive): 0.7189189189189189\n",
      "  Recall (Negative): 0.8450106157112527\n",
      "  F1 Score (Positive): 0.680306905370844\n",
      "  F1 Score (Negative): 0.8642779587404995\n",
      "  AUC: 0.8511275606817008\n",
      "\n",
      "Average Metrics:\n",
      "  Average Accuracy: 0.790552956899432\n",
      "  Average Precision (Positive): 0.613255877907428\n",
      "  Average Precision (Negative): 0.8799228367795852\n",
      "  Average Recall (Positive): 0.7189996961427412\n",
      "  Average Recall (Negative): 0.8192439191237512\n",
      "  Average F1 Score (Positive): 0.661145114863251\n",
      "  Average F1 Score (Negative): 0.8482617223222413\n",
      "  Average AUC: 0.8510616974481635\n"
     ]
    }
   ],
   "source": [
    "import numpy as np\n",
    "from sklearn.model_selection import KFold\n",
    "import xgboost as xgb\n",
    "from sklearn.metrics import accuracy_score, precision_score, recall_score, f1_score, roc_auc_score\n",
    "\n",
    "def fit_model_GBM_cv(data, target, KF, class_weights=None):\n",
    "    \n",
    "    # Specify the name of your target variable\n",
    "    target_column_name = target\n",
    "\n",
    "    # Split the data into features (X) and the target variable (y)\n",
    "    X = data.drop(columns=[target])\n",
    "    y = data[target_column_name]  # Use the column name directly\n",
    "\n",
    "    # Number of folds for cross-validation\n",
    "    num_folds = KF\n",
    "\n",
    "    # Create KFold cross-validator\n",
    "    kf = KFold(n_splits=num_folds, shuffle=True, random_state=42)\n",
    "\n",
    "    # Initialize variables to store overall metrics\n",
    "    overall_accuracy = 0\n",
    "    overall_precision_pos = 0\n",
    "    overall_precision_neg = 0\n",
    "    overall_recall_pos = 0\n",
    "    overall_recall_neg = 0\n",
    "    overall_f1_pos = 0\n",
    "    overall_f1_neg = 0\n",
    "    overall_auc = 0\n",
    "\n",
    "    # Perform cross-validation\n",
    "    for fold, (train_index, test_index) in enumerate(kf.split(X), 1):\n",
    "        X_train, X_test = X.iloc[train_index], X.iloc[test_index]\n",
    "        y_train, y_test = y.iloc[train_index], y.iloc[test_index]\n",
    "\n",
    "        # Initialize the XGBoost classifier\n",
    "        if class_weights:\n",
    "            ratio = np.sum(y_train == 0) / np.sum(y_train == 1)\n",
    "            xgb_classifier = xgb.XGBClassifier(n_estimators=100, max_depth=6, scale_pos_weight=ratio, random_state=42)\n",
    "        else:\n",
    "            xgb_classifier = xgb.XGBClassifier(n_estimators=100, max_depth=6, random_state=42)\n",
    "\n",
    "        # Fit the model to the training data\n",
    "        xgb_classifier.fit(X_train, y_train)\n",
    "\n",
    "        # Make predictions on the test set\n",
    "        predictions = xgb_classifier.predict(X_test)\n",
    "\n",
    "        # Calculate metrics for this fold\n",
    "        fold_accuracy = accuracy_score(y_test, predictions)\n",
    "        fold_precision_pos = precision_score(y_test, predictions, pos_label=1)\n",
    "        fold_precision_neg = precision_score(y_test, predictions, pos_label=0)\n",
    "        fold_recall_pos = recall_score(y_test, predictions, pos_label=1)\n",
    "        fold_recall_neg = recall_score(y_test, predictions, pos_label=0)\n",
    "        fold_f1_pos = f1_score(y_test, predictions, pos_label=1)\n",
    "        fold_f1_neg = f1_score(y_test, predictions, pos_label=0)\n",
    "        fold_auc = roc_auc_score(y_test, xgb_classifier.predict_proba(X_test)[:, 1])\n",
    "\n",
    "        print(f\"Fold {fold}:\")\n",
    "        print(f\"  Accuracy: {fold_accuracy}\")\n",
    "        print(f\"  Precision (Positive): {fold_precision_pos}\")\n",
    "        print(f\"  Precision (Negative): {fold_precision_neg}\")\n",
    "        print(f\"  Recall (Positive): {fold_recall_pos}\")\n",
    "        print(f\"  Recall (Negative): {fold_recall_neg}\")\n",
    "        print(f\"  F1 Score (Positive): {fold_f1_pos}\")\n",
    "        print(f\"  F1 Score (Negative): {fold_f1_neg}\")\n",
    "        print(f\"  AUC: {fold_auc}\")\n",
    "\n",
    "        # Add fold metrics to overall metrics\n",
    "        overall_accuracy += fold_accuracy\n",
    "        overall_precision_pos += fold_precision_pos\n",
    "        overall_precision_neg += fold_precision_neg\n",
    "        overall_recall_pos += fold_recall_pos\n",
    "        overall_recall_neg += fold_recall_neg\n",
    "        overall_f1_pos += fold_f1_pos\n",
    "        overall_f1_neg += fold_f1_neg\n",
    "        overall_auc += fold_auc\n",
    "\n",
    "    # Calculate and print average metrics across all folds\n",
    "    average_accuracy = overall_accuracy / num_folds\n",
    "    average_precision_pos = overall_precision_pos / num_folds\n",
    "    average_precision_neg = overall_precision_neg / num_folds\n",
    "    average_recall_pos = overall_recall_pos / num_folds\n",
    "    average_recall_neg = overall_recall_neg / num_folds\n",
    "    average_f1_pos = overall_f1_pos / num_folds\n",
    "    average_f1_neg = overall_f1_neg / num_folds\n",
    "    average_auc = overall_auc / num_folds\n",
    "\n",
    "    print(\"\\nAverage Metrics:\")\n",
    "    print(f\"  Average Accuracy: {average_accuracy}\")\n",
    "    print(f\"  Average Precision (Positive): {average_precision_pos}\")\n",
    "    print(f\"  Average Precision (Negative): {average_precision_neg}\")\n",
    "    print(f\"  Average Recall (Positive): {average_recall_pos}\")\n",
    "    print(f\"  Average Recall (Negative): {average_recall_neg}\")\n",
    "    print(f\"  Average F1 Score (Positive): {average_f1_pos}\")\n",
    "    print(f\"  Average F1 Score (Negative): {average_f1_neg}\")\n",
    "    print(f\"  Average AUC: {average_auc}\")\n",
    "\n",
    "# Example usage with class weighting\n",
    "fit_model_GBM_cv(balanced_data3, 'Churn', 10, class_weights='balanced')\n"
   ]
  },
  {
   "cell_type": "markdown",
   "id": "696f9a0e",
   "metadata": {},
   "source": [
    "### Feature Selection"
   ]
  },
  {
   "cell_type": "markdown",
   "id": "5856c0f7",
   "metadata": {},
   "source": [
    "### Variance Thresholding"
   ]
  },
  {
   "cell_type": "code",
   "execution_count": 126,
   "id": "2e1a885b",
   "metadata": {},
   "outputs": [
    {
     "name": "stdout",
     "output_type": "stream",
     "text": [
      "Indices of selected features: [ 4  6 16 17 18]\n",
      "Selected features: ['tenure', 'MultipleLines', 'PaymentMethod', 'MonthlyCharges', 'TotalCharges']\n"
     ]
    }
   ],
   "source": [
    "selected_indices, selected_features=select_features_variance_threshold(balanced_data3, threshold=0.8)\n",
    "print(\"Indices of selected features:\", selected_indices)\n",
    "print(\"Selected features:\", selected_features)"
   ]
  },
  {
   "cell_type": "code",
   "execution_count": 127,
   "id": "7ed79aa4",
   "metadata": {},
   "outputs": [
    {
     "name": "stdout",
     "output_type": "stream",
     "text": [
      "Train Accuracy: 0.9065752729119065\n",
      "Validation Accuracy: 0.7463823305407464\n",
      "Test Accuracy: 0.766945925361767\n",
      "\n",
      "\n",
      "Train Precision: 0.9233448132243681\n",
      "Validation Precision: 0.7688039776401443\n",
      "Test Precision: 0.7918351854842968\n",
      "\n",
      "\n",
      "Train Recall: 0.9065752729119065\n",
      "Validation Recall: 0.7463823305407464\n",
      "Test Recall: 0.766945925361767\n",
      "\n",
      "\n",
      "Train F1 Score: 0.909419502164127\n",
      "Validation F1 Score: 0.7538801263709808\n",
      "Test F1 Score: 0.7745876333815531\n",
      "\n",
      "\n",
      "AUC-ROC: 0.836082355647573\n",
      "AUC-PR: 0.6766157328745741\n"
     ]
    }
   ],
   "source": [
    "selected_features.append('Churn')\n",
    "var_thrsh_data=balanced_data3[selected_features]\n",
    "fit_model_GBM(var_thrsh_data,'Churn',class_weights=True)"
   ]
  },
  {
   "cell_type": "markdown",
   "id": "8d65a276",
   "metadata": {},
   "source": [
    "### Wrapper Method "
   ]
  },
  {
   "cell_type": "markdown",
   "id": "6319c7de",
   "metadata": {},
   "source": [
    "#### Recursive Feature Elimination"
   ]
  },
  {
   "cell_type": "code",
   "execution_count": 128,
   "id": "7a8c6737",
   "metadata": {},
   "outputs": [
    {
     "name": "stdout",
     "output_type": "stream",
     "text": [
      "Selected features: ['tenure', 'Contract', 'MonthlyCharges']\n"
     ]
    }
   ],
   "source": [
    "rfe_selected_features = select_features_rfe(balanced_data3, 'Churn', 3)\n",
    "# Print the selected features\n",
    "print(\"Selected features:\", rfe_selected_features)"
   ]
  },
  {
   "cell_type": "code",
   "execution_count": 129,
   "id": "bc8585ac",
   "metadata": {},
   "outputs": [
    {
     "name": "stdout",
     "output_type": "stream",
     "text": [
      "Train Accuracy: 0.8768723026148769\n",
      "Validation Accuracy: 0.7517136329017517\n",
      "Test Accuracy: 0.7654226961157654\n",
      "\n",
      "\n",
      "Train Precision: 0.903344080476106\n",
      "Validation Precision: 0.7859623537418082\n",
      "Test Precision: 0.8052398701893664\n",
      "\n",
      "\n",
      "Train Recall: 0.8768723026148769\n",
      "Validation Recall: 0.7517136329017517\n",
      "Test Recall: 0.7654226961157654\n",
      "\n",
      "\n",
      "Train F1 Score: 0.8813414966602124\n",
      "Validation F1 Score: 0.7611436175364249\n",
      "Test F1 Score: 0.7752414363518513\n",
      "\n",
      "\n",
      "AUC-ROC: 0.8465651598803774\n",
      "AUC-PR: 0.676986447761973\n"
     ]
    }
   ],
   "source": [
    "rfe_selected_features.append('Churn')\n",
    "wrapper_data_rfe=balanced_data3[rfe_selected_features]\n",
    "fit_model_GBM(wrapper_data_rfe,'Churn', class_weights='balanced')"
   ]
  },
  {
   "cell_type": "markdown",
   "id": "b8ebff6b",
   "metadata": {},
   "source": [
    "#### Forward Feature Selection"
   ]
  },
  {
   "cell_type": "code",
   "execution_count": 130,
   "id": "a70c087a",
   "metadata": {},
   "outputs": [
    {
     "name": "stdout",
     "output_type": "stream",
     "text": [
      "Selected features using OLS: ['tenure', 'OnlineSecurity', 'TechSupport', 'MonthlyCharges']\n"
     ]
    }
   ],
   "source": [
    "ffs_selected_features = select_features_wrapper_ols(balanced_data3, 'Churn', 4)\n",
    "# Print the selected features\n",
    "print(\"Selected features using OLS:\", ffs_selected_features)"
   ]
  },
  {
   "cell_type": "code",
   "execution_count": 131,
   "id": "ee87c4cd",
   "metadata": {},
   "outputs": [
    {
     "name": "stdout",
     "output_type": "stream",
     "text": [
      "Train Accuracy: 0.8855039350088855\n",
      "Validation Accuracy: 0.7471439451637472\n",
      "Test Accuracy: 0.7661843107387661\n",
      "\n",
      "\n",
      "Train Precision: 0.9074579386534404\n",
      "Validation Precision: 0.7761313382284005\n",
      "Test Precision: 0.8010766289881083\n",
      "\n",
      "\n",
      "Train Recall: 0.8855039350088855\n",
      "Validation Recall: 0.7471439451637472\n",
      "Test Recall: 0.7661843107387661\n",
      "\n",
      "\n",
      "Train F1 Score: 0.8893623627063002\n",
      "Validation F1 Score: 0.7558925821896995\n",
      "Test F1 Score: 0.7753941220644447\n",
      "\n",
      "\n",
      "AUC-ROC: 0.8396509086726478\n",
      "AUC-PR: 0.6746128618823943\n"
     ]
    }
   ],
   "source": [
    "ffs_selected_features.append('Churn')\n",
    "wrapper_data_ffs=balanced_data3[ffs_selected_features]\n",
    "fit_model_GBM(wrapper_data_ffs,'Churn', class_weights='balanced')"
   ]
  },
  {
   "cell_type": "markdown",
   "id": "9700b929",
   "metadata": {},
   "source": [
    "### Principal Component Analysis"
   ]
  },
  {
   "cell_type": "code",
   "execution_count": 132,
   "id": "ae5e64f0",
   "metadata": {},
   "outputs": [
    {
     "data": {
      "image/png": "[encoded data removed]",
      "text/plain": [
       "<Figure size 640x480 with 1 Axes>"
      ]
     },
     "metadata": {},
     "output_type": "display_data"
    }
   ],
   "source": [
    "X_pca_df=perform_pca(balanced_data3,'Churn')"
   ]
  },
  {
   "cell_type": "code",
   "execution_count": 133,
   "id": "d76df780",
   "metadata": {},
   "outputs": [
    {
     "name": "stdout",
     "output_type": "stream",
     "text": [
      "Train Accuracy: 0.9847677075399848\n",
      "Validation Accuracy: 0.7882711348057883\n",
      "Test Accuracy: 0.7920792079207921\n",
      "\n",
      "\n",
      "Train Precision: 0.9854133228832148\n",
      "Validation Precision: 0.7907858410353954\n",
      "Test Precision: 0.7971329150785519\n",
      "\n",
      "\n",
      "Train Recall: 0.9847677075399848\n",
      "Validation Recall: 0.7882711348057883\n",
      "Test Recall: 0.7920792079207921\n",
      "\n",
      "\n",
      "Train F1 Score: 0.98487170328023\n",
      "Validation F1 Score: 0.7894329980451248\n",
      "Test F1 Score: 0.7942513437622182\n",
      "\n",
      "\n",
      "AUC-ROC: 0.8531429721647112\n",
      "AUC-PR: 0.6879717502462508\n"
     ]
    }
   ],
   "source": [
    "X_pca_df = X_pca_df.merge(balanced_data3[['Churn']], left_index=True, right_index=True)\n",
    "fit_model_GBM(X_pca_df,'Churn', class_weights='balanced')"
   ]
  },
  {
   "cell_type": "markdown",
   "id": "e6840a38",
   "metadata": {},
   "source": [
    "**COMMENT :** Cross validation was better here as across different folds, the perofrmance was same and scores were good as well. Manual splitting and feature selection evidently overfit on the training data. Wrapper's was better.\n",
    "\n",
    "AUC-PR is around 70% meaning imbalance is not handled that well."
   ]
  },
  {
   "cell_type": "markdown",
   "id": "b397c51a",
   "metadata": {},
   "source": [
    "## INTERPRETATION:\n"
   ]
  },
  {
   "cell_type": "markdown",
   "id": "39694f0d",
   "metadata": {},
   "source": [
    "# ALGORITHM 2: Logistic Regression"
   ]
  },
  {
   "cell_type": "markdown",
   "id": "a567fd3f",
   "metadata": {},
   "source": [
    "### Manual Splitting:"
   ]
  },
  {
   "cell_type": "code",
   "execution_count": 134,
   "id": "789e166c",
   "metadata": {},
   "outputs": [
    {
     "name": "stdout",
     "output_type": "stream",
     "text": [
      "Train Accuracy: 0.773038842345773\n",
      "Validation Accuracy: 0.7585681645087585\n",
      "Test Accuracy: 0.773038842345773\n",
      "\n",
      "\n",
      "Train Precision: 0.8142430554284298\n",
      "Validation Precision: 0.8040441318520761\n",
      "Test Precision: 0.8229880574507697\n",
      "\n",
      "\n",
      "Train Recall: 0.773038842345773\n",
      "Validation Recall: 0.7585681645087585\n",
      "Test Recall: 0.773038842345773\n",
      "\n",
      "\n",
      "Train F1 Score: 0.7823357650452147\n",
      "Validation F1 Score: 0.7690036604036311\n",
      "Test F1 Score: 0.7834449777841321\n",
      "\n",
      "\n",
      "AUC-ROC: 0.8717161260639521\n",
      "AUC-PR: 0.7346547375768643\n"
     ]
    }
   ],
   "source": [
    "import numpy as np\n",
    "import pandas as pd\n",
    "from sklearn.model_selection import train_test_split\n",
    "from sklearn.linear_model import LogisticRegression\n",
    "from sklearn.metrics import accuracy_score, precision_score, recall_score, f1_score, roc_auc_score, roc_curve, auc, average_precision_score, precision_recall_curve\n",
    "\n",
    "def fit_model_LR(data, target, class_weights=None):\n",
    "    \n",
    "    # Specify the name of your target variable\n",
    "    target_column_name = target\n",
    "\n",
    "    # Split the data into features (X) and the target variable (y)\n",
    "    X = data.drop(columns=[target])\n",
    "    y = data[target_column_name]  # Use the column name directly\n",
    "\n",
    "    # The data is split into training (60%), validation (20%), and test (20%) manually.\n",
    "    train_size = 0.6\n",
    "    validation_size = 0.2\n",
    "    test_size = 0.2\n",
    "\n",
    "    X_train, X_temp, y_train, y_temp = train_test_split(X, y, test_size=1 - train_size, random_state=42)\n",
    "    X_val, X_test, y_val, y_test = train_test_split(X_temp, y_temp, test_size=test_size / (validation_size + test_size), random_state=42)\n",
    "\n",
    "    # Instantiate the Logistic Regression classifier\n",
    "    if class_weights:\n",
    "        log_reg_model = LogisticRegression(max_iter=1000, class_weight='balanced')\n",
    "    else:\n",
    "        log_reg_model = LogisticRegression(max_iter=1000)\n",
    "\n",
    "    # Fit the model to the training data\n",
    "    log_reg_model.fit(X_train, y_train)\n",
    "\n",
    "    # Evaluate the model's performance on the train set\n",
    "    y_train_pred = log_reg_model.predict(X_train)\n",
    "    accuracy_train = accuracy_score(y_train, y_train_pred)\n",
    "    precision_train = precision_score(y_train, y_train_pred, average='weighted')\n",
    "    recall_train = recall_score(y_train, y_train_pred, average='weighted')\n",
    "    f1_train = f1_score(y_train, y_train_pred, average='weighted')\n",
    "    \n",
    "    # Make predictions on the validation set\n",
    "    y_val_pred = log_reg_model.predict(X_val)\n",
    "\n",
    "    # Evaluate the model's performance on the validation set\n",
    "    accuracy_val = accuracy_score(y_val, y_val_pred)\n",
    "    precision_val = precision_score(y_val, y_val_pred, average='weighted')\n",
    "    recall_val = recall_score(y_val, y_val_pred, average='weighted')\n",
    "    f1_val = f1_score(y_val, y_val_pred, average='weighted')\n",
    "    \n",
    "    # Make predictions on the test set\n",
    "    y_test_pred = log_reg_model.predict(X_test)\n",
    "\n",
    "    # Evaluate the model's performance on the test set\n",
    "    accuracy_test = accuracy_score(y_test, y_test_pred)\n",
    "    precision_test = precision_score(y_test, y_test_pred, average='weighted')\n",
    "    recall_test = recall_score(y_test, y_test_pred, average='weighted')\n",
    "    f1_test = f1_score(y_test, y_test_pred, average='weighted') \n",
    "\n",
    "    # Calculate AUC-ROC\n",
    "    y_test_proba = log_reg_model.predict_proba(X_test)[:, 1]  # Probability of positive class\n",
    "    fpr, tpr, _ = roc_curve(y_test, y_test_proba)\n",
    "    roc_auc = auc(fpr, tpr)\n",
    "\n",
    "    # Calculate AUC-PR\n",
    "    precision, recall, _ = precision_recall_curve(y_test, y_test_proba)\n",
    "    auc_pr = auc(recall, precision)\n",
    "    \n",
    "    print(f\"Train Accuracy: {accuracy_train}\")\n",
    "    print(f\"Validation Accuracy: {accuracy_val}\")\n",
    "    print(f\"Test Accuracy: {accuracy_test}\")\n",
    "    print('\\n')\n",
    "    print(f\"Train Precision: {precision_train}\")\n",
    "    print(f\"Validation Precision: {precision_val}\")\n",
    "    print(f\"Test Precision: {precision_test}\")\n",
    "    print('\\n')\n",
    "    print(f\"Train Recall: {recall_train}\")\n",
    "    print(f\"Validation Recall: {recall_val}\")\n",
    "    print(f\"Test Recall: {recall_test}\")\n",
    "    print('\\n')\n",
    "    print(f\"Train F1 Score: {f1_train}\")\n",
    "    print(f\"Validation F1 Score: {f1_val}\")\n",
    "    print(f\"Test F1 Score: {f1_test}\")\n",
    "    print('\\n')\n",
    "    print(f\"AUC-ROC: {roc_auc}\")\n",
    "    print(f\"AUC-PR: {auc_pr}\")\n",
    "\n",
    "# Example usage with class weighting\n",
    "fit_model_LR(balanced_data3, 'Churn', class_weights='balanced')\n"
   ]
  },
  {
   "cell_type": "markdown",
   "id": "1bc7a108",
   "metadata": {},
   "source": [
    "## Feature Engineering"
   ]
  },
  {
   "cell_type": "markdown",
   "id": "c494d326",
   "metadata": {},
   "source": [
    "### Variance Thresholding"
   ]
  },
  {
   "cell_type": "code",
   "execution_count": 135,
   "id": "2fc84619",
   "metadata": {},
   "outputs": [
    {
     "name": "stdout",
     "output_type": "stream",
     "text": [
      "Indices of selected features: [ 4  6 16 17 18]\n",
      "Selected features: ['tenure', 'MultipleLines', 'PaymentMethod', 'MonthlyCharges', 'TotalCharges']\n"
     ]
    }
   ],
   "source": [
    "selected_indices, selected_features=select_features_variance_threshold(balanced_data3, threshold=0.8)\n",
    "print(\"Indices of selected features:\", selected_indices)\n",
    "print(\"Selected features:\", selected_features)\n"
   ]
  },
  {
   "cell_type": "code",
   "execution_count": 136,
   "id": "842ce692",
   "metadata": {},
   "outputs": [
    {
     "name": "stdout",
     "output_type": "stream",
     "text": [
      "Train Accuracy: 0.7471439451637472\n",
      "Validation Accuracy: 0.734958111195735\n",
      "Test Accuracy: 0.741051028179741\n",
      "\n",
      "\n",
      "Train Precision: 0.7843023122229533\n",
      "Validation Precision: 0.7784719079113901\n",
      "Test Precision: 0.7896222525099946\n",
      "\n",
      "\n",
      "Train Recall: 0.7471439451637472\n",
      "Validation Recall: 0.734958111195735\n",
      "Test Recall: 0.741051028179741\n",
      "\n",
      "\n",
      "Train F1 Score: 0.7569200825322159\n",
      "Validation F1 Score: 0.746099933579765\n",
      "Test F1 Score: 0.7526791563349066\n",
      "\n",
      "\n",
      "AUC-ROC: 0.8385524499654935\n",
      "AUC-PR: 0.6738006457378809\n"
     ]
    }
   ],
   "source": [
    "selected_features.append('Churn')\n",
    "var_thrsh_data=balanced_data3[selected_features]\n",
    "fit_model_LR(var_thrsh_data,'Churn', class_weights='balanced')"
   ]
  },
  {
   "cell_type": "markdown",
   "id": "460f8ba7",
   "metadata": {},
   "source": [
    "### Wrapper Method "
   ]
  },
  {
   "cell_type": "markdown",
   "id": "3cca2e85",
   "metadata": {},
   "source": [
    "#### Recursive Feature Elimination"
   ]
  },
  {
   "cell_type": "code",
   "execution_count": 137,
   "id": "004c03d8",
   "metadata": {},
   "outputs": [
    {
     "name": "stdout",
     "output_type": "stream",
     "text": [
      "Train Accuracy: 0.7555217060167555\n",
      "Validation Accuracy: 0.738004569687738\n",
      "Test Accuracy: 0.7524752475247525\n",
      "\n",
      "\n",
      "Train Precision: 0.8019978339574001\n",
      "Validation Precision: 0.7911849934610378\n",
      "Test Precision: 0.812023157883922\n",
      "\n",
      "\n",
      "Train Recall: 0.7555217060167555\n",
      "Validation Recall: 0.738004569687738\n",
      "Test Recall: 0.7524752475247525\n",
      "\n",
      "\n",
      "Train F1 Score: 0.7659300728214051\n",
      "Validation F1 Score: 0.7498908843519699\n",
      "Test F1 Score: 0.7643801517864366\n",
      "\n",
      "\n",
      "AUC-ROC: 0.8585188060731538\n",
      "AUC-PR: 0.6833664498891192\n"
     ]
    }
   ],
   "source": [
    "fit_model_LR(wrapper_data_rfe,'Churn', class_weights='balanced')"
   ]
  },
  {
   "cell_type": "markdown",
   "id": "7302c5bb",
   "metadata": {},
   "source": [
    "#### fORWARD fEATURE sELECTION"
   ]
  },
  {
   "cell_type": "code",
   "execution_count": 138,
   "id": "bdfdac58",
   "metadata": {},
   "outputs": [
    {
     "name": "stdout",
     "output_type": "stream",
     "text": [
      "Train Accuracy: 0.7585681645087585\n",
      "Validation Accuracy: 0.7532368621477532\n",
      "Test Accuracy: 0.7578065498857578\n",
      "\n",
      "\n",
      "Train Precision: 0.7929653792692849\n",
      "Validation Precision: 0.7893051027228912\n",
      "Test Precision: 0.7993465672375641\n",
      "\n",
      "\n",
      "Train Recall: 0.7585681645087585\n",
      "Validation Recall: 0.7532368621477532\n",
      "Test Recall: 0.7578065498857578\n",
      "\n",
      "\n",
      "Train F1 Score: 0.7676325245527642\n",
      "Validation F1 Score: 0.7628610744871651\n",
      "Test F1 Score: 0.7680903858476741\n",
      "\n",
      "\n",
      "AUC-ROC: 0.8543981481481482\n",
      "AUC-PR: 0.6918701522429416\n"
     ]
    }
   ],
   "source": [
    "fit_model_LR(wrapper_data_ffs,'Churn', class_weights='balanced')"
   ]
  },
  {
   "cell_type": "markdown",
   "id": "154125e7",
   "metadata": {},
   "source": [
    "### Principal Component Analysis"
   ]
  },
  {
   "cell_type": "code",
   "execution_count": 139,
   "id": "2da03685",
   "metadata": {},
   "outputs": [
    {
     "name": "stdout",
     "output_type": "stream",
     "text": [
      "Train Accuracy: 0.7732927138867733\n",
      "Validation Accuracy: 0.7578065498857578\n",
      "Test Accuracy: 0.773038842345773\n",
      "\n",
      "\n",
      "Train Precision: 0.8143723846029152\n",
      "Validation Precision: 0.8036670930689381\n",
      "Test Precision: 0.8229880574507697\n",
      "\n",
      "\n",
      "Train Recall: 0.7732927138867733\n",
      "Validation Recall: 0.7578065498857578\n",
      "Test Recall: 0.773038842345773\n",
      "\n",
      "\n",
      "Train F1 Score: 0.7825691905824982\n",
      "Validation F1 Score: 0.7683052191589339\n",
      "Test F1 Score: 0.7834449777841321\n",
      "\n",
      "\n",
      "AUC-ROC: 0.8717247527030135\n",
      "AUC-PR: 0.7344950013938278\n"
     ]
    }
   ],
   "source": [
    "fit_model_LR(X_pca_df,'Churn', class_weights='balanced')"
   ]
  },
  {
   "cell_type": "markdown",
   "id": "4f124fd9",
   "metadata": {},
   "source": [
    "**Comment :** A well generalized and good model. AUC is much metter with PCA so PCA winds here. Performance is also good."
   ]
  },
  {
   "cell_type": "markdown",
   "id": "076f3df9",
   "metadata": {},
   "source": [
    "# ALGORITHM 3: DECISION TREES"
   ]
  },
  {
   "cell_type": "markdown",
   "id": "e08000c0",
   "metadata": {},
   "source": [
    "### Manual Splitting:"
   ]
  },
  {
   "cell_type": "code",
   "execution_count": 160,
   "id": "59c47827",
   "metadata": {},
   "outputs": [
    {
     "name": "stdout",
     "output_type": "stream",
     "text": [
      "Train Accuracy: 0.9903528814419904\n",
      "Validation Accuracy: 0.7395277989337395\n",
      "Test Accuracy: 0.7517136329017517\n",
      "\n",
      "\n",
      "Train Precision: 0.9906138499318776\n",
      "Validation Precision: 0.7480680120644627\n",
      "Test Precision: 0.7559858474220014\n",
      "\n",
      "\n",
      "Train Recall: 0.9903528814419904\n",
      "Validation Recall: 0.7395277989337395\n",
      "Test Recall: 0.7517136329017517\n",
      "\n",
      "\n",
      "Train F1 Score: 0.9903950758198112\n",
      "Validation F1 Score: 0.7431725832020063\n",
      "Test F1 Score: 0.7536701095233419\n",
      "\n",
      "\n",
      "AUC-ROC: 0.7003364389233955\n",
      "\n",
      "\n",
      "AUC-PR: 0.6194914646551856\n"
     ]
    }
   ],
   "source": [
    "import numpy as np\n",
    "import pandas as pd\n",
    "from sklearn.model_selection import train_test_split\n",
    "from sklearn.tree import DecisionTreeClassifier\n",
    "from sklearn.metrics import accuracy_score, precision_score, recall_score, f1_score, roc_auc_score\n",
    "\n",
    "def fit_model_DT(data, target, class_weights=None):\n",
    "    \n",
    "    # Specify the name of your target variable\n",
    "    target_column_name = target\n",
    "\n",
    "    # Split the data into features (X) and the target variable (y)\n",
    "    X = data.drop(columns=[target])\n",
    "    y = data[target_column_name]  # Use the column name directly\n",
    "\n",
    "    # The data is split into training (60%), validation (20%), and test (20%) manually.\n",
    "    train_size = 0.6\n",
    "    validation_size = 0.2\n",
    "    test_size = 0.2\n",
    "\n",
    "    X_train, X_temp, y_train, y_temp = train_test_split(X, y, test_size=1 - train_size, random_state=42)\n",
    "    X_val, X_test, y_val, y_test = train_test_split(X_temp, y_temp, test_size=test_size / (validation_size + test_size), random_state=42)\n",
    "\n",
    "    # Instantiate the Decision Tree classifier\n",
    "    if class_weights:\n",
    "        dt_model = DecisionTreeClassifier(class_weight='balanced', random_state=42)\n",
    "    else:\n",
    "        dt_model = DecisionTreeClassifier(random_state=42)\n",
    "\n",
    "    # Fit the model to the training data\n",
    "    dt_model.fit(X_train, y_train)\n",
    "\n",
    "    # Evaluate the model's performance on the train set\n",
    "    y_train_pred = dt_model.predict(X_train)\n",
    "    accuracy_train = accuracy_score(y_train, y_train_pred)\n",
    "    precision_train = precision_score(y_train, y_train_pred, average='weighted')\n",
    "    recall_train = recall_score(y_train, y_train_pred, average='weighted')\n",
    "    f1_train = f1_score(y_train, y_train_pred, average='weighted')\n",
    "    \n",
    "    # Make predictions on the validation set\n",
    "    y_val_pred = dt_model.predict(X_val)\n",
    "\n",
    "    # Evaluate the model's performance on the validation set\n",
    "    accuracy_val = accuracy_score(y_val, y_val_pred)\n",
    "    precision_val = precision_score(y_val, y_val_pred, average='weighted')\n",
    "    recall_val = recall_score(y_val, y_val_pred, average='weighted')\n",
    "    f1_val = f1_score(y_val, y_val_pred, average='weighted')\n",
    "    \n",
    "    # Make predictions on the test set\n",
    "    y_test_pred = dt_model.predict(X_test)\n",
    "\n",
    "    # Evaluate the model's performance on the test set\n",
    "    accuracy_test = accuracy_score(y_test, y_test_pred)\n",
    "    precision_test = precision_score(y_test, y_test_pred, average='weighted')\n",
    "    recall_test = recall_score(y_test, y_test_pred, average='weighted')\n",
    "    f1_test = f1_score(y_test, y_test_pred, average='weighted') \n",
    "\n",
    "    # Calculate AUC-ROC\n",
    "    roc_auc = roc_auc_score(y_test, dt_model.predict_proba(X_test)[:, 1])\n",
    "    \n",
    "    # Calculate AUC-PR\n",
    "    y_test_prob = dt_model.predict_proba(X_test)[:, 1]\n",
    "    precision, recall, _ = precision_recall_curve(y_test, y_test_prob)\n",
    "    pr_auc = auc(recall, precision)\n",
    "    \n",
    "    \n",
    "\n",
    "    print(f\"Train Accuracy: {accuracy_train}\")\n",
    "    print(f\"Validation Accuracy: {accuracy_val}\")\n",
    "    print(f\"Test Accuracy: {accuracy_test}\")\n",
    "    print('\\n')\n",
    "    print(f\"Train Precision: {precision_train}\")\n",
    "    print(f\"Validation Precision: {precision_val}\")\n",
    "    print(f\"Test Precision: {precision_test}\")\n",
    "    print('\\n')\n",
    "    print(f\"Train Recall: {recall_train}\")\n",
    "    print(f\"Validation Recall: {recall_val}\")\n",
    "    print(f\"Test Recall: {recall_test}\")\n",
    "    print('\\n')\n",
    "    print(f\"Train F1 Score: {f1_train}\")\n",
    "    print(f\"Validation F1 Score: {f1_val}\")\n",
    "    print(f\"Test F1 Score: {f1_test}\")\n",
    "    print('\\n')\n",
    "    print(f\"AUC-ROC: {roc_auc}\")\n",
    "    print('\\n')\n",
    "    print(f\"AUC-PR: {pr_auc}\")\n",
    "\n",
    "# Example usage with class weighting\n",
    "fit_model_DT(balanced_data3, 'Churn', class_weights='balanced')\n"
   ]
  },
  {
   "cell_type": "markdown",
   "id": "bd8944d4",
   "metadata": {},
   "source": [
    "### Cross Validation"
   ]
  },
  {
   "cell_type": "code",
   "execution_count": 161,
   "id": "f541f22f",
   "metadata": {},
   "outputs": [
    {
     "name": "stdout",
     "output_type": "stream",
     "text": [
      "Fold 1:\n",
      "  Accuracy: 0.7425742574257426\n",
      "  Precision (Positive): 0.5411140583554377\n",
      "  Precision (Negative): 0.8237179487179487\n",
      "  Recall (Positive): 0.5528455284552846\n",
      "  Recall (Negative): 0.8167372881355932\n",
      "  F1 Score (Positive): 0.546916890080429\n",
      "  F1 Score (Negative): 0.8202127659574469\n",
      "  AUC: 0.6847469110284323\n",
      "Fold 2:\n",
      "  Accuracy: 0.7585681645087585\n",
      "  Precision (Positive): 0.5733695652173914\n",
      "  Precision (Negative): 0.8306878306878307\n",
      "  Recall (Positive): 0.568733153638814\n",
      "  Recall (Negative): 0.8333333333333334\n",
      "  F1 Score (Positive): 0.571041948579161\n",
      "  F1 Score (Negative): 0.8320084790673026\n",
      "  AUC: 0.7029217527655216\n",
      "Fold 3:\n",
      "  Accuracy: 0.7387661843107388\n",
      "  Precision (Positive): 0.5644329896907216\n",
      "  Precision (Negative): 0.8118918918918919\n",
      "  Recall (Positive): 0.5572519083969466\n",
      "  Recall (Negative): 0.816304347826087\n",
      "  F1 Score (Positive): 0.5608194622279129\n",
      "  F1 Score (Negative): 0.8140921409214092\n",
      "  AUC: 0.6902934506029428\n",
      "Fold 4:\n",
      "  Accuracy: 0.7448591012947449\n",
      "  Precision (Positive): 0.5532467532467532\n",
      "  Precision (Negative): 0.8243534482758621\n",
      "  Recall (Positive): 0.5664893617021277\n",
      "  Recall (Negative): 0.816435432230523\n",
      "  F1 Score (Positive): 0.5597897503285151\n",
      "  F1 Score (Negative): 0.8203753351206434\n",
      "  AUC: 0.6933655396353232\n",
      "Fold 5:\n",
      "  Accuracy: 0.7486671744097486\n",
      "  Precision (Positive): 0.5428571428571428\n",
      "  Precision (Negative): 0.8234683281412254\n",
      "  Recall (Positive): 0.5277777777777778\n",
      "  Recall (Negative): 0.832109129066107\n",
      "  F1 Score (Positive): 0.5352112676056338\n",
      "  F1 Score (Negative): 0.8277661795407099\n",
      "  AUC: 0.680140200536318\n",
      "\n",
      "Average Metrics:\n",
      "  Average Accuracy: 0.7466869763899467\n",
      "  Average Precision (Positive): 0.5550041018734893\n",
      "  Average Precision (Negative): 0.8228238895429516\n",
      "  Average Recall (Positive): 0.55461954599419\n",
      "  Average Recall (Negative): 0.8229839061183286\n",
      "  Average F1 Score (Positive): 0.5547558637643304\n",
      "  Average F1 Score (Negative): 0.8228909801215025\n",
      "  Average AUC: 0.6902935709137076\n"
     ]
    }
   ],
   "source": [
    "import numpy as np\n",
    "from sklearn.model_selection import KFold\n",
    "from sklearn.tree import DecisionTreeClassifier\n",
    "from sklearn.metrics import accuracy_score, precision_score, recall_score, f1_score, roc_auc_score\n",
    "\n",
    "def fit_model_cv_DT(data, target, KF, class_weights=None):\n",
    "\n",
    "    # Specify the name of your target variable\n",
    "    target_column_name = target\n",
    "\n",
    "    # Split the data into features (X) and the target variable (y)\n",
    "    features = data.drop(columns=[target])\n",
    "    X = features.values\n",
    "    y = data[target_column_name].values\n",
    "\n",
    "    # Number of folds for cross-validation\n",
    "    num_folds = KF\n",
    "\n",
    "    # Create Decision Tree classifier\n",
    "    if class_weights:\n",
    "        dt = DecisionTreeClassifier(class_weight='balanced')\n",
    "    else:\n",
    "        dt = DecisionTreeClassifier()\n",
    "\n",
    "    # Create KFold cross-validator\n",
    "    kf = KFold(n_splits=num_folds, shuffle=True, random_state=42)\n",
    "\n",
    "    # Initialize variables to store overall metrics\n",
    "    overall_accuracy = 0\n",
    "    overall_precision_pos = 0\n",
    "    overall_precision_neg = 0\n",
    "    overall_recall_pos = 0\n",
    "    overall_recall_neg = 0\n",
    "    overall_f1_pos = 0\n",
    "    overall_f1_neg = 0\n",
    "    overall_auc = 0\n",
    "\n",
    "    # Perform cross-validation\n",
    "    for fold, (train_index, test_index) in enumerate(kf.split(X), 1):\n",
    "        X_train, X_test = X[train_index], X[test_index]\n",
    "        y_train, y_test = y[train_index], y[test_index]\n",
    "\n",
    "        # Train Decision Tree model\n",
    "        dt.fit(X_train, y_train)\n",
    "\n",
    "        # Make predictions on the test set\n",
    "        predictions = dt.predict(X_test)\n",
    "\n",
    "        # Calculate metrics for this fold\n",
    "        fold_accuracy = accuracy_score(y_test, predictions)\n",
    "        fold_precision_pos = precision_score(y_test, predictions, pos_label=1)\n",
    "        fold_precision_neg = precision_score(y_test, predictions, pos_label=0)\n",
    "        fold_recall_pos = recall_score(y_test, predictions, pos_label=1)\n",
    "        fold_recall_neg = recall_score(y_test, predictions, pos_label=0)\n",
    "        fold_f1_pos = f1_score(y_test, predictions, pos_label=1)\n",
    "        fold_f1_neg = f1_score(y_test, predictions, pos_label=0)\n",
    "        fold_auc = roc_auc_score(y_test, dt.predict_proba(X_test)[:, 1])\n",
    "\n",
    "        print(f\"Fold {fold}:\")\n",
    "        print(f\"  Accuracy: {fold_accuracy}\")\n",
    "        print(f\"  Precision (Positive): {fold_precision_pos}\")\n",
    "        print(f\"  Precision (Negative): {fold_precision_neg}\")\n",
    "        print(f\"  Recall (Positive): {fold_recall_pos}\")\n",
    "        print(f\"  Recall (Negative): {fold_recall_neg}\")\n",
    "        print(f\"  F1 Score (Positive): {fold_f1_pos}\")\n",
    "        print(f\"  F1 Score (Negative): {fold_f1_neg}\")\n",
    "        print(f\"  AUC: {fold_auc}\")\n",
    "\n",
    "        # Add fold metrics to overall metrics\n",
    "        overall_accuracy += fold_accuracy\n",
    "        overall_precision_pos += fold_precision_pos\n",
    "        overall_precision_neg += fold_precision_neg\n",
    "        overall_recall_pos += fold_recall_pos\n",
    "        overall_recall_neg += fold_recall_neg\n",
    "        overall_f1_pos += fold_f1_pos\n",
    "        overall_f1_neg += fold_f1_neg\n",
    "        overall_auc += fold_auc\n",
    "\n",
    "    # Calculate and print average metrics across all folds\n",
    "    average_accuracy = overall_accuracy / num_folds\n",
    "    average_precision_pos = overall_precision_pos / num_folds\n",
    "    average_precision_neg = overall_precision_neg / num_folds\n",
    "    average_recall_pos = overall_recall_pos / num_folds\n",
    "    average_recall_neg = overall_recall_neg / num_folds\n",
    "    average_f1_pos = overall_f1_pos / num_folds\n",
    "    average_f1_neg = overall_f1_neg / num_folds\n",
    "    average_auc = overall_auc / num_folds\n",
    "\n",
    "    print(\"\\nAverage Metrics:\")\n",
    "    print(f\"  Average Accuracy: {average_accuracy}\")\n",
    "    print(f\"  Average Precision (Positive): {average_precision_pos}\")\n",
    "    print(f\"  Average Precision (Negative): {average_precision_neg}\")\n",
    "    print(f\"  Average Recall (Positive): {average_recall_pos}\")\n",
    "    print(f\"  Average Recall (Negative): {average_recall_neg}\")\n",
    "    print(f\"  Average F1 Score (Positive): {average_f1_pos}\")\n",
    "    print(f\"  Average F1 Score (Negative): {average_f1_neg}\")\n",
    "    print(f\"  Average AUC: {average_auc}\")\n",
    "\n",
    "# Example usage with class weighting and 5-fold cross-validation\n",
    "fit_model_cv_DT(balanced_data3, 'Churn', 5, class_weights='balanced')\n",
    "\n"
   ]
  },
  {
   "cell_type": "markdown",
   "id": "0282d810",
   "metadata": {},
   "source": [
    "## Feature Selection"
   ]
  },
  {
   "cell_type": "markdown",
   "id": "b2336777",
   "metadata": {},
   "source": [
    "### Variance Thresholding"
   ]
  },
  {
   "cell_type": "code",
   "execution_count": 162,
   "id": "9b7b9f93",
   "metadata": {},
   "outputs": [
    {
     "name": "stdout",
     "output_type": "stream",
     "text": [
      "Indices of selected features: [ 4  6 16 17 18]\n",
      "Selected features: ['tenure', 'MultipleLines', 'PaymentMethod', 'MonthlyCharges', 'TotalCharges']\n"
     ]
    }
   ],
   "source": [
    "selected_indices, selected_features=select_features_variance_threshold(balanced_data3, threshold=0.8)\n",
    "print(\"Indices of selected features:\", selected_indices)\n",
    "print(\"Selected features:\", selected_features)\n"
   ]
  },
  {
   "cell_type": "code",
   "execution_count": 163,
   "id": "6ffe9269",
   "metadata": {},
   "outputs": [
    {
     "name": "stdout",
     "output_type": "stream",
     "text": [
      "Train Accuracy: 0.9781670474739782\n",
      "Validation Accuracy: 0.715917745620716\n",
      "Test Accuracy: 0.7418126428027418\n",
      "\n",
      "\n",
      "Train Precision: 0.9791716082148788\n",
      "Validation Precision: 0.7147693304862504\n",
      "Test Precision: 0.7437679418829456\n",
      "\n",
      "\n",
      "Train Recall: 0.9781670474739782\n",
      "Validation Recall: 0.715917745620716\n",
      "Test Recall: 0.7418126428027418\n",
      "\n",
      "\n",
      "Train F1 Score: 0.9783473438234599\n",
      "Validation F1 Score: 0.7153330771641023\n",
      "Test F1 Score: 0.7427544906489127\n",
      "\n",
      "\n",
      "AUC-ROC: 0.684635955831608\n",
      "\n",
      "\n",
      "AUC-PR: 0.5909296625360666\n"
     ]
    }
   ],
   "source": [
    "selected_features.append('Churn')\n",
    "var_thrsh_data=balanced_data3[selected_features]\n",
    "fit_model_DT(var_thrsh_data,'Churn', class_weights='balanced')"
   ]
  },
  {
   "cell_type": "markdown",
   "id": "efa22ef4",
   "metadata": {},
   "source": [
    "### Wrapper Method "
   ]
  },
  {
   "cell_type": "markdown",
   "id": "429c6c84",
   "metadata": {},
   "source": [
    "#### Recursive Feature Elimination"
   ]
  },
  {
   "cell_type": "code",
   "execution_count": 164,
   "id": "acd8402a",
   "metadata": {},
   "outputs": [
    {
     "name": "stdout",
     "output_type": "stream",
     "text": [
      "Train Accuracy: 0.9487179487179487\n",
      "Validation Accuracy: 0.7281035795887281\n",
      "Test Accuracy: 0.7448591012947449\n",
      "\n",
      "\n",
      "Train Precision: 0.9554241791277377\n",
      "Validation Precision: 0.7362036481766334\n",
      "Test Precision: 0.7551044776669881\n",
      "\n",
      "\n",
      "Train Recall: 0.9487179487179487\n",
      "Validation Recall: 0.7281035795887281\n",
      "Test Recall: 0.7448591012947449\n",
      "\n",
      "\n",
      "Train F1 Score: 0.9497820424972743\n",
      "Validation F1 Score: 0.7316354799103729\n",
      "Test F1 Score: 0.7490980369342063\n",
      "\n",
      "\n",
      "AUC-ROC: 0.70317604094778\n",
      "\n",
      "\n",
      "AUC-PR: 0.5964638763993407\n"
     ]
    }
   ],
   "source": [
    "fit_model_DT(wrapper_data_rfe,'Churn', class_weights='balanced')"
   ]
  },
  {
   "cell_type": "markdown",
   "id": "bfae21a7",
   "metadata": {},
   "source": [
    "#### fORWARD fEATURE sELECTION"
   ]
  },
  {
   "cell_type": "code",
   "execution_count": 165,
   "id": "ea6d0f65",
   "metadata": {},
   "outputs": [
    {
     "name": "stdout",
     "output_type": "stream",
     "text": [
      "Train Accuracy: 0.7585681645087585\n",
      "Validation Accuracy: 0.7532368621477532\n",
      "Test Accuracy: 0.7578065498857578\n",
      "\n",
      "\n",
      "Train Precision: 0.7929653792692849\n",
      "Validation Precision: 0.7893051027228912\n",
      "Test Precision: 0.7993465672375641\n",
      "\n",
      "\n",
      "Train Recall: 0.7585681645087585\n",
      "Validation Recall: 0.7532368621477532\n",
      "Test Recall: 0.7578065498857578\n",
      "\n",
      "\n",
      "Train F1 Score: 0.7676325245527642\n",
      "Validation F1 Score: 0.7628610744871651\n",
      "Test F1 Score: 0.7680903858476741\n",
      "\n",
      "\n",
      "AUC-ROC: 0.8543981481481482\n",
      "AUC-PR: 0.6918701522429416\n"
     ]
    }
   ],
   "source": [
    "fit_model_LR(wrapper_data_ffs,'Churn', class_weights='balanced')"
   ]
  },
  {
   "cell_type": "markdown",
   "id": "bb6c3bc7",
   "metadata": {},
   "source": [
    "### Principal Component Analysis"
   ]
  },
  {
   "cell_type": "code",
   "execution_count": 166,
   "id": "a0b08fc0",
   "metadata": {},
   "outputs": [
    {
     "name": "stdout",
     "output_type": "stream",
     "text": [
      "Train Accuracy: 0.9903528814419904\n",
      "Validation Accuracy: 0.7357197258187357\n",
      "Test Accuracy: 0.7471439451637472\n",
      "\n",
      "\n",
      "Train Precision: 0.9906138499318776\n",
      "Validation Precision: 0.7460528360849564\n",
      "Test Precision: 0.755640903104412\n",
      "\n",
      "\n",
      "Train Recall: 0.9903528814419904\n",
      "Validation Recall: 0.7357197258187357\n",
      "Test Recall: 0.7471439451637472\n",
      "\n",
      "\n",
      "Train F1 Score: 0.9903950758198112\n",
      "Validation F1 Score: 0.7400192697417395\n",
      "Test F1 Score: 0.7507569103464089\n",
      "\n",
      "\n",
      "AUC-ROC: 0.7022342995169082\n",
      "\n",
      "\n",
      "AUC-PR: 0.6211798632506726\n"
     ]
    }
   ],
   "source": [
    "fit_model_DT(X_pca_df,'Churn', class_weights='balanced')"
   ]
  },
  {
   "cell_type": "markdown",
   "id": "43208360",
   "metadata": {},
   "source": [
    "\n",
    "\n",
    "**Comment :** Not a good model. Overfitting in training data. Ver low AUC hence imbalance not handled well."
   ]
  },
  {
   "cell_type": "markdown",
   "id": "0c518ead",
   "metadata": {},
   "source": [
    "# ALGORITHM 4: Random Forest"
   ]
  },
  {
   "cell_type": "code",
   "execution_count": 167,
   "id": "f0a5080e",
   "metadata": {},
   "outputs": [
    {
     "name": "stdout",
     "output_type": "stream",
     "text": [
      "Train Accuracy: 0.9911144960649911\n",
      "Validation Accuracy: 0.8042650418888042\n",
      "Test Accuracy: 0.8225437928408226\n",
      "\n",
      "\n",
      "Train Precision: 0.9912489153204809\n",
      "Validation Precision: 0.7973127919059385\n",
      "Test Precision: 0.8178916707229839\n",
      "\n",
      "\n",
      "Train Recall: 0.9911144960649911\n",
      "Validation Recall: 0.8042650418888042\n",
      "Test Recall: 0.8225437928408226\n",
      "\n",
      "\n",
      "Train F1 Score: 0.9911410368542501\n",
      "Validation F1 Score: 0.7990220034708232\n",
      "Test F1 Score: 0.8193729734282975\n",
      "\n",
      "\n",
      "AUC-ROC: 0.8689426616057051\n",
      "AUC-PR: 0.7250631624384911\n"
     ]
    }
   ],
   "source": [
    "import numpy as np\n",
    "import pandas as pd\n",
    "from sklearn.model_selection import train_test_split\n",
    "from sklearn.ensemble import RandomForestClassifier\n",
    "from sklearn.metrics import accuracy_score, precision_score, recall_score, f1_score, roc_auc_score\n",
    "\n",
    "def fit_model_RF(data, target, class_weights=None):\n",
    "    \n",
    "    # Specify the name of your target variable\n",
    "    target_column_name = target\n",
    "\n",
    "    # Split the data into features (X) and the target variable (y)\n",
    "    X = data.drop(columns=[target])\n",
    "    y = data[target_column_name]  # Use the column name directly\n",
    "\n",
    "    # The data is split into training (60%), validation (20%), and test (20%) manually.\n",
    "    train_size = 0.6\n",
    "    validation_size = 0.2\n",
    "    test_size = 0.2\n",
    "\n",
    "    X_train, X_temp, y_train, y_temp = train_test_split(X, y, test_size=1 - train_size, random_state=42)\n",
    "    X_val, X_test, y_val, y_test = train_test_split(X_temp, y_temp, test_size=test_size / (validation_size + test_size), random_state=42)\n",
    "\n",
    "    # Instantiate the Random Forest classifier\n",
    "    if class_weights:\n",
    "        rf_model = RandomForestClassifier(class_weight='balanced', random_state=42)\n",
    "    else:\n",
    "        rf_model = RandomForestClassifier(random_state=42)\n",
    "\n",
    "    # Fit the model to the training data\n",
    "    rf_model.fit(X_train, y_train)\n",
    "\n",
    "    # Evaluate the model's performance on the train set\n",
    "    y_train_pred = rf_model.predict(X_train)\n",
    "    accuracy_train = accuracy_score(y_train, y_train_pred)\n",
    "    precision_train = precision_score(y_train, y_train_pred, average='weighted')\n",
    "    recall_train = recall_score(y_train, y_train_pred, average='weighted')\n",
    "    f1_train = f1_score(y_train, y_train_pred, average='weighted')\n",
    "    \n",
    "    # Make predictions on the validation set\n",
    "    y_val_pred = rf_model.predict(X_val)\n",
    "\n",
    "    # Evaluate the model's performance on the validation set\n",
    "    accuracy_val = accuracy_score(y_val, y_val_pred)\n",
    "    precision_val = precision_score(y_val, y_val_pred, average='weighted')\n",
    "    recall_val = recall_score(y_val, y_val_pred, average='weighted')\n",
    "    f1_val = f1_score(y_val, y_val_pred, average='weighted')\n",
    "    \n",
    "    # Make predictions on the test set\n",
    "    y_test_pred = rf_model.predict(X_test)\n",
    "\n",
    "    # Evaluate the model's performance on the test set\n",
    "    accuracy_test = accuracy_score(y_test, y_test_pred)\n",
    "    precision_test = precision_score(y_test, y_test_pred, average='weighted')\n",
    "    recall_test = recall_score(y_test, y_test_pred, average='weighted')\n",
    "    f1_test = f1_score(y_test, y_test_pred, average='weighted') \n",
    "\n",
    "    # Calculate AUC-ROC\n",
    "    roc_auc = roc_auc_score(y_test, rf_model.predict_proba(X_test)[:, 1])\n",
    "    \n",
    "    # Calculate AUC-PR\n",
    "    y_test_prob = rf_model.predict_proba(X_test)[:, 1]\n",
    "    precision, recall, _ = precision_recall_curve(y_test, y_test_prob)\n",
    "    pr_auc = auc(recall, precision)\n",
    "\n",
    "    print(f\"Train Accuracy: {accuracy_train}\")\n",
    "    print(f\"Validation Accuracy: {accuracy_val}\")\n",
    "    print(f\"Test Accuracy: {accuracy_test}\")\n",
    "    print('\\n')\n",
    "    print(f\"Train Precision: {precision_train}\")\n",
    "    print(f\"Validation Precision: {precision_val}\")\n",
    "    print(f\"Test Precision: {precision_test}\")\n",
    "    print('\\n')\n",
    "    print(f\"Train Recall: {recall_train}\")\n",
    "    print(f\"Validation Recall: {recall_val}\")\n",
    "    print(f\"Test Recall: {recall_test}\")\n",
    "    print('\\n')\n",
    "    print(f\"Train F1 Score: {f1_train}\")\n",
    "    print(f\"Validation F1 Score: {f1_val}\")\n",
    "    print(f\"Test F1 Score: {f1_test}\")\n",
    "    print('\\n')\n",
    "    print(f\"AUC-ROC: {roc_auc}\")\n",
    "    print(f\"AUC-PR: {pr_auc}\")\n",
    "\n",
    "# Example usage with class weighting\n",
    "fit_model_RF(balanced_data3, 'Churn', class_weights='balanced')\n"
   ]
  },
  {
   "cell_type": "markdown",
   "id": "da6333bf",
   "metadata": {},
   "source": [
    "### Cross-Validation:"
   ]
  },
  {
   "cell_type": "code",
   "execution_count": 168,
   "id": "d552f029",
   "metadata": {},
   "outputs": [
    {
     "name": "stdout",
     "output_type": "stream",
     "text": [
      "Fold 1:\n",
      "  Accuracy: 0.8012185833968012\n",
      "  Precision (Positive): 0.6607142857142857\n",
      "  Precision (Negative): 0.849539406345957\n",
      "  Recall (Positive): 0.6016260162601627\n",
      "  Recall (Negative): 0.8792372881355932\n",
      "  F1 Score (Positive): 0.6297872340425532\n",
      "  F1 Score (Negative): 0.8641332639250391\n",
      "  AUC: 0.8562336364889073\n",
      "Fold 2:\n",
      "  Accuracy: 0.8263518659558263\n",
      "  Precision (Positive): 0.7491289198606271\n",
      "  Precision (Negative): 0.847953216374269\n",
      "  Recall (Positive): 0.5795148247978437\n",
      "  Recall (Negative): 0.9235668789808917\n",
      "  F1 Score (Positive): 0.6534954407294833\n",
      "  F1 Score (Negative): 0.8841463414634146\n",
      "  AUC: 0.8778907068175185\n",
      "Fold 3:\n",
      "  Accuracy: 0.8111195734958111\n",
      "  Precision (Positive): 0.7392739273927392\n",
      "  Precision (Negative): 0.8326732673267326\n",
      "  Recall (Positive): 0.5699745547073791\n",
      "  Recall (Negative): 0.9141304347826087\n",
      "  F1 Score (Positive): 0.6436781609195402\n",
      "  F1 Score (Negative): 0.8715025906735752\n",
      "  AUC: 0.8638510897223146\n",
      "Fold 4:\n",
      "  Accuracy: 0.8065498857578065\n",
      "  Precision (Positive): 0.6930379746835443\n",
      "  Precision (Negative): 0.8425275827482447\n",
      "  Recall (Positive): 0.5824468085106383\n",
      "  Recall (Negative): 0.8964781216648879\n",
      "  F1 Score (Positive): 0.6329479768786127\n",
      "  F1 Score (Negative): 0.8686659772492245\n",
      "  AUC: 0.8476719498626217\n",
      "Fold 5:\n",
      "  Accuracy: 0.8111195734958111\n",
      "  Precision (Positive): 0.7074074074074074\n",
      "  Precision (Negative): 0.837967401725791\n",
      "  Recall (Positive): 0.5305555555555556\n",
      "  Recall (Negative): 0.9171038824763903\n",
      "  F1 Score (Positive): 0.6063492063492063\n",
      "  F1 Score (Negative): 0.875751503006012\n",
      "  AUC: 0.8527442578990322\n",
      "\n",
      "Average Metrics:\n",
      "  Average Accuracy: 0.8112718964204113\n",
      "  Average Precision (Positive): 0.7099125030117207\n",
      "  Average Precision (Negative): 0.8421321749041988\n",
      "  Average Recall (Positive): 0.5728235519663158\n",
      "  Average Recall (Negative): 0.9061033212080745\n",
      "  Average F1 Score (Positive): 0.6332516037838791\n",
      "  Average F1 Score (Negative): 0.872839935263453\n",
      "  Average AUC: 0.8596783281580789\n"
     ]
    }
   ],
   "source": [
    "import numpy as np\n",
    "from sklearn.model_selection import KFold\n",
    "from sklearn.ensemble import RandomForestClassifier\n",
    "from sklearn.metrics import accuracy_score, precision_score, recall_score, f1_score, roc_auc_score\n",
    "\n",
    "def fit_model_cv_RF(data, target, KF, class_weights=None):\n",
    "\n",
    "    # Specify the name of your target variable\n",
    "    target_column_name = target\n",
    "\n",
    "    # Split the data into features (X) and the target variable (y)\n",
    "    features = data.drop(columns=[target])\n",
    "    X = features.values\n",
    "    y = data[target_column_name].values\n",
    "\n",
    "    # Number of folds for cross-validation\n",
    "    num_folds = KF\n",
    "\n",
    "    # Create Random Forest classifier\n",
    "    if class_weights:\n",
    "        rf = RandomForestClassifier(class_weight='balanced')\n",
    "    else:\n",
    "        rf = RandomForestClassifier()\n",
    "\n",
    "    # Create KFold cross-validator\n",
    "    kf = KFold(n_splits=num_folds, shuffle=True, random_state=42)\n",
    "\n",
    "    # Initialize variables to store overall metrics\n",
    "    overall_accuracy = 0\n",
    "    overall_precision_pos = 0\n",
    "    overall_precision_neg = 0\n",
    "    overall_recall_pos = 0\n",
    "    overall_recall_neg = 0\n",
    "    overall_f1_pos = 0\n",
    "    overall_f1_neg = 0\n",
    "    overall_auc = 0\n",
    "\n",
    "    # Perform cross-validation\n",
    "    for fold, (train_index, test_index) in enumerate(kf.split(X), 1):\n",
    "        X_train, X_test = X[train_index], X[test_index]\n",
    "        y_train, y_test = y[train_index], y[test_index]\n",
    "\n",
    "        # Train Random Forest model\n",
    "        rf.fit(X_train, y_train)\n",
    "\n",
    "        # Make predictions on the test set\n",
    "        predictions = rf.predict(X_test)\n",
    "\n",
    "        # Calculate metrics for this fold\n",
    "        fold_accuracy = accuracy_score(y_test, predictions)\n",
    "        fold_precision_pos = precision_score(y_test, predictions, pos_label=1)\n",
    "        fold_precision_neg = precision_score(y_test, predictions, pos_label=0)\n",
    "        fold_recall_pos = recall_score(y_test, predictions, pos_label=1)\n",
    "        fold_recall_neg = recall_score(y_test, predictions, pos_label=0)\n",
    "        fold_f1_pos = f1_score(y_test, predictions, pos_label=1)\n",
    "        fold_f1_neg = f1_score(y_test, predictions, pos_label=0)\n",
    "        fold_auc = roc_auc_score(y_test, rf.predict_proba(X_test)[:, 1])\n",
    "\n",
    "        print(f\"Fold {fold}:\")\n",
    "        print(f\"  Accuracy: {fold_accuracy}\")\n",
    "        print(f\"  Precision (Positive): {fold_precision_pos}\")\n",
    "        print(f\"  Precision (Negative): {fold_precision_neg}\")\n",
    "        print(f\"  Recall (Positive): {fold_recall_pos}\")\n",
    "        print(f\"  Recall (Negative): {fold_recall_neg}\")\n",
    "        print(f\"  F1 Score (Positive): {fold_f1_pos}\")\n",
    "        print(f\"  F1 Score (Negative): {fold_f1_neg}\")\n",
    "        print(f\"  AUC: {fold_auc}\")\n",
    "\n",
    "        # Add fold metrics to overall metrics\n",
    "        overall_accuracy += fold_accuracy\n",
    "        overall_precision_pos += fold_precision_pos\n",
    "        overall_precision_neg += fold_precision_neg\n",
    "        overall_recall_pos += fold_recall_pos\n",
    "        overall_recall_neg += fold_recall_neg\n",
    "        overall_f1_pos += fold_f1_pos\n",
    "        overall_f1_neg += fold_f1_neg\n",
    "        overall_auc += fold_auc\n",
    "\n",
    "    # Calculate and print average metrics across all folds\n",
    "    average_accuracy = overall_accuracy / num_folds\n",
    "    average_precision_pos = overall_precision_pos / num_folds\n",
    "    average_precision_neg = overall_precision_neg / num_folds\n",
    "    average_recall_pos = overall_recall_pos / num_folds\n",
    "    average_recall_neg = overall_recall_neg / num_folds\n",
    "    average_f1_pos = overall_f1_pos / num_folds\n",
    "    average_f1_neg = overall_f1_neg / num_folds\n",
    "    average_auc = overall_auc / num_folds\n",
    "\n",
    "    print(\"\\nAverage Metrics:\")\n",
    "    print(f\"  Average Accuracy: {average_accuracy}\")\n",
    "    print(f\"  Average Precision (Positive): {average_precision_pos}\")\n",
    "    print(f\"  Average Precision (Negative): {average_precision_neg}\")\n",
    "    print(f\"  Average Recall (Positive): {average_recall_pos}\")\n",
    "    print(f\"  Average Recall (Negative): {average_recall_neg}\")\n",
    "    print(f\"  Average F1 Score (Positive): {average_f1_pos}\")\n",
    "    print(f\"  Average F1 Score (Negative): {average_f1_neg}\")\n",
    "    print(f\"  Average AUC: {average_auc}\")\n",
    "\n",
    "# Example usage with class weighting and 5-fold cross-validation\n",
    "fit_model_cv_RF(balanced_data3, 'Churn', 5, class_weights='balanced')\n"
   ]
  },
  {
   "cell_type": "markdown",
   "id": "5e20c9c3",
   "metadata": {},
   "source": [
    "## Feature Engineering"
   ]
  },
  {
   "cell_type": "markdown",
   "id": "44608648",
   "metadata": {},
   "source": [
    "### Variance Thresholding"
   ]
  },
  {
   "cell_type": "code",
   "execution_count": 169,
   "id": "1c9562b2",
   "metadata": {},
   "outputs": [
    {
     "name": "stdout",
     "output_type": "stream",
     "text": [
      "Indices of selected features: [ 4 16 17 18]\n",
      "Selected features: ['tenure', 'PaymentMethod', 'MonthlyCharges', 'TotalCharges']\n"
     ]
    }
   ],
   "source": [
    "selected_indices, selected_features=select_features_variance_threshold(balanced_data3, threshold=1.0)\n",
    "print(\"Indices of selected features:\", selected_indices)\n",
    "print(\"Selected features:\", selected_features)"
   ]
  },
  {
   "cell_type": "code",
   "execution_count": 170,
   "id": "fdb126ca",
   "metadata": {},
   "outputs": [
    {
     "name": "stdout",
     "output_type": "stream",
     "text": [
      "Train Accuracy: 0.9786747905559787\n",
      "Validation Accuracy: 0.7654226961157654\n",
      "Test Accuracy: 0.7844630616907845\n",
      "\n",
      "\n",
      "Train Precision: 0.9793583155482032\n",
      "Validation Precision: 0.7579243045398624\n",
      "Test Precision: 0.7788617961885288\n",
      "\n",
      "\n",
      "Train Recall: 0.9786747905559787\n",
      "Validation Recall: 0.7654226961157654\n",
      "Test Recall: 0.7844630616907845\n",
      "\n",
      "\n",
      "Train F1 Score: 0.9788152356349694\n",
      "Validation F1 Score: 0.7607297580944292\n",
      "Test F1 Score: 0.7810417517116574\n",
      "\n",
      "\n",
      "AUC-ROC: 0.8185156429721647\n",
      "AUC-PR: 0.6486265577121111\n"
     ]
    }
   ],
   "source": [
    "selected_features.append('Churn')\n",
    "var_thrsh_data=balanced_data3[selected_features]\n",
    "fit_model_RF(var_thrsh_data,'Churn',class_weights='balanced' )"
   ]
  },
  {
   "cell_type": "markdown",
   "id": "600cee50",
   "metadata": {},
   "source": [
    "### Wrapper Method "
   ]
  },
  {
   "cell_type": "markdown",
   "id": "dc0758b9",
   "metadata": {},
   "source": [
    "#### Recursive Feature Elimination"
   ]
  },
  {
   "cell_type": "code",
   "execution_count": 171,
   "id": "990a3062",
   "metadata": {},
   "outputs": [
    {
     "name": "stdout",
     "output_type": "stream",
     "text": [
      "Train Accuracy: 0.9530337649149531\n",
      "Validation Accuracy: 0.7509520182787509\n",
      "Test Accuracy: 0.7707539984767707\n",
      "\n",
      "\n",
      "Train Precision: 0.9566016527466422\n",
      "Validation Precision: 0.7491617899368147\n",
      "Test Precision: 0.772901748443294\n",
      "\n",
      "\n",
      "Train Recall: 0.9530337649149531\n",
      "Validation Recall: 0.7509520182787509\n",
      "Test Recall: 0.7707539984767707\n",
      "\n",
      "\n",
      "Train F1 Score: 0.9537313763874846\n",
      "Validation F1 Score: 0.7500198925266822\n",
      "Test F1 Score: 0.7717708639557052\n",
      "\n",
      "\n",
      "AUC-ROC: 0.833727283183805\n",
      "AUC-PR: 0.668310642197196\n"
     ]
    }
   ],
   "source": [
    "fit_model_RF(wrapper_data_rfe,'Churn', class_weights='balanced')"
   ]
  },
  {
   "cell_type": "markdown",
   "id": "ecef99f1",
   "metadata": {},
   "source": [
    "#### Forward Feature Selection"
   ]
  },
  {
   "cell_type": "code",
   "execution_count": 172,
   "id": "81c83cfd",
   "metadata": {},
   "outputs": [
    {
     "name": "stdout",
     "output_type": "stream",
     "text": [
      "Train Accuracy: 0.9565879664889566\n",
      "Validation Accuracy: 0.7623762376237624\n",
      "Test Accuracy: 0.7791317593297792\n",
      "\n",
      "\n",
      "Train Precision: 0.9588710490800253\n",
      "Validation Precision: 0.7569800397027073\n",
      "Test Precision: 0.7763290737142232\n",
      "\n",
      "\n",
      "Train Recall: 0.9565879664889566\n",
      "Validation Recall: 0.7623762376237624\n",
      "Test Recall: 0.7791317593297792\n",
      "\n",
      "\n",
      "Train F1 Score: 0.9570910993790275\n",
      "Validation F1 Score: 0.7592483449322395\n",
      "Test F1 Score: 0.7776047117989706\n",
      "\n",
      "\n",
      "AUC-ROC: 0.8242336668967104\n",
      "AUC-PR: 0.6534546087412768\n"
     ]
    }
   ],
   "source": [
    "fit_model_RF(wrapper_data_ffs,'Churn',class_weights='balanced')"
   ]
  },
  {
   "cell_type": "markdown",
   "id": "7977e416",
   "metadata": {},
   "source": [
    "### Principal Component Analysis"
   ]
  },
  {
   "cell_type": "code",
   "execution_count": 173,
   "id": "02a07b23",
   "metadata": {},
   "outputs": [
    {
     "name": "stdout",
     "output_type": "stream",
     "text": [
      "Train Accuracy: 0.9911144960649911\n",
      "Validation Accuracy: 0.805026656511805\n",
      "Test Accuracy: 0.8126428027418127\n",
      "\n",
      "\n",
      "Train Precision: 0.9912309208642708\n",
      "Validation Precision: 0.7965334150675855\n",
      "Test Precision: 0.8053051483293975\n",
      "\n",
      "\n",
      "Train Recall: 0.9911144960649911\n",
      "Validation Recall: 0.805026656511805\n",
      "Test Recall: 0.8126428027418127\n",
      "\n",
      "\n",
      "Train F1 Score: 0.991138770808716\n",
      "Validation F1 Score: 0.7967845113801622\n",
      "Test F1 Score: 0.8063600515905828\n",
      "\n",
      "\n",
      "AUC-ROC: 0.8645603289625029\n",
      "AUC-PR: 0.7129573532023656\n"
     ]
    }
   ],
   "source": [
    "fit_model_RF(X_pca_df,'Churn', class_weights='balanced')"
   ]
  },
  {
   "cell_type": "markdown",
   "id": "e008ce87",
   "metadata": {},
   "source": [
    "**Comment :** Again traning data has overfit. Cross validation is better in that case. AUC score is good with PCA. Overall not a reliable model."
   ]
  },
  {
   "cell_type": "markdown",
   "id": "e10fe68c",
   "metadata": {},
   "source": [
    "# ALGORITHM 5: MultiLayer Perecptron "
   ]
  },
  {
   "cell_type": "markdown",
   "id": "f59ed212",
   "metadata": {},
   "source": [
    "### MODEL SELECTION"
   ]
  },
  {
   "cell_type": "markdown",
   "id": "4a7fe6dc",
   "metadata": {},
   "source": [
    "### Manual Splitting:"
   ]
  },
  {
   "cell_type": "code",
   "execution_count": 154,
   "id": "cf8bb2a1",
   "metadata": {},
   "outputs": [
    {
     "name": "stdout",
     "output_type": "stream",
     "text": [
      "Train Accuracy: 0.8646864686468647\n",
      "Validation Accuracy: 0.8004569687738005\n",
      "Test Accuracy: 0.7966488956587966\n",
      "\n",
      "\n",
      "Train Precision: 0.8618153305733536\n",
      "Validation Precision: 0.7956538994818918\n",
      "Test Precision: 0.7961479692940016\n",
      "\n",
      "\n",
      "Train Recall: 0.8646864686468647\n",
      "Validation Recall: 0.8004569687738005\n",
      "Test Recall: 0.7966488956587966\n",
      "\n",
      "\n",
      "Train F1 Score: 0.8622377089023667\n",
      "Validation F1 Score: 0.7974496536320735\n",
      "Test F1 Score: 0.796393895063112\n",
      "\n",
      "\n",
      "AUC-ROC: 0.8485075914423741\n",
      "AUC-PR: 0.6818001372378291\n"
     ]
    },
    {
     "name": "stderr",
     "output_type": "stream",
     "text": [
      "C:\\Users\\hinaa\\anaconda3\\Lib\\site-packages\\sklearn\\neural_network\\_multilayer_perceptron.py:691: ConvergenceWarning: Stochastic Optimizer: Maximum iterations (200) reached and the optimization hasn't converged yet.\n",
      "  warnings.warn(\n"
     ]
    }
   ],
   "source": [
    "import numpy as np\n",
    "import pandas as pd\n",
    "from sklearn.model_selection import train_test_split\n",
    "from sklearn.neural_network import MLPClassifier\n",
    "from sklearn.metrics import accuracy_score, precision_score, recall_score, f1_score, roc_auc_score, roc_curve, auc, average_precision_score, precision_recall_curve\n",
    "\n",
    "def fit_model_MLP(data, target, class_weights=None, zero_division=1):\n",
    "    \n",
    "    # Specify the name of your target variable\n",
    "    target_column_name = target\n",
    "\n",
    "    # Split the data into features (X) and the target variable (y)\n",
    "    X = data.drop(columns=[target])\n",
    "    y = data[target_column_name]  # Use the column name directly\n",
    "\n",
    "    # The data is split into training (60%), validation (20%), and test (20%) manually.\n",
    "    train_size = 0.6\n",
    "    validation_size = 0.2\n",
    "    test_size = 0.2\n",
    "\n",
    "    X_train, X_temp, y_train, y_temp = train_test_split(X, y, test_size=1 - train_size, random_state=42)\n",
    "    X_val, X_test, y_val, y_test = train_test_split(X_temp, y_temp, test_size=test_size / (validation_size + test_size), random_state=42)\n",
    "\n",
    "    X_train = np.ascontiguousarray(X_train)\n",
    "    X_val = np.ascontiguousarray(X_val)\n",
    "    X_test = np.ascontiguousarray(X_test)\n",
    "\n",
    "    # Instantiate the MLP classifier\n",
    "    mlp_model = MLPClassifier(random_state=42)\n",
    "\n",
    "    # Fit the model to the training data\n",
    "    if class_weights:\n",
    "        mlp_model.fit(X_train, y_train)\n",
    "    else:\n",
    "        mlp_model.fit(X_train, y_train)\n",
    "\n",
    "    # Evaluate the model's performance on the train set\n",
    "    y_train_pred = mlp_model.predict(X_train)\n",
    "    accuracy_train = accuracy_score(y_train, y_train_pred)\n",
    "    precision_train = precision_score(y_train, y_train_pred, average='weighted', zero_division=1)\n",
    "    recall_train = recall_score(y_train, y_train_pred, average='weighted')\n",
    "    f1_train = f1_score(y_train, y_train_pred, average='weighted')\n",
    "    \n",
    "    # Make predictions on the validation set\n",
    "    y_val_pred = mlp_model.predict(X_val)\n",
    "\n",
    "    # Evaluate the model's performance on the validation set\n",
    "    accuracy_val = accuracy_score(y_val, y_val_pred)\n",
    "    precision_val = precision_score(y_val, y_val_pred, average='weighted')\n",
    "    recall_val = recall_score(y_val, y_val_pred, average='weighted')\n",
    "    f1_val = f1_score(y_val, y_val_pred, average='weighted')\n",
    "    \n",
    "    # Make predictions on the test set\n",
    "    y_test_pred = mlp_model.predict(X_test)\n",
    "\n",
    "    # Evaluate the model's performance on the test set\n",
    "    accuracy_test = accuracy_score(y_test, y_test_pred)\n",
    "    precision_test = precision_score(y_test, y_test_pred, average='weighted')\n",
    "    recall_test = recall_score(y_test, y_test_pred, average='weighted')\n",
    "    f1_test = f1_score(y_test, y_test_pred, average='weighted') \n",
    "\n",
    "    # Calculate AUC-ROC\n",
    "    y_test_proba = mlp_model.predict_proba(X_test)[:, 1]  # Probability of positive class\n",
    "    fpr, tpr, _ = roc_curve(y_test, y_test_proba)\n",
    "    roc_auc = auc(fpr, tpr)\n",
    "\n",
    "    # Calculate AUC-PR\n",
    "    precision, recall, _ = precision_recall_curve(y_test, y_test_proba)\n",
    "    auc_pr = auc(recall, precision)\n",
    "    \n",
    "    print(f\"Train Accuracy: {accuracy_train}\")\n",
    "    print(f\"Validation Accuracy: {accuracy_val}\")\n",
    "    print(f\"Test Accuracy: {accuracy_test}\")\n",
    "    print('\\n')\n",
    "    print(f\"Train Precision: {precision_train}\")\n",
    "    print(f\"Validation Precision: {precision_val}\")\n",
    "    print(f\"Test Precision: {precision_test}\")\n",
    "    print('\\n')\n",
    "    print(f\"Train Recall: {recall_train}\")\n",
    "    print(f\"Validation Recall: {recall_val}\")\n",
    "    print(f\"Test Recall: {recall_test}\")\n",
    "    print('\\n')\n",
    "    print(f\"Train F1 Score: {f1_train}\")\n",
    "    print(f\"Validation F1 Score: {f1_val}\")\n",
    "    print(f\"Test F1 Score: {f1_test}\")\n",
    "    print('\\n')\n",
    "    print(f\"AUC-ROC: {roc_auc}\")\n",
    "    print(f\"AUC-PR: {auc_pr}\")\n",
    "\n",
    "# Example usage with class weighting\n",
    "fit_model_MLP(balanced_data3, 'Churn', class_weights='balanced')\n"
   ]
  },
  {
   "cell_type": "markdown",
   "id": "ca1f7593",
   "metadata": {},
   "source": [
    "## Feature Selection"
   ]
  },
  {
   "cell_type": "markdown",
   "id": "9da787d0",
   "metadata": {},
   "source": [
    "### Variance Thresholding"
   ]
  },
  {
   "cell_type": "code",
   "execution_count": 155,
   "id": "38946e81",
   "metadata": {},
   "outputs": [
    {
     "name": "stdout",
     "output_type": "stream",
     "text": [
      "Indices of selected features: [ 4  6  7  8  9 10 11 12 13 14 16 17 18]\n",
      "Selected features: ['tenure', 'MultipleLines', 'InternetService', 'OnlineSecurity', 'OnlineBackup', 'DeviceProtection', 'TechSupport', 'StreamingTV', 'StreamingMovies', 'Contract', 'PaymentMethod', 'MonthlyCharges', 'TotalCharges']\n"
     ]
    }
   ],
   "source": [
    "selected_indices, selected_features=select_features_variance_threshold(balanced_data3, threshold=0.5)\n",
    "print(\"Indices of selected features:\", selected_indices)\n",
    "print(\"Selected features:\", selected_features)\n"
   ]
  },
  {
   "cell_type": "code",
   "execution_count": 156,
   "id": "0fd83def",
   "metadata": {},
   "outputs": [
    {
     "name": "stdout",
     "output_type": "stream",
     "text": [
      "Train Accuracy: 0.8420919014978421\n",
      "Validation Accuracy: 0.8004569687738005\n",
      "Test Accuracy: 0.8126428027418127\n",
      "\n",
      "\n",
      "Train Precision: 0.8387094093406632\n",
      "Validation Precision: 0.7966524876866855\n",
      "Test Precision: 0.8114407178872702\n",
      "\n",
      "\n",
      "Train Recall: 0.8420919014978421\n",
      "Validation Recall: 0.8004569687738005\n",
      "Test Recall: 0.8126428027418127\n",
      "\n",
      "\n",
      "Train F1 Score: 0.8397143461293225\n",
      "Validation F1 Score: 0.7982036425845042\n",
      "Test F1 Score: 0.8120082194303104\n",
      "\n",
      "\n",
      "AUC-ROC: 0.8633051529790661\n",
      "AUC-PR: 0.6992775307986023\n"
     ]
    },
    {
     "name": "stderr",
     "output_type": "stream",
     "text": [
      "C:\\Users\\hinaa\\anaconda3\\Lib\\site-packages\\sklearn\\neural_network\\_multilayer_perceptron.py:691: ConvergenceWarning: Stochastic Optimizer: Maximum iterations (200) reached and the optimization hasn't converged yet.\n",
      "  warnings.warn(\n"
     ]
    }
   ],
   "source": [
    "selected_features.append('Churn')\n",
    "var_thrsh_data=balanced_data3[selected_features]\n",
    "fit_model_MLP(var_thrsh_data,'Churn', class_weights='balanced')"
   ]
  },
  {
   "cell_type": "markdown",
   "id": "9244da2a",
   "metadata": {},
   "source": [
    "### Wrapper Method "
   ]
  },
  {
   "cell_type": "markdown",
   "id": "982bdf39",
   "metadata": {},
   "source": [
    "#### Recursive Feature Elimination"
   ]
  },
  {
   "cell_type": "code",
   "execution_count": 157,
   "id": "e27d4ab2",
   "metadata": {},
   "outputs": [
    {
     "name": "stdout",
     "output_type": "stream",
     "text": [
      "Train Accuracy: 0.8065498857578065\n",
      "Validation Accuracy: 0.789032749428789\n",
      "Test Accuracy: 0.8118811881188119\n",
      "\n",
      "\n",
      "Train Precision: 0.7987723874469997\n",
      "Validation Precision: 0.7803546923159239\n",
      "Test Precision: 0.8056838968454635\n",
      "\n",
      "\n",
      "Train Recall: 0.8065498857578065\n",
      "Validation Recall: 0.789032749428789\n",
      "Test Recall: 0.8118811881188119\n",
      "\n",
      "\n",
      "Train F1 Score: 0.799308391561164\n",
      "Validation F1 Score: 0.7824564446601978\n",
      "Test F1 Score: 0.8073496468432028\n",
      "\n",
      "\n",
      "AUC-ROC: 0.8675595238095238\n",
      "AUC-PR: 0.6985137144841066\n"
     ]
    }
   ],
   "source": [
    "fit_model_MLP(wrapper_data_rfe,'Churn', class_weights='balanced')"
   ]
  },
  {
   "cell_type": "markdown",
   "id": "b84fc560",
   "metadata": {},
   "source": [
    "#### Forward Feature Selection"
   ]
  },
  {
   "cell_type": "code",
   "execution_count": 158,
   "id": "a142d49d",
   "metadata": {},
   "outputs": [
    {
     "name": "stdout",
     "output_type": "stream",
     "text": [
      "Train Accuracy: 0.8136582889058137\n",
      "Validation Accuracy: 0.7989337395277989\n",
      "Test Accuracy: 0.8134044173648134\n",
      "\n",
      "\n",
      "Train Precision: 0.8069430662076313\n",
      "Validation Precision: 0.7904804036482318\n",
      "Test Precision: 0.8066831602154887\n",
      "\n",
      "\n",
      "Train Recall: 0.8136582889058137\n",
      "Validation Recall: 0.7989337395277989\n",
      "Test Recall: 0.8134044173648134\n",
      "\n",
      "\n",
      "Train F1 Score: 0.807805531606862\n",
      "Validation F1 Score: 0.7918667264614141\n",
      "Test F1 Score: 0.8080978952587887\n",
      "\n",
      "\n",
      "AUC-ROC: 0.8626739705544053\n",
      "AUC-PR: 0.7017581648702201\n"
     ]
    }
   ],
   "source": [
    "fit_model_MLP(wrapper_data_ffs,'Churn', class_weights='balanced')"
   ]
  },
  {
   "cell_type": "markdown",
   "id": "9bf3bdee",
   "metadata": {},
   "source": [
    "### Principal Component Analysis"
   ]
  },
  {
   "cell_type": "code",
   "execution_count": 159,
   "id": "c09e6e1a",
   "metadata": {},
   "outputs": [
    {
     "name": "stdout",
     "output_type": "stream",
     "text": [
      "Train Accuracy: 0.8723026148768723\n",
      "Validation Accuracy: 0.7913175932977913\n",
      "Test Accuracy: 0.7989337395277989\n",
      "\n",
      "\n",
      "Train Precision: 0.8696890575126462\n",
      "Validation Precision: 0.7842972259792084\n",
      "Test Precision: 0.7967141616568418\n",
      "\n",
      "\n",
      "Train Recall: 0.8723026148768723\n",
      "Validation Recall: 0.7913175932977913\n",
      "Test Recall: 0.7989337395277989\n",
      "\n",
      "\n",
      "Train F1 Score: 0.8698246186786316\n",
      "Validation F1 Score: 0.7865005572363767\n",
      "Test F1 Score: 0.7977235578435572\n",
      "\n",
      "\n",
      "AUC-ROC: 0.8545404876926617\n",
      "AUC-PR: 0.6910566547760814\n"
     ]
    },
    {
     "name": "stderr",
     "output_type": "stream",
     "text": [
      "C:\\Users\\hinaa\\anaconda3\\Lib\\site-packages\\sklearn\\neural_network\\_multilayer_perceptron.py:691: ConvergenceWarning: Stochastic Optimizer: Maximum iterations (200) reached and the optimization hasn't converged yet.\n",
      "  warnings.warn(\n"
     ]
    }
   ],
   "source": [
    "fit_model_MLP(X_pca_df,'Churn', class_weights='balanced')"
   ]
  },
  {
   "cell_type": "markdown",
   "id": "6ee2e783",
   "metadata": {},
   "source": [
    "**COMMENT :** Here as well, some hints of overfitting but it is still better than random forest and decision trees. Wrapper's methods performed better with MLP and AUC score with wrappers' was also much better than with PCA and other techniques."
   ]
  },
  {
   "cell_type": "markdown",
   "id": "39e87334",
   "metadata": {},
   "source": [
    "### **COMBINED INTERPRETATION :**"
   ]
  },
  {
   "cell_type": "markdown",
   "id": "683a5600",
   "metadata": {},
   "source": [
    "**Baseline Execution of Different Algorithms :**\n",
    "Despite the dataset's imbalance, Logistic Regression and Random Forest exhibited relatively good performance, which may be misleading as imbalanced datasets favor the majority class. However, their high scores didn't necessarily indicate good models, as evidenced by consistently low AUC-ROC and AUC-PR scores. XGBoost, Decision Trees, and Multilayer Perceptron overfit the training data, leading to a significant drop in performance on validation and testing datasets. Overall, none of the models performed satisfactorily, highlighting the crucial importance of handling imbalance for model generalization.\n",
    "\n",
    "\n",
    "**Oversampling (Class Imbalance Technique 1) :**\n",
    "With oversampling, Gradient Boosting Machine (GBM) showed signs of overfitting, but feature selection methods like Wrapper's RFE improved generalizability, albeit at the cost of performance. Logistic Regression demonstrated good generalization, with high AUC scores indicating effective handling of imbalance, although feature selection didn't significantly enhance performance. Decision Trees exhibited overfitting but showed good generalizability and effective imbalance handling. However, feature selectors weren't particularly helpful. Random Forest showed performance similar to Decision Trees, and Multilayer Perceptron, while not performing as well as ensemble algorithms, showed good generalization and effective imbalance handling.\n",
    "\n",
    "**Clustering Undersample (Class Imbalance Technique 2) :**\n",
    "With clustering undersampling, models didn't perform well. Gradient Boosting Machine showed poor performance, even with feature selection, indicating overfitting, and ineffective imbalance handling. Logistic Regression's performance was consistently poor, regardless of feature selection. Decision Trees and Random Forest showed poor performance but better AUC scores, suggesting relatively effective imbalance handling.\n",
    "\n",
    "**Class Weighting (Class Imbalance Technique 3) :**\n",
    "Class weighting improved model performance in cross validation across different folds for Gradient Boosting Machine, with consistent good scores, although manual splitting and feature selection led to overfitting on the training data. Logistic Regression emerged as a well-generalized and good model, with better AUC scores with PCA. Decision Trees and Random Forest exhibited overfitting in training data, but cross-validation improved performance. Multilayer Perceptron showed some hints of overfitting but outperformed Random Forest and Decision Trees. Wrapper's methods improved performance and AUC scores significantly.\n",
    "\n",
    "\n",
    "\n",
    "\n",
    "\n",
    "\n"
   ]
  },
  {
   "cell_type": "code",
   "execution_count": null,
   "id": "4050cc34",
   "metadata": {},
   "outputs": [],
   "source": []
  }
 ],
 "metadata": {
  "kernelspec": {
   "display_name": "Python 3 (ipykernel)",
   "language": "python",
   "name": "python3"
  },
  "language_info": {
   "codemirror_mode": {
    "name": "ipython",
    "version": 3
   },
   "file_extension": ".py",
   "mimetype": "text/x-python",
   "name": "python",
   "nbconvert_exporter": "python",
   "pygments_lexer": "ipython3",
   "version": "3.11.4"
  }
 },
 "nbformat": 4,
 "nbformat_minor": 5
}
